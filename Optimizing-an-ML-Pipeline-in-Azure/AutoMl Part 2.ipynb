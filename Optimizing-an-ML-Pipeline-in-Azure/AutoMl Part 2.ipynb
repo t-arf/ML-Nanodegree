{
 "cells": [
  {
   "cell_type": "code",
   "execution_count": 2,
   "metadata": {
    "gather": {
     "logged": 1606127808845
    }
   },
   "outputs": [
    {
     "name": "stdout",
     "output_type": "stream",
     "text": [
      "Workspace name: quick-starts-ws-127521\n",
      "Azure region: southcentralus\n",
      "Subscription id: 8bb47da5-84b5-43cf-bd4a-97928e5c9b08\n",
      "Resource group: aml-quickstarts-127521\n"
     ]
    }
   ],
   "source": [
    "from azureml.core import Workspace, Experiment\n",
    "\n",
    "ws = Workspace.get(name=\"quick-starts-ws-127521\")\n",
    "exp2 = Experiment(workspace=ws, name=\"automl\")\n",
    "\n",
    "print('Workspace name: ' + ws.name, \n",
    "      'Azure region: ' + ws.location, \n",
    "      'Subscription id: ' + ws.subscription_id, \n",
    "      'Resource group: ' + ws.resource_group, sep = '\\n')\n",
    "\n",
    "run = exp2.start_logging()"
   ]
  },
  {
   "cell_type": "code",
   "execution_count": 3,
   "metadata": {
    "gather": {
     "logged": 1606127814285
    }
   },
   "outputs": [
    {
     "name": "stdout",
     "output_type": "stream",
     "text": [
      "Create a new compute target\n"
     ]
    }
   ],
   "source": [
    "from azureml.core.compute import ComputeTarget, AmlCompute\n",
    "from azureml.core.compute_target import ComputeTargetException\n",
    "\n",
    "\n",
    "# TODO: Create compute cluster\n",
    "# Use vm_size = \"Standard_D2_V2\" in your provisioning configuration.\n",
    "# max_nodes should be no greater than 4.\n",
    "cluster2=\"automl\"\n",
    "try:\n",
    "  compute_target=ComputeTarget(workspace=ws,name=cluster2)\n",
    "  print(\"Compute target exists\")\n",
    "except ComputeTargetException:\n",
    "  print('Create a new compute target')\n",
    "  compute_config=AmlCompute.provisioning_configuration(vm_size='Standard_D2_V2',max_nodes=4)\n",
    "  compute_target=ComputeTarget.create(ws,cluster2,compute_config)\n",
    "  \n",
    "\n",
    "### YOUR CODE HERE ###"
   ]
  },
  {
   "cell_type": "code",
   "execution_count": 6,
   "metadata": {
    "gather": {
     "logged": 1606127965940
    }
   },
   "outputs": [],
   "source": [
    "from azureml.data.dataset_factory import TabularDatasetFactory\n",
    "\n",
    "# Create TabularDataset using TabularDatasetFactory\n",
    "# Data is available at: \n",
    "# \"https://automlsamplenotebookdata.blob.core.windows.net/automl-sample-notebook-data/bankmarketing_train.csv\"\n",
    "\n",
    "### YOUR CODE HERE ###\n",
    "tabular = TabularDatasetFactory.from_delimited_files(\"https://automlsamplenotebookdata.blob.core.windows.net/automl-sample-notebook-data/bankmarketing_train.csv\"\n",
    ") #here we convert the csv file to tabular dataset format which can be used by automl"
   ]
  },
  {
   "cell_type": "code",
   "execution_count": 7,
   "metadata": {
    "collapsed": true,
    "gather": {
     "logged": 1606127971207
    },
    "jupyter": {
     "outputs_hidden": false,
     "source_hidden": false
    },
    "nteract": {
     "transient": {
      "deleting": false
     }
    }
   },
   "outputs": [
    {
     "data": {
      "text/plain": [
       "{\n",
       "  \"source\": [\n",
       "    \"https://automlsamplenotebookdata.blob.core.windows.net/automl-sample-notebook-data/bankmarketing_train.csv\"\n",
       "  ],\n",
       "  \"definition\": [\n",
       "    \"GetFiles\",\n",
       "    \"ParseDelimited\",\n",
       "    \"DropColumns\",\n",
       "    \"SetColumnTypes\"\n",
       "  ]\n",
       "}"
      ]
     },
     "execution_count": 7,
     "metadata": {},
     "output_type": "execute_result"
    }
   ],
   "source": [
    "tabular"
   ]
  },
  {
   "cell_type": "code",
   "execution_count": 8,
   "metadata": {
    "gather": {
     "logged": 1606127990331
    }
   },
   "outputs": [],
   "source": [
    "from train import clean_data\n",
    "import pandas as pd\n",
    "# Use the clean_data function to clean your data.\n",
    "x, y = clean_data(tabular)\n"
   ]
  },
  {
   "cell_type": "code",
   "execution_count": 9,
   "metadata": {
    "collapsed": true,
    "gather": {
     "logged": 1606128032271
    },
    "jupyter": {
     "outputs_hidden": false,
     "source_hidden": false
    },
    "nteract": {
     "transient": {
      "deleting": false
     }
    }
   },
   "outputs": [
    {
     "data": {
      "text/html": [
       "<div>\n",
       "<style scoped>\n",
       "    .dataframe tbody tr th:only-of-type {\n",
       "        vertical-align: middle;\n",
       "    }\n",
       "\n",
       "    .dataframe tbody tr th {\n",
       "        vertical-align: top;\n",
       "    }\n",
       "\n",
       "    .dataframe thead th {\n",
       "        text-align: right;\n",
       "    }\n",
       "</style>\n",
       "<table border=\"1\" class=\"dataframe\">\n",
       "  <thead>\n",
       "    <tr style=\"text-align: right;\">\n",
       "      <th></th>\n",
       "      <th>age</th>\n",
       "      <th>marital</th>\n",
       "      <th>default</th>\n",
       "      <th>housing</th>\n",
       "      <th>loan</th>\n",
       "      <th>month</th>\n",
       "      <th>day_of_week</th>\n",
       "      <th>duration</th>\n",
       "      <th>campaign</th>\n",
       "      <th>pdays</th>\n",
       "      <th>...</th>\n",
       "      <th>contact_cellular</th>\n",
       "      <th>contact_telephone</th>\n",
       "      <th>education_basic.4y</th>\n",
       "      <th>education_basic.6y</th>\n",
       "      <th>education_basic.9y</th>\n",
       "      <th>education_high.school</th>\n",
       "      <th>education_illiterate</th>\n",
       "      <th>education_professional.course</th>\n",
       "      <th>education_university.degree</th>\n",
       "      <th>education_unknown</th>\n",
       "    </tr>\n",
       "  </thead>\n",
       "  <tbody>\n",
       "    <tr>\n",
       "      <th>0</th>\n",
       "      <td>57</td>\n",
       "      <td>1</td>\n",
       "      <td>0</td>\n",
       "      <td>0</td>\n",
       "      <td>1</td>\n",
       "      <td>5</td>\n",
       "      <td>1</td>\n",
       "      <td>371</td>\n",
       "      <td>1</td>\n",
       "      <td>999</td>\n",
       "      <td>...</td>\n",
       "      <td>1</td>\n",
       "      <td>0</td>\n",
       "      <td>0</td>\n",
       "      <td>0</td>\n",
       "      <td>0</td>\n",
       "      <td>1</td>\n",
       "      <td>0</td>\n",
       "      <td>0</td>\n",
       "      <td>0</td>\n",
       "      <td>0</td>\n",
       "    </tr>\n",
       "    <tr>\n",
       "      <th>1</th>\n",
       "      <td>55</td>\n",
       "      <td>1</td>\n",
       "      <td>0</td>\n",
       "      <td>1</td>\n",
       "      <td>0</td>\n",
       "      <td>5</td>\n",
       "      <td>4</td>\n",
       "      <td>285</td>\n",
       "      <td>2</td>\n",
       "      <td>999</td>\n",
       "      <td>...</td>\n",
       "      <td>0</td>\n",
       "      <td>1</td>\n",
       "      <td>0</td>\n",
       "      <td>0</td>\n",
       "      <td>0</td>\n",
       "      <td>0</td>\n",
       "      <td>0</td>\n",
       "      <td>0</td>\n",
       "      <td>0</td>\n",
       "      <td>1</td>\n",
       "    </tr>\n",
       "    <tr>\n",
       "      <th>2</th>\n",
       "      <td>33</td>\n",
       "      <td>1</td>\n",
       "      <td>0</td>\n",
       "      <td>0</td>\n",
       "      <td>0</td>\n",
       "      <td>5</td>\n",
       "      <td>5</td>\n",
       "      <td>52</td>\n",
       "      <td>1</td>\n",
       "      <td>999</td>\n",
       "      <td>...</td>\n",
       "      <td>1</td>\n",
       "      <td>0</td>\n",
       "      <td>0</td>\n",
       "      <td>0</td>\n",
       "      <td>1</td>\n",
       "      <td>0</td>\n",
       "      <td>0</td>\n",
       "      <td>0</td>\n",
       "      <td>0</td>\n",
       "      <td>0</td>\n",
       "    </tr>\n",
       "  </tbody>\n",
       "</table>\n",
       "<p>3 rows × 39 columns</p>\n",
       "</div>"
      ],
      "text/plain": [
       "   age  marital  default  housing  loan  month  day_of_week  duration  \\\n",
       "0   57        1        0        0     1      5            1       371   \n",
       "1   55        1        0        1     0      5            4       285   \n",
       "2   33        1        0        0     0      5            5        52   \n",
       "\n",
       "   campaign  pdays  ...  contact_cellular  contact_telephone  \\\n",
       "0         1    999  ...                 1                  0   \n",
       "1         2    999  ...                 0                  1   \n",
       "2         1    999  ...                 1                  0   \n",
       "\n",
       "   education_basic.4y  education_basic.6y  education_basic.9y  \\\n",
       "0                   0                   0                   0   \n",
       "1                   0                   0                   0   \n",
       "2                   0                   0                   1   \n",
       "\n",
       "   education_high.school  education_illiterate  education_professional.course  \\\n",
       "0                      1                     0                              0   \n",
       "1                      0                     0                              0   \n",
       "2                      0                     0                              0   \n",
       "\n",
       "   education_university.degree  education_unknown  \n",
       "0                            0                  0  \n",
       "1                            0                  1  \n",
       "2                            0                  0  \n",
       "\n",
       "[3 rows x 39 columns]"
      ]
     },
     "execution_count": 9,
     "metadata": {},
     "output_type": "execute_result"
    }
   ],
   "source": [
    "x.head(3)"
   ]
  },
  {
   "cell_type": "code",
   "execution_count": 10,
   "metadata": {
    "collapsed": true,
    "gather": {
     "logged": 1606128058728
    },
    "jupyter": {
     "outputs_hidden": false,
     "source_hidden": false
    },
    "nteract": {
     "transient": {
      "deleting": false
     }
    }
   },
   "outputs": [
    {
     "data": {
      "text/plain": [
       "0    0\n",
       "1    0\n",
       "2    0\n",
       "Name: y, dtype: int64"
      ]
     },
     "execution_count": 10,
     "metadata": {},
     "output_type": "execute_result"
    }
   ],
   "source": [
    "y.head(3)"
   ]
  },
  {
   "cell_type": "code",
   "execution_count": 11,
   "metadata": {
    "gather": {
     "logged": 1606128065973
    }
   },
   "outputs": [
    {
     "data": {
      "text/html": [
       "<div>\n",
       "<style scoped>\n",
       "    .dataframe tbody tr th:only-of-type {\n",
       "        vertical-align: middle;\n",
       "    }\n",
       "\n",
       "    .dataframe tbody tr th {\n",
       "        vertical-align: top;\n",
       "    }\n",
       "\n",
       "    .dataframe thead th {\n",
       "        text-align: right;\n",
       "    }\n",
       "</style>\n",
       "<table border=\"1\" class=\"dataframe\">\n",
       "  <thead>\n",
       "    <tr style=\"text-align: right;\">\n",
       "      <th></th>\n",
       "      <th>age</th>\n",
       "      <th>marital</th>\n",
       "      <th>default</th>\n",
       "      <th>housing</th>\n",
       "      <th>loan</th>\n",
       "      <th>month</th>\n",
       "      <th>day_of_week</th>\n",
       "      <th>duration</th>\n",
       "      <th>campaign</th>\n",
       "      <th>pdays</th>\n",
       "      <th>...</th>\n",
       "      <th>contact_telephone</th>\n",
       "      <th>education_basic.4y</th>\n",
       "      <th>education_basic.6y</th>\n",
       "      <th>education_basic.9y</th>\n",
       "      <th>education_high.school</th>\n",
       "      <th>education_illiterate</th>\n",
       "      <th>education_professional.course</th>\n",
       "      <th>education_university.degree</th>\n",
       "      <th>education_unknown</th>\n",
       "      <th>y</th>\n",
       "    </tr>\n",
       "  </thead>\n",
       "  <tbody>\n",
       "    <tr>\n",
       "      <th>0</th>\n",
       "      <td>57</td>\n",
       "      <td>1</td>\n",
       "      <td>0</td>\n",
       "      <td>0</td>\n",
       "      <td>1</td>\n",
       "      <td>5</td>\n",
       "      <td>1</td>\n",
       "      <td>371</td>\n",
       "      <td>1</td>\n",
       "      <td>999</td>\n",
       "      <td>...</td>\n",
       "      <td>0</td>\n",
       "      <td>0</td>\n",
       "      <td>0</td>\n",
       "      <td>0</td>\n",
       "      <td>1</td>\n",
       "      <td>0</td>\n",
       "      <td>0</td>\n",
       "      <td>0</td>\n",
       "      <td>0</td>\n",
       "      <td>0</td>\n",
       "    </tr>\n",
       "    <tr>\n",
       "      <th>1</th>\n",
       "      <td>55</td>\n",
       "      <td>1</td>\n",
       "      <td>0</td>\n",
       "      <td>1</td>\n",
       "      <td>0</td>\n",
       "      <td>5</td>\n",
       "      <td>4</td>\n",
       "      <td>285</td>\n",
       "      <td>2</td>\n",
       "      <td>999</td>\n",
       "      <td>...</td>\n",
       "      <td>1</td>\n",
       "      <td>0</td>\n",
       "      <td>0</td>\n",
       "      <td>0</td>\n",
       "      <td>0</td>\n",
       "      <td>0</td>\n",
       "      <td>0</td>\n",
       "      <td>0</td>\n",
       "      <td>1</td>\n",
       "      <td>0</td>\n",
       "    </tr>\n",
       "    <tr>\n",
       "      <th>2</th>\n",
       "      <td>33</td>\n",
       "      <td>1</td>\n",
       "      <td>0</td>\n",
       "      <td>0</td>\n",
       "      <td>0</td>\n",
       "      <td>5</td>\n",
       "      <td>5</td>\n",
       "      <td>52</td>\n",
       "      <td>1</td>\n",
       "      <td>999</td>\n",
       "      <td>...</td>\n",
       "      <td>0</td>\n",
       "      <td>0</td>\n",
       "      <td>0</td>\n",
       "      <td>1</td>\n",
       "      <td>0</td>\n",
       "      <td>0</td>\n",
       "      <td>0</td>\n",
       "      <td>0</td>\n",
       "      <td>0</td>\n",
       "      <td>0</td>\n",
       "    </tr>\n",
       "    <tr>\n",
       "      <th>3</th>\n",
       "      <td>36</td>\n",
       "      <td>1</td>\n",
       "      <td>0</td>\n",
       "      <td>0</td>\n",
       "      <td>0</td>\n",
       "      <td>6</td>\n",
       "      <td>5</td>\n",
       "      <td>355</td>\n",
       "      <td>4</td>\n",
       "      <td>999</td>\n",
       "      <td>...</td>\n",
       "      <td>1</td>\n",
       "      <td>0</td>\n",
       "      <td>0</td>\n",
       "      <td>0</td>\n",
       "      <td>1</td>\n",
       "      <td>0</td>\n",
       "      <td>0</td>\n",
       "      <td>0</td>\n",
       "      <td>0</td>\n",
       "      <td>0</td>\n",
       "    </tr>\n",
       "    <tr>\n",
       "      <th>4</th>\n",
       "      <td>27</td>\n",
       "      <td>1</td>\n",
       "      <td>0</td>\n",
       "      <td>1</td>\n",
       "      <td>0</td>\n",
       "      <td>7</td>\n",
       "      <td>5</td>\n",
       "      <td>189</td>\n",
       "      <td>2</td>\n",
       "      <td>999</td>\n",
       "      <td>...</td>\n",
       "      <td>0</td>\n",
       "      <td>0</td>\n",
       "      <td>0</td>\n",
       "      <td>0</td>\n",
       "      <td>1</td>\n",
       "      <td>0</td>\n",
       "      <td>0</td>\n",
       "      <td>0</td>\n",
       "      <td>0</td>\n",
       "      <td>0</td>\n",
       "    </tr>\n",
       "  </tbody>\n",
       "</table>\n",
       "<p>5 rows × 40 columns</p>\n",
       "</div>"
      ],
      "text/plain": [
       "   age  marital  default  housing  loan  month  day_of_week  duration  \\\n",
       "0   57        1        0        0     1      5            1       371   \n",
       "1   55        1        0        1     0      5            4       285   \n",
       "2   33        1        0        0     0      5            5        52   \n",
       "3   36        1        0        0     0      6            5       355   \n",
       "4   27        1        0        1     0      7            5       189   \n",
       "\n",
       "   campaign  pdays  ...  contact_telephone  education_basic.4y  \\\n",
       "0         1    999  ...                  0                   0   \n",
       "1         2    999  ...                  1                   0   \n",
       "2         1    999  ...                  0                   0   \n",
       "3         4    999  ...                  1                   0   \n",
       "4         2    999  ...                  0                   0   \n",
       "\n",
       "   education_basic.6y  education_basic.9y  education_high.school  \\\n",
       "0                   0                   0                      1   \n",
       "1                   0                   0                      0   \n",
       "2                   0                   1                      0   \n",
       "3                   0                   0                      1   \n",
       "4                   0                   0                      1   \n",
       "\n",
       "   education_illiterate  education_professional.course  \\\n",
       "0                     0                              0   \n",
       "1                     0                              0   \n",
       "2                     0                              0   \n",
       "3                     0                              0   \n",
       "4                     0                              0   \n",
       "\n",
       "   education_university.degree  education_unknown  y  \n",
       "0                            0                  0  0  \n",
       "1                            0                  1  0  \n",
       "2                            0                  0  0  \n",
       "3                            0                  0  0  \n",
       "4                            0                  0  0  \n",
       "\n",
       "[5 rows x 40 columns]"
      ]
     },
     "execution_count": 11,
     "metadata": {},
     "output_type": "execute_result"
    }
   ],
   "source": [
    "df =pd.concat([x,y],axis=1)\n",
    "df.head(5)"
   ]
  },
  {
   "cell_type": "code",
   "execution_count": 15,
   "metadata": {
    "gather": {
     "logged": 1606128605620
    }
   },
   "outputs": [
    {
     "data": {
      "text/plain": [
       "{\n",
       "  \"name\": \"workspaceblobstore\",\n",
       "  \"container_name\": \"azureml-blobstore-88640893-e9cb-4796-8bf2-0bd03118d588\",\n",
       "  \"account_name\": \"mlstrg127521\",\n",
       "  \"protocol\": \"https\",\n",
       "  \"endpoint\": \"core.windows.net\"\n",
       "}"
      ]
     },
     "execution_count": 15,
     "metadata": {},
     "output_type": "execute_result"
    }
   ],
   "source": [
    "import os\n",
    "if not os.path.isdir('datadir'): #make a directory for data \n",
    "    os.mkdir('datadir')\n",
    "\n",
    "# Convert the  data to a csv file to  upload it to the datastore\n",
    "df.to_csv(\"datadir/data.csv\", index=False)\n",
    "\n",
    "dstore = ws.get_default_datastore()\n",
    "dstore"
   ]
  },
  {
   "cell_type": "code",
   "execution_count": 16,
   "metadata": {
    "collapsed": true,
    "gather": {
     "logged": 1606128637873
    },
    "jupyter": {
     "outputs_hidden": false,
     "source_hidden": false
    },
    "nteract": {
     "transient": {
      "deleting": false
     }
    }
   },
   "outputs": [
    {
     "name": "stdout",
     "output_type": "stream",
     "text": [
      "Uploading an estimated of 2 files\n",
      "Uploading ./datadir/training_data.csv\n",
      "Uploaded ./datadir/training_data.csv, 1 files out of an estimated total of 2\n",
      "Uploading ./datadir/data.csv\n",
      "Uploaded ./datadir/data.csv, 2 files out of an estimated total of 2\n",
      "Uploaded 2 files\n"
     ]
    },
    {
     "data": {
      "text/plain": [
       "$AZUREML_DATAREFERENCE_77387f9c08094fc0801a13c1ee8101cd"
      ]
     },
     "execution_count": 16,
     "metadata": {},
     "output_type": "execute_result"
    }
   ],
   "source": [
    "dstore.upload(src_dir='./datadir', target_path='automl-dataset', overwrite=True, show_progress=True)\n",
    " \n"
   ]
  },
  {
   "cell_type": "code",
   "execution_count": 18,
   "metadata": {
    "collapsed": true,
    "gather": {
     "logged": 1606128974553
    },
    "jupyter": {
     "outputs_hidden": false,
     "source_hidden": false
    },
    "nteract": {
     "transient": {
      "deleting": false
     }
    }
   },
   "outputs": [],
   "source": [
    "from azureml.core import Dataset, Datastore\n",
    "from azureml.data.datapath import DataPath\n",
    "\n",
    "\n",
    "# Upload the training data as a tabular dataset so it can be used by automl compute\n",
    "data = Dataset.Tabular.from_delimited_files(path=dstore.path('automl-dataset/data.csv'))\n",
    "label = \"y\""
   ]
  },
  {
   "cell_type": "markdown",
   "metadata": {
    "nteract": {
     "transient": {
      "deleting": false
     }
    }
   },
   "source": [
    "Since 5 folds cross validations are being performed, so for each training we use 4/5 th of data and\n",
    "1/5 th of data is used in each validation  with a different holdout fold each time."
   ]
  },
  {
   "cell_type": "code",
   "execution_count": 19,
   "metadata": {
    "gather": {
     "logged": 1606129268948
    }
   },
   "outputs": [],
   "source": [
    "from azureml.train.automl import AutoMLConfig\n",
    "\n",
    "# Set parameters for AutoMLConfig\n",
    "# NOTE: DO NOT CHANGE THE experiment_timeout_minutes PARAMETER OR YOUR INSTANCE WILL TIME OUT.\n",
    "# If you wish to run the experiment longer, you will need to run this notebook in your own\n",
    "# Azure tenant, which will incur personal costs.\n",
    "automl_config = AutoMLConfig(\n",
    "    experiment_timeout_minutes=30,\n",
    "    task='classification',\n",
    "    primary_metric='accuracy',\n",
    "    training_data=data,\n",
    "    label_column_name='y',\n",
    "    n_cross_validations=5,\n",
    "    compute_target=compute_target,\n",
    "    iterations=100,\n",
    "    max_concurrent_iterations=8)"
   ]
  },
  {
   "cell_type": "code",
   "execution_count": 20,
   "metadata": {
    "collapsed": true,
    "gather": {
     "logged": 1606131837768
    },
    "jupyter": {
     "outputs_hidden": false,
     "source_hidden": false
    },
    "nteract": {
     "transient": {
      "deleting": false
     }
    }
   },
   "outputs": [
    {
     "name": "stdout",
     "output_type": "stream",
     "text": [
      "Running on remote.\n",
      "Running on remote compute: automl\n",
      "Parent Run ID: AutoML_87c610c3-3498-4e8b-abb4-0d38c5f6dc85\n",
      "\n",
      "Current status: FeaturesGeneration. Generating features for the dataset.\n",
      "Current status: DatasetBalancing. Performing class balancing sweeping\n",
      "Current status: ModelSelection. Beginning model selection.\n",
      "\n",
      "****************************************************************************************************\n",
      "DATA GUARDRAILS: \n",
      "\n",
      "TYPE:         Class balancing detection\n",
      "STATUS:       ALERTED\n",
      "DESCRIPTION:  To decrease model bias, please cancel the current run and fix balancing problem.\n",
      "              Learn more about imbalanced data: https://aka.ms/AutomatedMLImbalancedData\n",
      "DETAILS:      Imbalanced data can lead to a falsely perceived positive effect of a model's accuracy because the input data has bias towards one class.\n",
      "+---------------------------------+---------------------------------+--------------------------------------+\n",
      "|Size of the smallest class       |Name/Label of the smallest class |Number of samples in the training data|\n",
      "+=================================+=================================+======================================+\n",
      "|3692                             |1                                |32950                                 |\n",
      "+---------------------------------+---------------------------------+--------------------------------------+\n",
      "\n",
      "****************************************************************************************************\n",
      "\n",
      "TYPE:         Missing feature values imputation\n",
      "STATUS:       PASSED\n",
      "DESCRIPTION:  No feature missing values were detected in the training data.\n",
      "              Learn more about missing value imputation: https://aka.ms/AutomatedMLFeaturization\n",
      "\n",
      "****************************************************************************************************\n",
      "\n",
      "TYPE:         High cardinality feature detection\n",
      "STATUS:       PASSED\n",
      "DESCRIPTION:  Your inputs were analyzed, and no high cardinality features were detected.\n",
      "              Learn more about high cardinality feature handling: https://aka.ms/AutomatedMLFeaturization\n",
      "\n",
      "****************************************************************************************************\n",
      "\n",
      "****************************************************************************************************\n",
      "ITERATION: The iteration being evaluated.\n",
      "PIPELINE: A summary description of the pipeline being evaluated.\n",
      "DURATION: Time taken for the current iteration.\n",
      "METRIC: The result of computing score on the fitted pipeline.\n",
      "BEST: The best observed score thus far.\n",
      "****************************************************************************************************\n",
      "\n",
      " ITERATION   PIPELINE                                       DURATION      METRIC      BEST\n",
      "         0   MaxAbsScaler LightGBM                          0:00:44       0.9151    0.9151\n",
      "         4   MinMaxScaler RandomForest                      0:01:48       0.8880    0.9151\n",
      "         3   StandardScalerWrapper SGD                      0:00:41       0.9088    0.9151\n",
      "         7   RobustScaler ExtremeRandomTrees                0:00:41       0.8970    0.9151\n",
      "         2   MinMaxScaler RandomForest                      0:00:32       0.8989    0.9151\n",
      "         5   StandardScalerWrapper SGD                      0:03:07       0.8564    0.9151\n",
      "         6   StandardScalerWrapper RandomForest             0:03:19       0.9028    0.9151\n",
      "         8   StandardScalerWrapper ExtremeRandomTrees       0:00:42       0.8052    0.9151\n",
      "         1   MaxAbsScaler XGBoostClassifier                 0:03:24       0.9152    0.9152\n",
      "        10   StandardScalerWrapper SGD                      0:00:40       0.9040    0.9152\n",
      "        11   MinMaxScaler SGD                               0:00:37       0.8468    0.9152\n",
      "        12   RobustScaler ExtremeRandomTrees                0:00:35       0.7228    0.9152\n",
      "         9   StandardScalerWrapper SGD                      0:00:42       0.9057    0.9152\n",
      "        13   MinMaxScaler SGD                               0:00:45       0.9072    0.9152\n",
      "        14   MinMaxScaler ExtremeRandomTrees                0:00:46       0.8990    0.9152\n",
      "        15   MinMaxScaler ExtremeRandomTrees                0:00:42       0.9001    0.9152\n",
      "        16   MinMaxScaler ExtremeRandomTrees                0:00:45       0.8988    0.9152\n",
      "        18   StandardScalerWrapper SGD                      0:00:37       0.8418    0.9152\n",
      "        17   StandardScalerWrapper RandomForest             0:00:52       0.8003    0.9152\n",
      "        19   RobustScaler ExtremeRandomTrees                0:00:42       0.8258    0.9152\n",
      "        20   StandardScalerWrapper RandomForest             0:00:39       0.8014    0.9152\n",
      "        23   MinMaxScaler SGD                               0:00:36       0.8576    0.9152\n",
      "        22   MaxAbsScaler RandomForest                      0:00:37       0.8995    0.9152\n",
      "        24   MaxAbsScaler ExtremeRandomTrees                0:00:48       0.8993    0.9152\n",
      "        21   MinMaxScaler ExtremeRandomTrees                0:01:06       0.7246    0.9152\n",
      "        25   SparseNormalizer XGBoostClassifier             0:00:43       0.8880    0.9152\n",
      "        27   MaxAbsScaler ExtremeRandomTrees                0:00:45       0.7604    0.9152\n",
      "        28   MaxAbsScaler RandomForest                      0:00:38       0.7706    0.9152\n",
      "        26   MaxAbsScaler SGD                               0:00:41       0.9066    0.9152\n",
      "        30   PCA XGBoostClassifier                          0:00:37       0.8880    0.9152\n",
      "        29   MaxAbsScaler RandomForest                      0:00:47       0.8880    0.9152\n",
      "        31   MaxAbsScaler LightGBM                          0:00:40       0.8880    0.9152\n",
      "        32   StandardScalerWrapper XGBoostClassifier        0:00:40       0.9158    0.9158\n",
      "        33   MaxAbsScaler ExtremeRandomTrees                0:00:36       0.9001    0.9158\n",
      "        34   SparseNormalizer XGBoostClassifier             0:00:48       0.9147    0.9158\n",
      "        35   StandardScalerWrapper XGBoostClassifier        0:00:46       0.8880    0.9158\n",
      "        37   MinMaxScaler LightGBM                          0:00:37       0.8977    0.9158\n",
      "        36   SparseNormalizer XGBoostClassifier             0:01:10       0.9138    0.9158\n",
      "        38   StandardScalerWrapper ExtremeRandomTrees       0:00:55       0.8998    0.9158\n",
      "        39   MaxAbsScaler ExtremeRandomTrees                0:00:40       0.8880    0.9158\n",
      "        40   SparseNormalizer XGBoostClassifier             0:00:38       0.8880    0.9158\n",
      "        41   MaxAbsScaler ExtremeRandomTrees                0:00:48       0.9002    0.9158\n",
      "        43   SparseNormalizer LightGBM                      0:00:43       0.9070    0.9158\n",
      "        42   StandardScalerWrapper ExtremeRandomTrees       0:00:58       0.8880    0.9158\n",
      "        44   MaxAbsScaler LightGBM                          0:00:53       0.9092    0.9158\n",
      "        45   StandardScalerWrapper XGBoostClassifier        0:00:43       0.8963    0.9158\n",
      "        47   MinMaxScaler SGD                               0:00:43       0.9087    0.9158\n",
      "        48   MaxAbsScaler LightGBM                          0:00:45       0.9080    0.9158\n",
      "        46   StandardScalerWrapper ExtremeRandomTrees       0:02:27       0.8880    0.9158\n",
      "        49   SparseNormalizer XGBoostClassifier             0:01:52       0.9106    0.9158\n",
      "        50   SparseNormalizer XGBoostClassifier             0:01:39       0.9131    0.9158\n",
      "        51   SparseNormalizer XGBoostClassifier             0:01:38       0.9128    0.9158\n",
      "        54   SparseNormalizer XGBoostClassifier             0:00:43       0.9127    0.9158\n",
      "        52   SparseNormalizer XGBoostClassifier             0:01:44       0.9127    0.9158\n",
      "        55   StandardScalerWrapper XGBoostClassifier        0:00:42       0.9123    0.9158\n",
      "        53   StandardScalerWrapper LogisticRegression       0:02:19       0.9099    0.9158\n",
      "        56   SparseNormalizer LightGBM                      0:00:46       0.9137    0.9158\n",
      "        57   StandardScalerWrapper LightGBM                 0:00:43       0.9074    0.9158\n",
      "        58   StandardScalerWrapper XGBoostClassifier        0:00:43       0.9120    0.9158\n",
      "        59   SparseNormalizer XGBoostClassifier             0:00:45       0.9151    0.9158\n",
      "        61   MaxAbsScaler LightGBM                          0:00:45       0.9086    0.9158\n",
      "        62   StandardScalerWrapper RandomForest             0:01:05       0.8880    0.9158\n",
      "        64   StandardScalerWrapper XGBoostClassifier        0:00:57       0.9154    0.9158\n",
      "        60   StandardScalerWrapper XGBoostClassifier        0:02:04       0.9114    0.9158\n",
      "        63   SparseNormalizer LightGBM                      0:00:48       0.9123    0.9158\n",
      "        66   MaxAbsScaler LightGBM                          0:01:01       0.9105    0.9158\n",
      "        68   MaxAbsScaler ExtremeRandomTrees                0:00:47       0.8972    0.9158\n",
      "        65   StandardScalerWrapper XGBoostClassifier        0:01:44       0.9143    0.9158\n",
      "        67   SparseNormalizer XGBoostClassifier             0:01:41       0.9129    0.9158\n",
      "        70   StandardScalerWrapper XGBoostClassifier        0:00:41       0.9127    0.9158\n",
      "        71   SparseNormalizer XGBoostClassifier             0:00:41       0.9134    0.9158\n",
      "        69   SparseNormalizer XGBoostClassifier             0:01:47       0.9124    0.9158\n",
      "        73   SparseNormalizer XGBoostClassifier             0:00:43       0.9107    0.9158\n",
      "        72   SparseNormalizer XGBoostClassifier             0:01:16       0.9136    0.9158\n",
      "        74   RobustScaler SVM                               0:01:17          nan    0.9158\n",
      "        75                                                  0:00:21          nan    0.9158\n",
      "        76                                                  0:00:13          nan    0.9158\n",
      "        77                                                  0:00:12          nan    0.9158\n",
      "        78                                                  0:01:23          nan    0.9158\n",
      "        79                                                  0:00:33          nan    0.9158\n",
      "        80                                                  0:00:34          nan    0.9158\n",
      "        81                                                  0:00:34          nan    0.9158\n",
      "        82    VotingEnsemble                                0:01:47       0.9174    0.9174\n",
      "        83    StackEnsemble                                 0:02:00       0.9170    0.9174\n"
     ]
    }
   ],
   "source": [
    "aml_run=exp2.submit(automl_config, show_output=True)\n"
   ]
  },
  {
   "cell_type": "code",
   "execution_count": 21,
   "metadata": {
    "gather": {
     "logged": 1606132016817
    }
   },
   "outputs": [
    {
     "name": "stdout",
     "output_type": "stream",
     "text": [
      "\n",
      "\n",
      "****************************************************************************************************\n",
      "DATA GUARDRAILS: \n",
      "\n",
      "TYPE:         Class balancing detection\n",
      "STATUS:       ALERTED\n",
      "DESCRIPTION:  To decrease model bias, please cancel the current run and fix balancing problem.\n",
      "              Learn more about imbalanced data: https://aka.ms/AutomatedMLImbalancedData\n",
      "DETAILS:      Imbalanced data can lead to a falsely perceived positive effect of a model's accuracy because the input data has bias towards one class.\n",
      "+---------------------------------+---------------------------------+--------------------------------------+\n",
      "|Size of the smallest class       |Name/Label of the smallest class |Number of samples in the training data|\n",
      "+=================================+=================================+======================================+\n",
      "|3692                             |1                                |32950                                 |\n",
      "+---------------------------------+---------------------------------+--------------------------------------+\n",
      "\n",
      "****************************************************************************************************\n",
      "\n",
      "TYPE:         Missing feature values imputation\n",
      "STATUS:       PASSED\n",
      "DESCRIPTION:  No feature missing values were detected in the training data.\n",
      "              Learn more about missing value imputation: https://aka.ms/AutomatedMLFeaturization\n",
      "\n",
      "****************************************************************************************************\n",
      "\n",
      "TYPE:         High cardinality feature detection\n",
      "STATUS:       PASSED\n",
      "DESCRIPTION:  Your inputs were analyzed, and no high cardinality features were detected.\n",
      "              Learn more about high cardinality feature handling: https://aka.ms/AutomatedMLFeaturization\n",
      "\n",
      "****************************************************************************************************\n",
      "\n",
      "****************************************************************************************************\n",
      "ITERATION: The iteration being evaluated.\n",
      "PIPELINE: A summary description of the pipeline being evaluated.\n",
      "DURATION: Time taken for the current iteration.\n",
      "METRIC: The result of computing score on the fitted pipeline.\n",
      "BEST: The best observed score thus far.\n",
      "****************************************************************************************************\n",
      "\n",
      " ITERATION   PIPELINE                                       DURATION      METRIC      BEST\n",
      "         0   MaxAbsScaler LightGBM                          0:00:44       0.9151    0.9151\n",
      "         1   MaxAbsScaler XGBoostClassifier                 0:03:24       0.9152    0.9152\n",
      "         2   MinMaxScaler RandomForest                      0:00:32       0.8989    0.9152\n",
      "         3   StandardScalerWrapper SGD                      0:00:41       0.9088    0.9152\n",
      "         4   MinMaxScaler RandomForest                      0:01:48       0.8880    0.9152\n",
      "         5   StandardScalerWrapper SGD                      0:03:07       0.8564    0.9152\n",
      "         6   StandardScalerWrapper RandomForest             0:03:19       0.9028    0.9152\n",
      "         7   RobustScaler ExtremeRandomTrees                0:00:41       0.8970    0.9152\n",
      "        10   StandardScalerWrapper SGD                      0:00:40       0.9040    0.9152\n",
      "        11   MinMaxScaler SGD                               0:00:37       0.8468    0.9152\n",
      "        12   RobustScaler ExtremeRandomTrees                0:00:35       0.7228    0.9152\n",
      "        13   MinMaxScaler SGD                               0:00:45       0.9072    0.9152\n",
      "        14   MinMaxScaler ExtremeRandomTrees                0:00:46       0.8990    0.9152\n",
      "        15   MinMaxScaler ExtremeRandomTrees                0:00:42       0.9001    0.9152\n",
      "         8   StandardScalerWrapper ExtremeRandomTrees       0:00:42       0.8052    0.9152\n",
      "         9   StandardScalerWrapper SGD                      0:00:42       0.9057    0.9152\n",
      "        16   MinMaxScaler ExtremeRandomTrees                0:00:45       0.8988    0.9152\n",
      "        17   StandardScalerWrapper RandomForest             0:00:52       0.8003    0.9152\n",
      "        18   StandardScalerWrapper SGD                      0:00:37       0.8418    0.9152\n",
      "        19   RobustScaler ExtremeRandomTrees                0:00:42       0.8258    0.9152\n",
      "        20   StandardScalerWrapper RandomForest             0:00:39       0.8014    0.9152\n",
      "        21   MinMaxScaler ExtremeRandomTrees                0:01:06       0.7246    0.9152\n",
      "        22   MaxAbsScaler RandomForest                      0:00:37       0.8995    0.9152\n",
      "        23   MinMaxScaler SGD                               0:00:36       0.8576    0.9152\n",
      "        24   MaxAbsScaler ExtremeRandomTrees                0:00:48       0.8993    0.9152\n",
      "        25   SparseNormalizer XGBoostClassifier             0:00:43       0.8880    0.9152\n",
      "        26   MaxAbsScaler SGD                               0:00:41       0.9066    0.9152\n",
      "        27   MaxAbsScaler ExtremeRandomTrees                0:00:45       0.7604    0.9152\n",
      "        28   MaxAbsScaler RandomForest                      0:00:38       0.7706    0.9152\n",
      "        29   MaxAbsScaler RandomForest                      0:00:47       0.8880    0.9152\n",
      "        30   PCA XGBoostClassifier                          0:00:37       0.8880    0.9152\n",
      "        31   MaxAbsScaler LightGBM                          0:00:40       0.8880    0.9152\n",
      "        32   StandardScalerWrapper XGBoostClassifier        0:00:40       0.9158    0.9158\n",
      "        33   MaxAbsScaler ExtremeRandomTrees                0:00:36       0.9001    0.9158\n",
      "        34   SparseNormalizer XGBoostClassifier             0:00:48       0.9147    0.9158\n",
      "        35   StandardScalerWrapper XGBoostClassifier        0:00:46       0.8880    0.9158\n",
      "        36   SparseNormalizer XGBoostClassifier             0:01:10       0.9138    0.9158\n",
      "        37   MinMaxScaler LightGBM                          0:00:37       0.8977    0.9158\n",
      "        38   StandardScalerWrapper ExtremeRandomTrees       0:00:55       0.8998    0.9158\n",
      "        39   MaxAbsScaler ExtremeRandomTrees                0:00:40       0.8880    0.9158\n",
      "        40   SparseNormalizer XGBoostClassifier             0:00:38       0.8880    0.9158\n",
      "        41   MaxAbsScaler ExtremeRandomTrees                0:00:48       0.9002    0.9158\n",
      "        42   StandardScalerWrapper ExtremeRandomTrees       0:00:58       0.8880    0.9158\n",
      "        43   SparseNormalizer LightGBM                      0:00:43       0.9070    0.9158\n",
      "        44   MaxAbsScaler LightGBM                          0:00:53       0.9092    0.9158\n",
      "        45   StandardScalerWrapper XGBoostClassifier        0:00:43       0.8963    0.9158\n",
      "        46   StandardScalerWrapper ExtremeRandomTrees       0:02:27       0.8880    0.9158\n",
      "        47   MinMaxScaler SGD                               0:00:43       0.9087    0.9158\n",
      "        48   MaxAbsScaler LightGBM                          0:00:45       0.9080    0.9158\n",
      "        49   SparseNormalizer XGBoostClassifier             0:01:52       0.9106    0.9158\n",
      "        50   SparseNormalizer XGBoostClassifier             0:01:39       0.9131    0.9158\n",
      "        51   SparseNormalizer XGBoostClassifier             0:01:38       0.9128    0.9158\n",
      "        52   SparseNormalizer XGBoostClassifier             0:01:44       0.9127    0.9158\n",
      "        53   StandardScalerWrapper LogisticRegression       0:02:19       0.9099    0.9158\n",
      "        54   SparseNormalizer XGBoostClassifier             0:00:43       0.9127    0.9158\n",
      "        55   StandardScalerWrapper XGBoostClassifier        0:00:42       0.9123    0.9158\n",
      "        56   SparseNormalizer LightGBM                      0:00:46       0.9137    0.9158\n",
      "        57   StandardScalerWrapper LightGBM                 0:00:43       0.9074    0.9158\n",
      "        58   StandardScalerWrapper XGBoostClassifier        0:00:43       0.9120    0.9158\n",
      "        59   SparseNormalizer XGBoostClassifier             0:00:45       0.9151    0.9158\n",
      "        60   StandardScalerWrapper XGBoostClassifier        0:02:04       0.9114    0.9158\n",
      "        61   MaxAbsScaler LightGBM                          0:00:45       0.9086    0.9158\n",
      "        62   StandardScalerWrapper RandomForest             0:01:05       0.8880    0.9158\n",
      "        63   SparseNormalizer LightGBM                      0:00:48       0.9123    0.9158\n",
      "        64   StandardScalerWrapper XGBoostClassifier        0:00:57       0.9154    0.9158\n",
      "        65   StandardScalerWrapper XGBoostClassifier        0:01:44       0.9143    0.9158\n",
      "        66   MaxAbsScaler LightGBM                          0:01:01       0.9105    0.9158\n",
      "        67   SparseNormalizer XGBoostClassifier             0:01:41       0.9129    0.9158\n",
      "        68   MaxAbsScaler ExtremeRandomTrees                0:00:47       0.8972    0.9158\n",
      "        69   SparseNormalizer XGBoostClassifier             0:01:47       0.9124    0.9158\n",
      "        70   StandardScalerWrapper XGBoostClassifier        0:00:41       0.9127    0.9158\n",
      "        71   SparseNormalizer XGBoostClassifier             0:00:41       0.9134    0.9158\n",
      "        72   SparseNormalizer XGBoostClassifier             0:01:16       0.9136    0.9158\n",
      "        73   SparseNormalizer XGBoostClassifier             0:00:43       0.9107    0.9158\n",
      "        74   RobustScaler SVM                               0:01:17          nan    0.9158\n",
      "        75                                                  0:00:21          nan    0.9158\n",
      "        76                                                  0:00:13          nan    0.9158\n",
      "        77                                                  0:00:12          nan    0.9158\n",
      "        78                                                  0:01:23          nan    0.9158\n",
      "        79                                                  0:00:33          nan    0.9158\n",
      "        80                                                  0:00:34          nan    0.9158\n",
      "        81                                                  0:00:34          nan    0.9158\n",
      "        82    VotingEnsemble                                0:01:47       0.9174    0.9174\n",
      "        83    StackEnsemble                                 0:02:00       0.9170    0.9174\n"
     ]
    },
    {
     "data": {
      "text/plain": [
       "{'runId': 'AutoML_87c610c3-3498-4e8b-abb4-0d38c5f6dc85',\n",
       " 'target': 'automl',\n",
       " 'status': 'Completed',\n",
       " 'startTimeUtc': '2020-11-23T11:02:23.471099Z',\n",
       " 'endTimeUtc': '2020-11-23T11:43:52.073638Z',\n",
       " 'properties': {'num_iterations': '100',\n",
       "  'training_type': 'TrainFull',\n",
       "  'acquisition_function': 'EI',\n",
       "  'primary_metric': 'accuracy',\n",
       "  'train_split': '0',\n",
       "  'acquisition_parameter': '0',\n",
       "  'num_cross_validation': '5',\n",
       "  'target': 'automl',\n",
       "  'AMLSettingsJsonString': '{\"path\":null,\"name\":\"automl\",\"subscription_id\":\"8bb47da5-84b5-43cf-bd4a-97928e5c9b08\",\"resource_group\":\"aml-quickstarts-127521\",\"workspace_name\":\"quick-starts-ws-127521\",\"region\":\"southcentralus\",\"compute_target\":\"automl\",\"spark_service\":null,\"azure_service\":\"remote\",\"_local_managed_run_id\":null,\"many_models\":false,\"pipeline_fetch_max_batch_size\":1,\"iterations\":100,\"primary_metric\":\"accuracy\",\"task_type\":\"classification\",\"data_script\":null,\"validation_size\":0.0,\"n_cross_validations\":5,\"y_min\":null,\"y_max\":null,\"num_classes\":null,\"featurization\":\"auto\",\"_ignore_package_version_incompatibilities\":false,\"is_timeseries\":false,\"max_cores_per_iteration\":1,\"max_concurrent_iterations\":8,\"iteration_timeout_minutes\":null,\"mem_in_mb\":null,\"enforce_time_on_windows\":false,\"experiment_timeout_minutes\":30,\"experiment_exit_score\":null,\"whitelist_models\":null,\"blacklist_algos\":[\"TensorFlowLinearClassifier\",\"TensorFlowDNN\"],\"supported_models\":[\"BernoulliNaiveBayes\",\"GradientBoosting\",\"TensorFlowDNN\",\"MultinomialNaiveBayes\",\"ExtremeRandomTrees\",\"TensorFlowLinearClassifier\",\"DecisionTree\",\"AveragedPerceptronClassifier\",\"KNN\",\"LightGBM\",\"SVM\",\"LinearSVM\",\"LogisticRegression\",\"RandomForest\",\"SGD\",\"XGBoostClassifier\"],\"auto_blacklist\":true,\"blacklist_samples_reached\":false,\"exclude_nan_labels\":true,\"verbosity\":20,\"_debug_log\":\"azureml_automl.log\",\"show_warnings\":false,\"model_explainability\":true,\"service_url\":null,\"sdk_url\":null,\"sdk_packages\":null,\"enable_onnx_compatible_models\":false,\"enable_split_onnx_featurizer_estimator_models\":false,\"vm_type\":\"STANDARD_D2_V2\",\"telemetry_verbosity\":20,\"send_telemetry\":true,\"enable_dnn\":false,\"scenario\":\"SDK-1.13.0\",\"environment_label\":null,\"force_text_dnn\":false,\"enable_feature_sweeping\":true,\"enable_early_stopping\":false,\"early_stopping_n_iters\":10,\"metrics\":null,\"enable_ensembling\":true,\"enable_stack_ensembling\":true,\"ensemble_iterations\":15,\"enable_tf\":false,\"enable_subsampling\":false,\"subsample_seed\":null,\"enable_nimbusml\":false,\"enable_streaming\":false,\"force_streaming\":false,\"track_child_runs\":true,\"allowed_private_models\":[],\"label_column_name\":\"y\",\"weight_column_name\":null,\"cv_split_column_names\":null,\"enable_local_managed\":false,\"cost_mode\":1,\"lag_length\":0,\"metric_operation\":\"maximize\",\"preprocess\":true}',\n",
       "  'DataPrepJsonString': '{\\\\\"training_data\\\\\": \\\\\"{\\\\\\\\\\\\\"blocks\\\\\\\\\\\\\": [{\\\\\\\\\\\\\"id\\\\\\\\\\\\\": \\\\\\\\\\\\\"97e51620-63a0-4119-ae28-abe2df1ba8b6\\\\\\\\\\\\\", \\\\\\\\\\\\\"type\\\\\\\\\\\\\": \\\\\\\\\\\\\"Microsoft.DPrep.GetDatastoreFilesBlock\\\\\\\\\\\\\", \\\\\\\\\\\\\"arguments\\\\\\\\\\\\\": {\\\\\\\\\\\\\"datastores\\\\\\\\\\\\\": [{\\\\\\\\\\\\\"datastoreName\\\\\\\\\\\\\": \\\\\\\\\\\\\"workspaceblobstore\\\\\\\\\\\\\", \\\\\\\\\\\\\"path\\\\\\\\\\\\\": \\\\\\\\\\\\\"automl-dataset/data.csv\\\\\\\\\\\\\", \\\\\\\\\\\\\"resourceGroup\\\\\\\\\\\\\": \\\\\\\\\\\\\"aml-quickstarts-127521\\\\\\\\\\\\\", \\\\\\\\\\\\\"subscription\\\\\\\\\\\\\": \\\\\\\\\\\\\"8bb47da5-84b5-43cf-bd4a-97928e5c9b08\\\\\\\\\\\\\", \\\\\\\\\\\\\"workspaceName\\\\\\\\\\\\\": \\\\\\\\\\\\\"quick-starts-ws-127521\\\\\\\\\\\\\"}]}, \\\\\\\\\\\\\"localData\\\\\\\\\\\\\": {}, \\\\\\\\\\\\\"isEnabled\\\\\\\\\\\\\": true, \\\\\\\\\\\\\"name\\\\\\\\\\\\\": null, \\\\\\\\\\\\\"annotation\\\\\\\\\\\\\": null}, {\\\\\\\\\\\\\"id\\\\\\\\\\\\\": \\\\\\\\\\\\\"a0904222-9afe-4ccf-b08a-42c25a77f980\\\\\\\\\\\\\", \\\\\\\\\\\\\"type\\\\\\\\\\\\\": \\\\\\\\\\\\\"Microsoft.DPrep.ParseDelimitedBlock\\\\\\\\\\\\\", \\\\\\\\\\\\\"arguments\\\\\\\\\\\\\": {\\\\\\\\\\\\\"columnHeadersMode\\\\\\\\\\\\\": 3, \\\\\\\\\\\\\"fileEncoding\\\\\\\\\\\\\": 0, \\\\\\\\\\\\\"handleQuotedLineBreaks\\\\\\\\\\\\\": false, \\\\\\\\\\\\\"preview\\\\\\\\\\\\\": false, \\\\\\\\\\\\\"separator\\\\\\\\\\\\\": \\\\\\\\\\\\\",\\\\\\\\\\\\\", \\\\\\\\\\\\\"skipRows\\\\\\\\\\\\\": 0, \\\\\\\\\\\\\"skipRowsMode\\\\\\\\\\\\\": 0}, \\\\\\\\\\\\\"localData\\\\\\\\\\\\\": {}, \\\\\\\\\\\\\"isEnabled\\\\\\\\\\\\\": true, \\\\\\\\\\\\\"name\\\\\\\\\\\\\": null, \\\\\\\\\\\\\"annotation\\\\\\\\\\\\\": null}, {\\\\\\\\\\\\\"id\\\\\\\\\\\\\": \\\\\\\\\\\\\"9884dc14-0381-4374-9367-6b94ca314b5f\\\\\\\\\\\\\", \\\\\\\\\\\\\"type\\\\\\\\\\\\\": \\\\\\\\\\\\\"Microsoft.DPrep.DropColumnsBlock\\\\\\\\\\\\\", \\\\\\\\\\\\\"arguments\\\\\\\\\\\\\": {\\\\\\\\\\\\\"columns\\\\\\\\\\\\\": {\\\\\\\\\\\\\"type\\\\\\\\\\\\\": 0, \\\\\\\\\\\\\"details\\\\\\\\\\\\\": {\\\\\\\\\\\\\"selectedColumns\\\\\\\\\\\\\": [\\\\\\\\\\\\\"Path\\\\\\\\\\\\\"]}}}, \\\\\\\\\\\\\"localData\\\\\\\\\\\\\": {}, \\\\\\\\\\\\\"isEnabled\\\\\\\\\\\\\": true, \\\\\\\\\\\\\"name\\\\\\\\\\\\\": null, \\\\\\\\\\\\\"annotation\\\\\\\\\\\\\": null}, {\\\\\\\\\\\\\"id\\\\\\\\\\\\\": \\\\\\\\\\\\\"3537353a-21fd-4438-8581-b7e643a43db5\\\\\\\\\\\\\", \\\\\\\\\\\\\"type\\\\\\\\\\\\\": \\\\\\\\\\\\\"Microsoft.DPrep.SetColumnTypesBlock\\\\\\\\\\\\\", \\\\\\\\\\\\\"arguments\\\\\\\\\\\\\": {\\\\\\\\\\\\\"columnConversion\\\\\\\\\\\\\": [{\\\\\\\\\\\\\"column\\\\\\\\\\\\\": {\\\\\\\\\\\\\"type\\\\\\\\\\\\\": 2, \\\\\\\\\\\\\"details\\\\\\\\\\\\\": {\\\\\\\\\\\\\"selectedColumn\\\\\\\\\\\\\": \\\\\\\\\\\\\"age\\\\\\\\\\\\\"}}, \\\\\\\\\\\\\"typeProperty\\\\\\\\\\\\\": 2}, {\\\\\\\\\\\\\"column\\\\\\\\\\\\\": {\\\\\\\\\\\\\"type\\\\\\\\\\\\\": 2, \\\\\\\\\\\\\"details\\\\\\\\\\\\\": {\\\\\\\\\\\\\"selectedColumn\\\\\\\\\\\\\": \\\\\\\\\\\\\"marital\\\\\\\\\\\\\"}}, \\\\\\\\\\\\\"typeProperty\\\\\\\\\\\\\": 2}, {\\\\\\\\\\\\\"column\\\\\\\\\\\\\": {\\\\\\\\\\\\\"type\\\\\\\\\\\\\": 2, \\\\\\\\\\\\\"details\\\\\\\\\\\\\": {\\\\\\\\\\\\\"selectedColumn\\\\\\\\\\\\\": \\\\\\\\\\\\\"default\\\\\\\\\\\\\"}}, \\\\\\\\\\\\\"typeProperty\\\\\\\\\\\\\": 2}, {\\\\\\\\\\\\\"column\\\\\\\\\\\\\": {\\\\\\\\\\\\\"type\\\\\\\\\\\\\": 2, \\\\\\\\\\\\\"details\\\\\\\\\\\\\": {\\\\\\\\\\\\\"selectedColumn\\\\\\\\\\\\\": \\\\\\\\\\\\\"housing\\\\\\\\\\\\\"}}, \\\\\\\\\\\\\"typeProperty\\\\\\\\\\\\\": 2}, {\\\\\\\\\\\\\"column\\\\\\\\\\\\\": {\\\\\\\\\\\\\"type\\\\\\\\\\\\\": 2, \\\\\\\\\\\\\"details\\\\\\\\\\\\\": {\\\\\\\\\\\\\"selectedColumn\\\\\\\\\\\\\": \\\\\\\\\\\\\"loan\\\\\\\\\\\\\"}}, \\\\\\\\\\\\\"typeProperty\\\\\\\\\\\\\": 2}, {\\\\\\\\\\\\\"column\\\\\\\\\\\\\": {\\\\\\\\\\\\\"type\\\\\\\\\\\\\": 2, \\\\\\\\\\\\\"details\\\\\\\\\\\\\": {\\\\\\\\\\\\\"selectedColumn\\\\\\\\\\\\\": \\\\\\\\\\\\\"month\\\\\\\\\\\\\"}}, \\\\\\\\\\\\\"typeProperty\\\\\\\\\\\\\": 2}, {\\\\\\\\\\\\\"column\\\\\\\\\\\\\": {\\\\\\\\\\\\\"type\\\\\\\\\\\\\": 2, \\\\\\\\\\\\\"details\\\\\\\\\\\\\": {\\\\\\\\\\\\\"selectedColumn\\\\\\\\\\\\\": \\\\\\\\\\\\\"day_of_week\\\\\\\\\\\\\"}}, \\\\\\\\\\\\\"typeProperty\\\\\\\\\\\\\": 2}, {\\\\\\\\\\\\\"column\\\\\\\\\\\\\": {\\\\\\\\\\\\\"type\\\\\\\\\\\\\": 2, \\\\\\\\\\\\\"details\\\\\\\\\\\\\": {\\\\\\\\\\\\\"selectedColumn\\\\\\\\\\\\\": \\\\\\\\\\\\\"duration\\\\\\\\\\\\\"}}, \\\\\\\\\\\\\"typeProperty\\\\\\\\\\\\\": 2}, {\\\\\\\\\\\\\"column\\\\\\\\\\\\\": {\\\\\\\\\\\\\"type\\\\\\\\\\\\\": 2, \\\\\\\\\\\\\"details\\\\\\\\\\\\\": {\\\\\\\\\\\\\"selectedColumn\\\\\\\\\\\\\": \\\\\\\\\\\\\"campaign\\\\\\\\\\\\\"}}, \\\\\\\\\\\\\"typeProperty\\\\\\\\\\\\\": 2}, {\\\\\\\\\\\\\"column\\\\\\\\\\\\\": {\\\\\\\\\\\\\"type\\\\\\\\\\\\\": 2, \\\\\\\\\\\\\"details\\\\\\\\\\\\\": {\\\\\\\\\\\\\"selectedColumn\\\\\\\\\\\\\": \\\\\\\\\\\\\"pdays\\\\\\\\\\\\\"}}, \\\\\\\\\\\\\"typeProperty\\\\\\\\\\\\\": 2}, {\\\\\\\\\\\\\"column\\\\\\\\\\\\\": {\\\\\\\\\\\\\"type\\\\\\\\\\\\\": 2, \\\\\\\\\\\\\"details\\\\\\\\\\\\\": {\\\\\\\\\\\\\"selectedColumn\\\\\\\\\\\\\": \\\\\\\\\\\\\"previous\\\\\\\\\\\\\"}}, \\\\\\\\\\\\\"typeProperty\\\\\\\\\\\\\": 2}, {\\\\\\\\\\\\\"column\\\\\\\\\\\\\": {\\\\\\\\\\\\\"type\\\\\\\\\\\\\": 2, \\\\\\\\\\\\\"details\\\\\\\\\\\\\": {\\\\\\\\\\\\\"selectedColumn\\\\\\\\\\\\\": \\\\\\\\\\\\\"poutcome\\\\\\\\\\\\\"}}, \\\\\\\\\\\\\"typeProperty\\\\\\\\\\\\\": 2}, {\\\\\\\\\\\\\"column\\\\\\\\\\\\\": {\\\\\\\\\\\\\"type\\\\\\\\\\\\\": 2, \\\\\\\\\\\\\"details\\\\\\\\\\\\\": {\\\\\\\\\\\\\"selectedColumn\\\\\\\\\\\\\": \\\\\\\\\\\\\"emp.var.rate\\\\\\\\\\\\\"}}, \\\\\\\\\\\\\"typeProperty\\\\\\\\\\\\\": 3}, {\\\\\\\\\\\\\"column\\\\\\\\\\\\\": {\\\\\\\\\\\\\"type\\\\\\\\\\\\\": 2, \\\\\\\\\\\\\"details\\\\\\\\\\\\\": {\\\\\\\\\\\\\"selectedColumn\\\\\\\\\\\\\": \\\\\\\\\\\\\"cons.price.idx\\\\\\\\\\\\\"}}, \\\\\\\\\\\\\"typeProperty\\\\\\\\\\\\\": 3}, {\\\\\\\\\\\\\"column\\\\\\\\\\\\\": {\\\\\\\\\\\\\"type\\\\\\\\\\\\\": 2, \\\\\\\\\\\\\"details\\\\\\\\\\\\\": {\\\\\\\\\\\\\"selectedColumn\\\\\\\\\\\\\": \\\\\\\\\\\\\"cons.conf.idx\\\\\\\\\\\\\"}}, \\\\\\\\\\\\\"typeProperty\\\\\\\\\\\\\": 3}, {\\\\\\\\\\\\\"column\\\\\\\\\\\\\": {\\\\\\\\\\\\\"type\\\\\\\\\\\\\": 2, \\\\\\\\\\\\\"details\\\\\\\\\\\\\": {\\\\\\\\\\\\\"selectedColumn\\\\\\\\\\\\\": \\\\\\\\\\\\\"euribor3m\\\\\\\\\\\\\"}}, \\\\\\\\\\\\\"typeProperty\\\\\\\\\\\\\": 3}, {\\\\\\\\\\\\\"column\\\\\\\\\\\\\": {\\\\\\\\\\\\\"type\\\\\\\\\\\\\": 2, \\\\\\\\\\\\\"details\\\\\\\\\\\\\": {\\\\\\\\\\\\\"selectedColumn\\\\\\\\\\\\\": \\\\\\\\\\\\\"nr.employed\\\\\\\\\\\\\"}}, \\\\\\\\\\\\\"typeProperty\\\\\\\\\\\\\": 3}, {\\\\\\\\\\\\\"column\\\\\\\\\\\\\": {\\\\\\\\\\\\\"type\\\\\\\\\\\\\": 2, \\\\\\\\\\\\\"details\\\\\\\\\\\\\": {\\\\\\\\\\\\\"selectedColumn\\\\\\\\\\\\\": \\\\\\\\\\\\\"job_admin.\\\\\\\\\\\\\"}}, \\\\\\\\\\\\\"typeProperty\\\\\\\\\\\\\": 2}, {\\\\\\\\\\\\\"column\\\\\\\\\\\\\": {\\\\\\\\\\\\\"type\\\\\\\\\\\\\": 2, \\\\\\\\\\\\\"details\\\\\\\\\\\\\": {\\\\\\\\\\\\\"selectedColumn\\\\\\\\\\\\\": \\\\\\\\\\\\\"job_blue-collar\\\\\\\\\\\\\"}}, \\\\\\\\\\\\\"typeProperty\\\\\\\\\\\\\": 2}, {\\\\\\\\\\\\\"column\\\\\\\\\\\\\": {\\\\\\\\\\\\\"type\\\\\\\\\\\\\": 2, \\\\\\\\\\\\\"details\\\\\\\\\\\\\": {\\\\\\\\\\\\\"selectedColumn\\\\\\\\\\\\\": \\\\\\\\\\\\\"job_entrepreneur\\\\\\\\\\\\\"}}, \\\\\\\\\\\\\"typeProperty\\\\\\\\\\\\\": 2}, {\\\\\\\\\\\\\"column\\\\\\\\\\\\\": {\\\\\\\\\\\\\"type\\\\\\\\\\\\\": 2, \\\\\\\\\\\\\"details\\\\\\\\\\\\\": {\\\\\\\\\\\\\"selectedColumn\\\\\\\\\\\\\": \\\\\\\\\\\\\"job_housemaid\\\\\\\\\\\\\"}}, \\\\\\\\\\\\\"typeProperty\\\\\\\\\\\\\": 2}, {\\\\\\\\\\\\\"column\\\\\\\\\\\\\": {\\\\\\\\\\\\\"type\\\\\\\\\\\\\": 2, \\\\\\\\\\\\\"details\\\\\\\\\\\\\": {\\\\\\\\\\\\\"selectedColumn\\\\\\\\\\\\\": \\\\\\\\\\\\\"job_management\\\\\\\\\\\\\"}}, \\\\\\\\\\\\\"typeProperty\\\\\\\\\\\\\": 2}, {\\\\\\\\\\\\\"column\\\\\\\\\\\\\": {\\\\\\\\\\\\\"type\\\\\\\\\\\\\": 2, \\\\\\\\\\\\\"details\\\\\\\\\\\\\": {\\\\\\\\\\\\\"selectedColumn\\\\\\\\\\\\\": \\\\\\\\\\\\\"job_retired\\\\\\\\\\\\\"}}, \\\\\\\\\\\\\"typeProperty\\\\\\\\\\\\\": 2}, {\\\\\\\\\\\\\"column\\\\\\\\\\\\\": {\\\\\\\\\\\\\"type\\\\\\\\\\\\\": 2, \\\\\\\\\\\\\"details\\\\\\\\\\\\\": {\\\\\\\\\\\\\"selectedColumn\\\\\\\\\\\\\": \\\\\\\\\\\\\"job_self-employed\\\\\\\\\\\\\"}}, \\\\\\\\\\\\\"typeProperty\\\\\\\\\\\\\": 2}, {\\\\\\\\\\\\\"column\\\\\\\\\\\\\": {\\\\\\\\\\\\\"type\\\\\\\\\\\\\": 2, \\\\\\\\\\\\\"details\\\\\\\\\\\\\": {\\\\\\\\\\\\\"selectedColumn\\\\\\\\\\\\\": \\\\\\\\\\\\\"job_services\\\\\\\\\\\\\"}}, \\\\\\\\\\\\\"typeProperty\\\\\\\\\\\\\": 2}, {\\\\\\\\\\\\\"column\\\\\\\\\\\\\": {\\\\\\\\\\\\\"type\\\\\\\\\\\\\": 2, \\\\\\\\\\\\\"details\\\\\\\\\\\\\": {\\\\\\\\\\\\\"selectedColumn\\\\\\\\\\\\\": \\\\\\\\\\\\\"job_student\\\\\\\\\\\\\"}}, \\\\\\\\\\\\\"typeProperty\\\\\\\\\\\\\": 2}, {\\\\\\\\\\\\\"column\\\\\\\\\\\\\": {\\\\\\\\\\\\\"type\\\\\\\\\\\\\": 2, \\\\\\\\\\\\\"details\\\\\\\\\\\\\": {\\\\\\\\\\\\\"selectedColumn\\\\\\\\\\\\\": \\\\\\\\\\\\\"job_technician\\\\\\\\\\\\\"}}, \\\\\\\\\\\\\"typeProperty\\\\\\\\\\\\\": 2}, {\\\\\\\\\\\\\"column\\\\\\\\\\\\\": {\\\\\\\\\\\\\"type\\\\\\\\\\\\\": 2, \\\\\\\\\\\\\"details\\\\\\\\\\\\\": {\\\\\\\\\\\\\"selectedColumn\\\\\\\\\\\\\": \\\\\\\\\\\\\"job_unemployed\\\\\\\\\\\\\"}}, \\\\\\\\\\\\\"typeProperty\\\\\\\\\\\\\": 2}, {\\\\\\\\\\\\\"column\\\\\\\\\\\\\": {\\\\\\\\\\\\\"type\\\\\\\\\\\\\": 2, \\\\\\\\\\\\\"details\\\\\\\\\\\\\": {\\\\\\\\\\\\\"selectedColumn\\\\\\\\\\\\\": \\\\\\\\\\\\\"job_unknown\\\\\\\\\\\\\"}}, \\\\\\\\\\\\\"typeProperty\\\\\\\\\\\\\": 2}, {\\\\\\\\\\\\\"column\\\\\\\\\\\\\": {\\\\\\\\\\\\\"type\\\\\\\\\\\\\": 2, \\\\\\\\\\\\\"details\\\\\\\\\\\\\": {\\\\\\\\\\\\\"selectedColumn\\\\\\\\\\\\\": \\\\\\\\\\\\\"contact_cellular\\\\\\\\\\\\\"}}, \\\\\\\\\\\\\"typeProperty\\\\\\\\\\\\\": 2}, {\\\\\\\\\\\\\"column\\\\\\\\\\\\\": {\\\\\\\\\\\\\"type\\\\\\\\\\\\\": 2, \\\\\\\\\\\\\"details\\\\\\\\\\\\\": {\\\\\\\\\\\\\"selectedColumn\\\\\\\\\\\\\": \\\\\\\\\\\\\"contact_telephone\\\\\\\\\\\\\"}}, \\\\\\\\\\\\\"typeProperty\\\\\\\\\\\\\": 2}, {\\\\\\\\\\\\\"column\\\\\\\\\\\\\": {\\\\\\\\\\\\\"type\\\\\\\\\\\\\": 2, \\\\\\\\\\\\\"details\\\\\\\\\\\\\": {\\\\\\\\\\\\\"selectedColumn\\\\\\\\\\\\\": \\\\\\\\\\\\\"education_basic.4y\\\\\\\\\\\\\"}}, \\\\\\\\\\\\\"typeProperty\\\\\\\\\\\\\": 2}, {\\\\\\\\\\\\\"column\\\\\\\\\\\\\": {\\\\\\\\\\\\\"type\\\\\\\\\\\\\": 2, \\\\\\\\\\\\\"details\\\\\\\\\\\\\": {\\\\\\\\\\\\\"selectedColumn\\\\\\\\\\\\\": \\\\\\\\\\\\\"education_basic.6y\\\\\\\\\\\\\"}}, \\\\\\\\\\\\\"typeProperty\\\\\\\\\\\\\": 2}, {\\\\\\\\\\\\\"column\\\\\\\\\\\\\": {\\\\\\\\\\\\\"type\\\\\\\\\\\\\": 2, \\\\\\\\\\\\\"details\\\\\\\\\\\\\": {\\\\\\\\\\\\\"selectedColumn\\\\\\\\\\\\\": \\\\\\\\\\\\\"education_basic.9y\\\\\\\\\\\\\"}}, \\\\\\\\\\\\\"typeProperty\\\\\\\\\\\\\": 2}, {\\\\\\\\\\\\\"column\\\\\\\\\\\\\": {\\\\\\\\\\\\\"type\\\\\\\\\\\\\": 2, \\\\\\\\\\\\\"details\\\\\\\\\\\\\": {\\\\\\\\\\\\\"selectedColumn\\\\\\\\\\\\\": \\\\\\\\\\\\\"education_high.school\\\\\\\\\\\\\"}}, \\\\\\\\\\\\\"typeProperty\\\\\\\\\\\\\": 2}, {\\\\\\\\\\\\\"column\\\\\\\\\\\\\": {\\\\\\\\\\\\\"type\\\\\\\\\\\\\": 2, \\\\\\\\\\\\\"details\\\\\\\\\\\\\": {\\\\\\\\\\\\\"selectedColumn\\\\\\\\\\\\\": \\\\\\\\\\\\\"education_illiterate\\\\\\\\\\\\\"}}, \\\\\\\\\\\\\"typeProperty\\\\\\\\\\\\\": 2}, {\\\\\\\\\\\\\"column\\\\\\\\\\\\\": {\\\\\\\\\\\\\"type\\\\\\\\\\\\\": 2, \\\\\\\\\\\\\"details\\\\\\\\\\\\\": {\\\\\\\\\\\\\"selectedColumn\\\\\\\\\\\\\": \\\\\\\\\\\\\"education_professional.course\\\\\\\\\\\\\"}}, \\\\\\\\\\\\\"typeProperty\\\\\\\\\\\\\": 2}, {\\\\\\\\\\\\\"column\\\\\\\\\\\\\": {\\\\\\\\\\\\\"type\\\\\\\\\\\\\": 2, \\\\\\\\\\\\\"details\\\\\\\\\\\\\": {\\\\\\\\\\\\\"selectedColumn\\\\\\\\\\\\\": \\\\\\\\\\\\\"education_university.degree\\\\\\\\\\\\\"}}, \\\\\\\\\\\\\"typeProperty\\\\\\\\\\\\\": 2}, {\\\\\\\\\\\\\"column\\\\\\\\\\\\\": {\\\\\\\\\\\\\"type\\\\\\\\\\\\\": 2, \\\\\\\\\\\\\"details\\\\\\\\\\\\\": {\\\\\\\\\\\\\"selectedColumn\\\\\\\\\\\\\": \\\\\\\\\\\\\"education_unknown\\\\\\\\\\\\\"}}, \\\\\\\\\\\\\"typeProperty\\\\\\\\\\\\\": 2}, {\\\\\\\\\\\\\"column\\\\\\\\\\\\\": {\\\\\\\\\\\\\"type\\\\\\\\\\\\\": 2, \\\\\\\\\\\\\"details\\\\\\\\\\\\\": {\\\\\\\\\\\\\"selectedColumn\\\\\\\\\\\\\": \\\\\\\\\\\\\"y\\\\\\\\\\\\\"}}, \\\\\\\\\\\\\"typeProperty\\\\\\\\\\\\\": 2}]}, \\\\\\\\\\\\\"localData\\\\\\\\\\\\\": {}, \\\\\\\\\\\\\"isEnabled\\\\\\\\\\\\\": true, \\\\\\\\\\\\\"name\\\\\\\\\\\\\": null, \\\\\\\\\\\\\"annotation\\\\\\\\\\\\\": null}], \\\\\\\\\\\\\"inspectors\\\\\\\\\\\\\": [], \\\\\\\\\\\\\"meta\\\\\\\\\\\\\": {\\\\\\\\\\\\\"savedDatasetId\\\\\\\\\\\\\": \\\\\\\\\\\\\"17c7d797-d3c7-4cd8-b6aa-97fcedf6aa5e\\\\\\\\\\\\\", \\\\\\\\\\\\\"datasetType\\\\\\\\\\\\\": \\\\\\\\\\\\\"tabular\\\\\\\\\\\\\", \\\\\\\\\\\\\"subscriptionId\\\\\\\\\\\\\": \\\\\\\\\\\\\"8bb47da5-84b5-43cf-bd4a-97928e5c9b08\\\\\\\\\\\\\", \\\\\\\\\\\\\"workspaceId\\\\\\\\\\\\\": \\\\\\\\\\\\\"88640893-e9cb-4796-8bf2-0bd03118d588\\\\\\\\\\\\\", \\\\\\\\\\\\\"workspaceLocation\\\\\\\\\\\\\": \\\\\\\\\\\\\"southcentralus\\\\\\\\\\\\\"}}\\\\\", \\\\\"activities\\\\\": 0}',\n",
       "  'EnableSubsampling': 'False',\n",
       "  'runTemplate': 'AutoML',\n",
       "  'azureml.runsource': 'automl',\n",
       "  'display_task_type': 'classification',\n",
       "  'dependencies_versions': '{\"azureml-widgets\": \"1.18.0\", \"azureml-train\": \"1.18.0\", \"azureml-train-restclients-hyperdrive\": \"1.18.0\", \"azureml-train-core\": \"1.18.0\", \"azureml-train-automl\": \"1.18.0\", \"azureml-train-automl-runtime\": \"1.18.0\", \"azureml-train-automl-client\": \"1.18.0\", \"azureml-tensorboard\": \"1.18.0\", \"azureml-telemetry\": \"1.18.0\", \"azureml-sdk\": \"1.18.0\", \"azureml-samples\": \"0+unknown\", \"azureml-pipeline\": \"1.18.0\", \"azureml-pipeline-steps\": \"1.18.0\", \"azureml-pipeline-core\": \"1.18.0\", \"azureml-opendatasets\": \"1.18.0\", \"azureml-model-management-sdk\": \"1.0.1b6.post1\", \"azureml-mlflow\": \"1.18.0\", \"azureml-interpret\": \"1.18.0\", \"azureml-explain-model\": \"1.18.0\", \"azureml-defaults\": \"1.18.0\", \"azureml-dataset-runtime\": \"1.18.0\", \"azureml-dataprep\": \"2.4.2\", \"azureml-dataprep-rslex\": \"1.2.2\", \"azureml-dataprep-native\": \"24.0.0\", \"azureml-datadrift\": \"1.18.0\", \"azureml-core\": \"1.18.0\", \"azureml-contrib-services\": \"1.18.0\", \"azureml-contrib-server\": \"1.18.0\", \"azureml-contrib-reinforcementlearning\": \"1.18.0\", \"azureml-contrib-pipeline-steps\": \"1.18.0\", \"azureml-contrib-notebook\": \"1.18.0\", \"azureml-contrib-interpret\": \"1.18.0\", \"azureml-contrib-gbdt\": \"1.18.0\", \"azureml-contrib-fairness\": \"1.18.0\", \"azureml-contrib-dataset\": \"1.18.0\", \"azureml-cli-common\": \"1.18.0\", \"azureml-automl-runtime\": \"1.18.0\", \"azureml-automl-core\": \"1.18.0\", \"azureml-accel-models\": \"1.18.0\"}',\n",
       "  '_aml_system_scenario_identification': 'Remote.Parent',\n",
       "  'ClientType': 'SDK',\n",
       "  'environment_cpu_name': 'AzureML-AutoML',\n",
       "  'environment_cpu_version': '44',\n",
       "  'environment_gpu_name': 'AzureML-AutoML-GPU',\n",
       "  'environment_gpu_version': '32',\n",
       "  'root_attribution': 'automl',\n",
       "  'attribution': 'AutoML',\n",
       "  'Orchestrator': 'AutoML',\n",
       "  'CancelUri': 'https://southcentralus.experiments.azureml.net/jasmine/v1.0/subscriptions/8bb47da5-84b5-43cf-bd4a-97928e5c9b08/resourceGroups/aml-quickstarts-127521/providers/Microsoft.MachineLearningServices/workspaces/quick-starts-ws-127521/experimentids/34a366c0-96d4-496e-88ef-02df9b8644fe/cancel/AutoML_87c610c3-3498-4e8b-abb4-0d38c5f6dc85',\n",
       "  'ClientSdkVersion': '1.17.0',\n",
       "  'snapshotId': '00000000-0000-0000-0000-000000000000',\n",
       "  'SetupRunId': 'AutoML_87c610c3-3498-4e8b-abb4-0d38c5f6dc85_setup',\n",
       "  'SetupRunContainerId': 'dcid.AutoML_87c610c3-3498-4e8b-abb4-0d38c5f6dc85_setup',\n",
       "  'FeaturizationRunJsonPath': 'featurizer_container.json',\n",
       "  'FeaturizationRunId': 'AutoML_87c610c3-3498-4e8b-abb4-0d38c5f6dc85_featurize',\n",
       "  'ProblemInfoJsonString': '{\"dataset_num_categorical\": 0, \"is_sparse\": false, \"subsampling\": false, \"dataset_classes\": 2, \"dataset_features\": 39, \"dataset_samples\": 32950, \"single_frequency_class_detected\": false}',\n",
       "  'ModelExplainRunId': 'AutoML_87c610c3-3498-4e8b-abb4-0d38c5f6dc85_ModelExplain'},\n",
       " 'inputDatasets': [{'dataset': {'id': '17c7d797-d3c7-4cd8-b6aa-97fcedf6aa5e'}, 'consumptionDetails': {'type': 'RunInput', 'inputName': 'training_data', 'mechanism': 'Direct'}}],\n",
       " 'outputDatasets': [],\n",
       " 'logFiles': {}}"
      ]
     },
     "execution_count": 21,
     "metadata": {},
     "output_type": "execute_result"
    }
   ],
   "source": [
    "aml_run.wait_for_completion(show_output=True)"
   ]
  },
  {
   "cell_type": "code",
   "execution_count": 22,
   "metadata": {
    "gather": {
     "logged": 1606132103846
    }
   },
   "outputs": [
    {
     "data": {
      "application/vnd.jupyter.widget-view+json": {
       "model_id": "13bcd0841a0a4700b60814ee24061b73",
       "version_major": 2,
       "version_minor": 0
      },
      "text/plain": [
       "_AutoMLWidget(widget_settings={'childWidgetDisplay': 'popup', 'send_telemetry': False, 'log_level': 'INFO', 's…"
      ]
     },
     "metadata": {},
     "output_type": "display_data"
    },
    {
     "data": {
      "application/aml.mini.widget.v1": "{\"status\": \"Completed\", \"workbench_run_details_uri\": \"https://ml.azure.com/experiments/automl/runs/AutoML_87c610c3-3498-4e8b-abb4-0d38c5f6dc85?wsid=/subscriptions/8bb47da5-84b5-43cf-bd4a-97928e5c9b08/resourcegroups/aml-quickstarts-127521/workspaces/quick-starts-ws-127521\", \"run_id\": \"AutoML_87c610c3-3498-4e8b-abb4-0d38c5f6dc85\", \"run_properties\": {\"run_id\": \"AutoML_87c610c3-3498-4e8b-abb4-0d38c5f6dc85\", \"created_utc\": \"2020-11-23T11:01:57.658136Z\", \"properties\": {\"num_iterations\": \"100\", \"training_type\": \"TrainFull\", \"acquisition_function\": \"EI\", \"primary_metric\": \"accuracy\", \"train_split\": \"0\", \"acquisition_parameter\": \"0\", \"num_cross_validation\": \"5\", \"target\": \"automl\", \"AMLSettingsJsonString\": \"{\\\"path\\\":null,\\\"name\\\":\\\"automl\\\",\\\"subscription_id\\\":\\\"8bb47da5-84b5-43cf-bd4a-97928e5c9b08\\\",\\\"resource_group\\\":\\\"aml-quickstarts-127521\\\",\\\"workspace_name\\\":\\\"quick-starts-ws-127521\\\",\\\"region\\\":\\\"southcentralus\\\",\\\"compute_target\\\":\\\"automl\\\",\\\"spark_service\\\":null,\\\"azure_service\\\":\\\"remote\\\",\\\"_local_managed_run_id\\\":null,\\\"many_models\\\":false,\\\"pipeline_fetch_max_batch_size\\\":1,\\\"iterations\\\":100,\\\"primary_metric\\\":\\\"accuracy\\\",\\\"task_type\\\":\\\"classification\\\",\\\"data_script\\\":null,\\\"validation_size\\\":0.0,\\\"n_cross_validations\\\":5,\\\"y_min\\\":null,\\\"y_max\\\":null,\\\"num_classes\\\":null,\\\"featurization\\\":\\\"auto\\\",\\\"_ignore_package_version_incompatibilities\\\":false,\\\"is_timeseries\\\":false,\\\"max_cores_per_iteration\\\":1,\\\"max_concurrent_iterations\\\":8,\\\"iteration_timeout_minutes\\\":null,\\\"mem_in_mb\\\":null,\\\"enforce_time_on_windows\\\":false,\\\"experiment_timeout_minutes\\\":30,\\\"experiment_exit_score\\\":null,\\\"whitelist_models\\\":null,\\\"blacklist_algos\\\":[\\\"TensorFlowLinearClassifier\\\",\\\"TensorFlowDNN\\\"],\\\"supported_models\\\":[\\\"BernoulliNaiveBayes\\\",\\\"GradientBoosting\\\",\\\"TensorFlowDNN\\\",\\\"MultinomialNaiveBayes\\\",\\\"ExtremeRandomTrees\\\",\\\"TensorFlowLinearClassifier\\\",\\\"DecisionTree\\\",\\\"AveragedPerceptronClassifier\\\",\\\"KNN\\\",\\\"LightGBM\\\",\\\"SVM\\\",\\\"LinearSVM\\\",\\\"LogisticRegression\\\",\\\"RandomForest\\\",\\\"SGD\\\",\\\"XGBoostClassifier\\\"],\\\"auto_blacklist\\\":true,\\\"blacklist_samples_reached\\\":false,\\\"exclude_nan_labels\\\":true,\\\"verbosity\\\":20,\\\"_debug_log\\\":\\\"azureml_automl.log\\\",\\\"show_warnings\\\":false,\\\"model_explainability\\\":true,\\\"service_url\\\":null,\\\"sdk_url\\\":null,\\\"sdk_packages\\\":null,\\\"enable_onnx_compatible_models\\\":false,\\\"enable_split_onnx_featurizer_estimator_models\\\":false,\\\"vm_type\\\":\\\"STANDARD_D2_V2\\\",\\\"telemetry_verbosity\\\":20,\\\"send_telemetry\\\":true,\\\"enable_dnn\\\":false,\\\"scenario\\\":\\\"SDK-1.13.0\\\",\\\"environment_label\\\":null,\\\"force_text_dnn\\\":false,\\\"enable_feature_sweeping\\\":true,\\\"enable_early_stopping\\\":false,\\\"early_stopping_n_iters\\\":10,\\\"metrics\\\":null,\\\"enable_ensembling\\\":true,\\\"enable_stack_ensembling\\\":true,\\\"ensemble_iterations\\\":15,\\\"enable_tf\\\":false,\\\"enable_subsampling\\\":false,\\\"subsample_seed\\\":null,\\\"enable_nimbusml\\\":false,\\\"enable_streaming\\\":false,\\\"force_streaming\\\":false,\\\"track_child_runs\\\":true,\\\"allowed_private_models\\\":[],\\\"label_column_name\\\":\\\"y\\\",\\\"weight_column_name\\\":null,\\\"cv_split_column_names\\\":null,\\\"enable_local_managed\\\":false,\\\"cost_mode\\\":1,\\\"lag_length\\\":0,\\\"metric_operation\\\":\\\"maximize\\\",\\\"preprocess\\\":true}\", \"DataPrepJsonString\": \"{\\\\\\\"training_data\\\\\\\": \\\\\\\"{\\\\\\\\\\\\\\\"blocks\\\\\\\\\\\\\\\": [{\\\\\\\\\\\\\\\"id\\\\\\\\\\\\\\\": \\\\\\\\\\\\\\\"97e51620-63a0-4119-ae28-abe2df1ba8b6\\\\\\\\\\\\\\\", \\\\\\\\\\\\\\\"type\\\\\\\\\\\\\\\": \\\\\\\\\\\\\\\"Microsoft.DPrep.GetDatastoreFilesBlock\\\\\\\\\\\\\\\", \\\\\\\\\\\\\\\"arguments\\\\\\\\\\\\\\\": {\\\\\\\\\\\\\\\"datastores\\\\\\\\\\\\\\\": [{\\\\\\\\\\\\\\\"datastoreName\\\\\\\\\\\\\\\": \\\\\\\\\\\\\\\"workspaceblobstore\\\\\\\\\\\\\\\", \\\\\\\\\\\\\\\"path\\\\\\\\\\\\\\\": \\\\\\\\\\\\\\\"automl-dataset/data.csv\\\\\\\\\\\\\\\", \\\\\\\\\\\\\\\"resourceGroup\\\\\\\\\\\\\\\": \\\\\\\\\\\\\\\"aml-quickstarts-127521\\\\\\\\\\\\\\\", \\\\\\\\\\\\\\\"subscription\\\\\\\\\\\\\\\": \\\\\\\\\\\\\\\"8bb47da5-84b5-43cf-bd4a-97928e5c9b08\\\\\\\\\\\\\\\", \\\\\\\\\\\\\\\"workspaceName\\\\\\\\\\\\\\\": \\\\\\\\\\\\\\\"quick-starts-ws-127521\\\\\\\\\\\\\\\"}]}, \\\\\\\\\\\\\\\"localData\\\\\\\\\\\\\\\": {}, \\\\\\\\\\\\\\\"isEnabled\\\\\\\\\\\\\\\": true, \\\\\\\\\\\\\\\"name\\\\\\\\\\\\\\\": null, \\\\\\\\\\\\\\\"annotation\\\\\\\\\\\\\\\": null}, {\\\\\\\\\\\\\\\"id\\\\\\\\\\\\\\\": \\\\\\\\\\\\\\\"a0904222-9afe-4ccf-b08a-42c25a77f980\\\\\\\\\\\\\\\", \\\\\\\\\\\\\\\"type\\\\\\\\\\\\\\\": \\\\\\\\\\\\\\\"Microsoft.DPrep.ParseDelimitedBlock\\\\\\\\\\\\\\\", \\\\\\\\\\\\\\\"arguments\\\\\\\\\\\\\\\": {\\\\\\\\\\\\\\\"columnHeadersMode\\\\\\\\\\\\\\\": 3, \\\\\\\\\\\\\\\"fileEncoding\\\\\\\\\\\\\\\": 0, \\\\\\\\\\\\\\\"handleQuotedLineBreaks\\\\\\\\\\\\\\\": false, \\\\\\\\\\\\\\\"preview\\\\\\\\\\\\\\\": false, \\\\\\\\\\\\\\\"separator\\\\\\\\\\\\\\\": \\\\\\\\\\\\\\\",\\\\\\\\\\\\\\\", \\\\\\\\\\\\\\\"skipRows\\\\\\\\\\\\\\\": 0, \\\\\\\\\\\\\\\"skipRowsMode\\\\\\\\\\\\\\\": 0}, \\\\\\\\\\\\\\\"localData\\\\\\\\\\\\\\\": {}, \\\\\\\\\\\\\\\"isEnabled\\\\\\\\\\\\\\\": true, \\\\\\\\\\\\\\\"name\\\\\\\\\\\\\\\": null, \\\\\\\\\\\\\\\"annotation\\\\\\\\\\\\\\\": null}, {\\\\\\\\\\\\\\\"id\\\\\\\\\\\\\\\": \\\\\\\\\\\\\\\"9884dc14-0381-4374-9367-6b94ca314b5f\\\\\\\\\\\\\\\", \\\\\\\\\\\\\\\"type\\\\\\\\\\\\\\\": \\\\\\\\\\\\\\\"Microsoft.DPrep.DropColumnsBlock\\\\\\\\\\\\\\\", \\\\\\\\\\\\\\\"arguments\\\\\\\\\\\\\\\": {\\\\\\\\\\\\\\\"columns\\\\\\\\\\\\\\\": {\\\\\\\\\\\\\\\"type\\\\\\\\\\\\\\\": 0, \\\\\\\\\\\\\\\"details\\\\\\\\\\\\\\\": {\\\\\\\\\\\\\\\"selectedColumns\\\\\\\\\\\\\\\": [\\\\\\\\\\\\\\\"Path\\\\\\\\\\\\\\\"]}}}, \\\\\\\\\\\\\\\"localData\\\\\\\\\\\\\\\": {}, \\\\\\\\\\\\\\\"isEnabled\\\\\\\\\\\\\\\": true, \\\\\\\\\\\\\\\"name\\\\\\\\\\\\\\\": null, \\\\\\\\\\\\\\\"annotation\\\\\\\\\\\\\\\": null}, {\\\\\\\\\\\\\\\"id\\\\\\\\\\\\\\\": \\\\\\\\\\\\\\\"3537353a-21fd-4438-8581-b7e643a43db5\\\\\\\\\\\\\\\", \\\\\\\\\\\\\\\"type\\\\\\\\\\\\\\\": \\\\\\\\\\\\\\\"Microsoft.DPrep.SetColumnTypesBlock\\\\\\\\\\\\\\\", \\\\\\\\\\\\\\\"arguments\\\\\\\\\\\\\\\": {\\\\\\\\\\\\\\\"columnConversion\\\\\\\\\\\\\\\": [{\\\\\\\\\\\\\\\"column\\\\\\\\\\\\\\\": {\\\\\\\\\\\\\\\"type\\\\\\\\\\\\\\\": 2, \\\\\\\\\\\\\\\"details\\\\\\\\\\\\\\\": {\\\\\\\\\\\\\\\"selectedColumn\\\\\\\\\\\\\\\": \\\\\\\\\\\\\\\"age\\\\\\\\\\\\\\\"}}, \\\\\\\\\\\\\\\"typeProperty\\\\\\\\\\\\\\\": 2}, {\\\\\\\\\\\\\\\"column\\\\\\\\\\\\\\\": {\\\\\\\\\\\\\\\"type\\\\\\\\\\\\\\\": 2, \\\\\\\\\\\\\\\"details\\\\\\\\\\\\\\\": {\\\\\\\\\\\\\\\"selectedColumn\\\\\\\\\\\\\\\": \\\\\\\\\\\\\\\"marital\\\\\\\\\\\\\\\"}}, \\\\\\\\\\\\\\\"typeProperty\\\\\\\\\\\\\\\": 2}, {\\\\\\\\\\\\\\\"column\\\\\\\\\\\\\\\": {\\\\\\\\\\\\\\\"type\\\\\\\\\\\\\\\": 2, \\\\\\\\\\\\\\\"details\\\\\\\\\\\\\\\": {\\\\\\\\\\\\\\\"selectedColumn\\\\\\\\\\\\\\\": \\\\\\\\\\\\\\\"default\\\\\\\\\\\\\\\"}}, \\\\\\\\\\\\\\\"typeProperty\\\\\\\\\\\\\\\": 2}, {\\\\\\\\\\\\\\\"column\\\\\\\\\\\\\\\": {\\\\\\\\\\\\\\\"type\\\\\\\\\\\\\\\": 2, \\\\\\\\\\\\\\\"details\\\\\\\\\\\\\\\": {\\\\\\\\\\\\\\\"selectedColumn\\\\\\\\\\\\\\\": \\\\\\\\\\\\\\\"housing\\\\\\\\\\\\\\\"}}, \\\\\\\\\\\\\\\"typeProperty\\\\\\\\\\\\\\\": 2}, {\\\\\\\\\\\\\\\"column\\\\\\\\\\\\\\\": {\\\\\\\\\\\\\\\"type\\\\\\\\\\\\\\\": 2, \\\\\\\\\\\\\\\"details\\\\\\\\\\\\\\\": {\\\\\\\\\\\\\\\"selectedColumn\\\\\\\\\\\\\\\": \\\\\\\\\\\\\\\"loan\\\\\\\\\\\\\\\"}}, \\\\\\\\\\\\\\\"typeProperty\\\\\\\\\\\\\\\": 2}, {\\\\\\\\\\\\\\\"column\\\\\\\\\\\\\\\": {\\\\\\\\\\\\\\\"type\\\\\\\\\\\\\\\": 2, \\\\\\\\\\\\\\\"details\\\\\\\\\\\\\\\": {\\\\\\\\\\\\\\\"selectedColumn\\\\\\\\\\\\\\\": \\\\\\\\\\\\\\\"month\\\\\\\\\\\\\\\"}}, \\\\\\\\\\\\\\\"typeProperty\\\\\\\\\\\\\\\": 2}, {\\\\\\\\\\\\\\\"column\\\\\\\\\\\\\\\": {\\\\\\\\\\\\\\\"type\\\\\\\\\\\\\\\": 2, \\\\\\\\\\\\\\\"details\\\\\\\\\\\\\\\": {\\\\\\\\\\\\\\\"selectedColumn\\\\\\\\\\\\\\\": \\\\\\\\\\\\\\\"day_of_week\\\\\\\\\\\\\\\"}}, \\\\\\\\\\\\\\\"typeProperty\\\\\\\\\\\\\\\": 2}, {\\\\\\\\\\\\\\\"column\\\\\\\\\\\\\\\": {\\\\\\\\\\\\\\\"type\\\\\\\\\\\\\\\": 2, \\\\\\\\\\\\\\\"details\\\\\\\\\\\\\\\": {\\\\\\\\\\\\\\\"selectedColumn\\\\\\\\\\\\\\\": \\\\\\\\\\\\\\\"duration\\\\\\\\\\\\\\\"}}, \\\\\\\\\\\\\\\"typeProperty\\\\\\\\\\\\\\\": 2}, {\\\\\\\\\\\\\\\"column\\\\\\\\\\\\\\\": {\\\\\\\\\\\\\\\"type\\\\\\\\\\\\\\\": 2, \\\\\\\\\\\\\\\"details\\\\\\\\\\\\\\\": {\\\\\\\\\\\\\\\"selectedColumn\\\\\\\\\\\\\\\": \\\\\\\\\\\\\\\"campaign\\\\\\\\\\\\\\\"}}, \\\\\\\\\\\\\\\"typeProperty\\\\\\\\\\\\\\\": 2}, {\\\\\\\\\\\\\\\"column\\\\\\\\\\\\\\\": {\\\\\\\\\\\\\\\"type\\\\\\\\\\\\\\\": 2, \\\\\\\\\\\\\\\"details\\\\\\\\\\\\\\\": {\\\\\\\\\\\\\\\"selectedColumn\\\\\\\\\\\\\\\": \\\\\\\\\\\\\\\"pdays\\\\\\\\\\\\\\\"}}, \\\\\\\\\\\\\\\"typeProperty\\\\\\\\\\\\\\\": 2}, {\\\\\\\\\\\\\\\"column\\\\\\\\\\\\\\\": {\\\\\\\\\\\\\\\"type\\\\\\\\\\\\\\\": 2, \\\\\\\\\\\\\\\"details\\\\\\\\\\\\\\\": {\\\\\\\\\\\\\\\"selectedColumn\\\\\\\\\\\\\\\": \\\\\\\\\\\\\\\"previous\\\\\\\\\\\\\\\"}}, \\\\\\\\\\\\\\\"typeProperty\\\\\\\\\\\\\\\": 2}, {\\\\\\\\\\\\\\\"column\\\\\\\\\\\\\\\": {\\\\\\\\\\\\\\\"type\\\\\\\\\\\\\\\": 2, \\\\\\\\\\\\\\\"details\\\\\\\\\\\\\\\": {\\\\\\\\\\\\\\\"selectedColumn\\\\\\\\\\\\\\\": \\\\\\\\\\\\\\\"poutcome\\\\\\\\\\\\\\\"}}, \\\\\\\\\\\\\\\"typeProperty\\\\\\\\\\\\\\\": 2}, {\\\\\\\\\\\\\\\"column\\\\\\\\\\\\\\\": {\\\\\\\\\\\\\\\"type\\\\\\\\\\\\\\\": 2, \\\\\\\\\\\\\\\"details\\\\\\\\\\\\\\\": {\\\\\\\\\\\\\\\"selectedColumn\\\\\\\\\\\\\\\": \\\\\\\\\\\\\\\"emp.var.rate\\\\\\\\\\\\\\\"}}, \\\\\\\\\\\\\\\"typeProperty\\\\\\\\\\\\\\\": 3}, {\\\\\\\\\\\\\\\"column\\\\\\\\\\\\\\\": {\\\\\\\\\\\\\\\"type\\\\\\\\\\\\\\\": 2, \\\\\\\\\\\\\\\"details\\\\\\\\\\\\\\\": {\\\\\\\\\\\\\\\"selectedColumn\\\\\\\\\\\\\\\": \\\\\\\\\\\\\\\"cons.price.idx\\\\\\\\\\\\\\\"}}, \\\\\\\\\\\\\\\"typeProperty\\\\\\\\\\\\\\\": 3}, {\\\\\\\\\\\\\\\"column\\\\\\\\\\\\\\\": {\\\\\\\\\\\\\\\"type\\\\\\\\\\\\\\\": 2, \\\\\\\\\\\\\\\"details\\\\\\\\\\\\\\\": {\\\\\\\\\\\\\\\"selectedColumn\\\\\\\\\\\\\\\": \\\\\\\\\\\\\\\"cons.conf.idx\\\\\\\\\\\\\\\"}}, \\\\\\\\\\\\\\\"typeProperty\\\\\\\\\\\\\\\": 3}, {\\\\\\\\\\\\\\\"column\\\\\\\\\\\\\\\": {\\\\\\\\\\\\\\\"type\\\\\\\\\\\\\\\": 2, \\\\\\\\\\\\\\\"details\\\\\\\\\\\\\\\": {\\\\\\\\\\\\\\\"selectedColumn\\\\\\\\\\\\\\\": \\\\\\\\\\\\\\\"euribor3m\\\\\\\\\\\\\\\"}}, \\\\\\\\\\\\\\\"typeProperty\\\\\\\\\\\\\\\": 3}, {\\\\\\\\\\\\\\\"column\\\\\\\\\\\\\\\": {\\\\\\\\\\\\\\\"type\\\\\\\\\\\\\\\": 2, \\\\\\\\\\\\\\\"details\\\\\\\\\\\\\\\": {\\\\\\\\\\\\\\\"selectedColumn\\\\\\\\\\\\\\\": \\\\\\\\\\\\\\\"nr.employed\\\\\\\\\\\\\\\"}}, \\\\\\\\\\\\\\\"typeProperty\\\\\\\\\\\\\\\": 3}, {\\\\\\\\\\\\\\\"column\\\\\\\\\\\\\\\": {\\\\\\\\\\\\\\\"type\\\\\\\\\\\\\\\": 2, \\\\\\\\\\\\\\\"details\\\\\\\\\\\\\\\": {\\\\\\\\\\\\\\\"selectedColumn\\\\\\\\\\\\\\\": \\\\\\\\\\\\\\\"job_admin.\\\\\\\\\\\\\\\"}}, \\\\\\\\\\\\\\\"typeProperty\\\\\\\\\\\\\\\": 2}, {\\\\\\\\\\\\\\\"column\\\\\\\\\\\\\\\": {\\\\\\\\\\\\\\\"type\\\\\\\\\\\\\\\": 2, \\\\\\\\\\\\\\\"details\\\\\\\\\\\\\\\": {\\\\\\\\\\\\\\\"selectedColumn\\\\\\\\\\\\\\\": \\\\\\\\\\\\\\\"job_blue-collar\\\\\\\\\\\\\\\"}}, \\\\\\\\\\\\\\\"typeProperty\\\\\\\\\\\\\\\": 2}, {\\\\\\\\\\\\\\\"column\\\\\\\\\\\\\\\": {\\\\\\\\\\\\\\\"type\\\\\\\\\\\\\\\": 2, \\\\\\\\\\\\\\\"details\\\\\\\\\\\\\\\": {\\\\\\\\\\\\\\\"selectedColumn\\\\\\\\\\\\\\\": \\\\\\\\\\\\\\\"job_entrepreneur\\\\\\\\\\\\\\\"}}, \\\\\\\\\\\\\\\"typeProperty\\\\\\\\\\\\\\\": 2}, {\\\\\\\\\\\\\\\"column\\\\\\\\\\\\\\\": {\\\\\\\\\\\\\\\"type\\\\\\\\\\\\\\\": 2, \\\\\\\\\\\\\\\"details\\\\\\\\\\\\\\\": {\\\\\\\\\\\\\\\"selectedColumn\\\\\\\\\\\\\\\": \\\\\\\\\\\\\\\"job_housemaid\\\\\\\\\\\\\\\"}}, \\\\\\\\\\\\\\\"typeProperty\\\\\\\\\\\\\\\": 2}, {\\\\\\\\\\\\\\\"column\\\\\\\\\\\\\\\": {\\\\\\\\\\\\\\\"type\\\\\\\\\\\\\\\": 2, \\\\\\\\\\\\\\\"details\\\\\\\\\\\\\\\": {\\\\\\\\\\\\\\\"selectedColumn\\\\\\\\\\\\\\\": \\\\\\\\\\\\\\\"job_management\\\\\\\\\\\\\\\"}}, \\\\\\\\\\\\\\\"typeProperty\\\\\\\\\\\\\\\": 2}, {\\\\\\\\\\\\\\\"column\\\\\\\\\\\\\\\": {\\\\\\\\\\\\\\\"type\\\\\\\\\\\\\\\": 2, \\\\\\\\\\\\\\\"details\\\\\\\\\\\\\\\": {\\\\\\\\\\\\\\\"selectedColumn\\\\\\\\\\\\\\\": \\\\\\\\\\\\\\\"job_retired\\\\\\\\\\\\\\\"}}, \\\\\\\\\\\\\\\"typeProperty\\\\\\\\\\\\\\\": 2}, {\\\\\\\\\\\\\\\"column\\\\\\\\\\\\\\\": {\\\\\\\\\\\\\\\"type\\\\\\\\\\\\\\\": 2, \\\\\\\\\\\\\\\"details\\\\\\\\\\\\\\\": {\\\\\\\\\\\\\\\"selectedColumn\\\\\\\\\\\\\\\": \\\\\\\\\\\\\\\"job_self-employed\\\\\\\\\\\\\\\"}}, \\\\\\\\\\\\\\\"typeProperty\\\\\\\\\\\\\\\": 2}, {\\\\\\\\\\\\\\\"column\\\\\\\\\\\\\\\": {\\\\\\\\\\\\\\\"type\\\\\\\\\\\\\\\": 2, \\\\\\\\\\\\\\\"details\\\\\\\\\\\\\\\": {\\\\\\\\\\\\\\\"selectedColumn\\\\\\\\\\\\\\\": \\\\\\\\\\\\\\\"job_services\\\\\\\\\\\\\\\"}}, \\\\\\\\\\\\\\\"typeProperty\\\\\\\\\\\\\\\": 2}, {\\\\\\\\\\\\\\\"column\\\\\\\\\\\\\\\": {\\\\\\\\\\\\\\\"type\\\\\\\\\\\\\\\": 2, \\\\\\\\\\\\\\\"details\\\\\\\\\\\\\\\": {\\\\\\\\\\\\\\\"selectedColumn\\\\\\\\\\\\\\\": \\\\\\\\\\\\\\\"job_student\\\\\\\\\\\\\\\"}}, \\\\\\\\\\\\\\\"typeProperty\\\\\\\\\\\\\\\": 2}, {\\\\\\\\\\\\\\\"column\\\\\\\\\\\\\\\": {\\\\\\\\\\\\\\\"type\\\\\\\\\\\\\\\": 2, \\\\\\\\\\\\\\\"details\\\\\\\\\\\\\\\": {\\\\\\\\\\\\\\\"selectedColumn\\\\\\\\\\\\\\\": \\\\\\\\\\\\\\\"job_technician\\\\\\\\\\\\\\\"}}, \\\\\\\\\\\\\\\"typeProperty\\\\\\\\\\\\\\\": 2}, {\\\\\\\\\\\\\\\"column\\\\\\\\\\\\\\\": {\\\\\\\\\\\\\\\"type\\\\\\\\\\\\\\\": 2, \\\\\\\\\\\\\\\"details\\\\\\\\\\\\\\\": {\\\\\\\\\\\\\\\"selectedColumn\\\\\\\\\\\\\\\": \\\\\\\\\\\\\\\"job_unemployed\\\\\\\\\\\\\\\"}}, \\\\\\\\\\\\\\\"typeProperty\\\\\\\\\\\\\\\": 2}, {\\\\\\\\\\\\\\\"column\\\\\\\\\\\\\\\": {\\\\\\\\\\\\\\\"type\\\\\\\\\\\\\\\": 2, \\\\\\\\\\\\\\\"details\\\\\\\\\\\\\\\": {\\\\\\\\\\\\\\\"selectedColumn\\\\\\\\\\\\\\\": \\\\\\\\\\\\\\\"job_unknown\\\\\\\\\\\\\\\"}}, \\\\\\\\\\\\\\\"typeProperty\\\\\\\\\\\\\\\": 2}, {\\\\\\\\\\\\\\\"column\\\\\\\\\\\\\\\": {\\\\\\\\\\\\\\\"type\\\\\\\\\\\\\\\": 2, \\\\\\\\\\\\\\\"details\\\\\\\\\\\\\\\": {\\\\\\\\\\\\\\\"selectedColumn\\\\\\\\\\\\\\\": \\\\\\\\\\\\\\\"contact_cellular\\\\\\\\\\\\\\\"}}, \\\\\\\\\\\\\\\"typeProperty\\\\\\\\\\\\\\\": 2}, {\\\\\\\\\\\\\\\"column\\\\\\\\\\\\\\\": {\\\\\\\\\\\\\\\"type\\\\\\\\\\\\\\\": 2, \\\\\\\\\\\\\\\"details\\\\\\\\\\\\\\\": {\\\\\\\\\\\\\\\"selectedColumn\\\\\\\\\\\\\\\": \\\\\\\\\\\\\\\"contact_telephone\\\\\\\\\\\\\\\"}}, \\\\\\\\\\\\\\\"typeProperty\\\\\\\\\\\\\\\": 2}, {\\\\\\\\\\\\\\\"column\\\\\\\\\\\\\\\": {\\\\\\\\\\\\\\\"type\\\\\\\\\\\\\\\": 2, \\\\\\\\\\\\\\\"details\\\\\\\\\\\\\\\": {\\\\\\\\\\\\\\\"selectedColumn\\\\\\\\\\\\\\\": \\\\\\\\\\\\\\\"education_basic.4y\\\\\\\\\\\\\\\"}}, \\\\\\\\\\\\\\\"typeProperty\\\\\\\\\\\\\\\": 2}, {\\\\\\\\\\\\\\\"column\\\\\\\\\\\\\\\": {\\\\\\\\\\\\\\\"type\\\\\\\\\\\\\\\": 2, \\\\\\\\\\\\\\\"details\\\\\\\\\\\\\\\": {\\\\\\\\\\\\\\\"selectedColumn\\\\\\\\\\\\\\\": \\\\\\\\\\\\\\\"education_basic.6y\\\\\\\\\\\\\\\"}}, \\\\\\\\\\\\\\\"typeProperty\\\\\\\\\\\\\\\": 2}, {\\\\\\\\\\\\\\\"column\\\\\\\\\\\\\\\": {\\\\\\\\\\\\\\\"type\\\\\\\\\\\\\\\": 2, \\\\\\\\\\\\\\\"details\\\\\\\\\\\\\\\": {\\\\\\\\\\\\\\\"selectedColumn\\\\\\\\\\\\\\\": \\\\\\\\\\\\\\\"education_basic.9y\\\\\\\\\\\\\\\"}}, \\\\\\\\\\\\\\\"typeProperty\\\\\\\\\\\\\\\": 2}, {\\\\\\\\\\\\\\\"column\\\\\\\\\\\\\\\": {\\\\\\\\\\\\\\\"type\\\\\\\\\\\\\\\": 2, \\\\\\\\\\\\\\\"details\\\\\\\\\\\\\\\": {\\\\\\\\\\\\\\\"selectedColumn\\\\\\\\\\\\\\\": \\\\\\\\\\\\\\\"education_high.school\\\\\\\\\\\\\\\"}}, \\\\\\\\\\\\\\\"typeProperty\\\\\\\\\\\\\\\": 2}, {\\\\\\\\\\\\\\\"column\\\\\\\\\\\\\\\": {\\\\\\\\\\\\\\\"type\\\\\\\\\\\\\\\": 2, \\\\\\\\\\\\\\\"details\\\\\\\\\\\\\\\": {\\\\\\\\\\\\\\\"selectedColumn\\\\\\\\\\\\\\\": \\\\\\\\\\\\\\\"education_illiterate\\\\\\\\\\\\\\\"}}, \\\\\\\\\\\\\\\"typeProperty\\\\\\\\\\\\\\\": 2}, {\\\\\\\\\\\\\\\"column\\\\\\\\\\\\\\\": {\\\\\\\\\\\\\\\"type\\\\\\\\\\\\\\\": 2, \\\\\\\\\\\\\\\"details\\\\\\\\\\\\\\\": {\\\\\\\\\\\\\\\"selectedColumn\\\\\\\\\\\\\\\": \\\\\\\\\\\\\\\"education_professional.course\\\\\\\\\\\\\\\"}}, \\\\\\\\\\\\\\\"typeProperty\\\\\\\\\\\\\\\": 2}, {\\\\\\\\\\\\\\\"column\\\\\\\\\\\\\\\": {\\\\\\\\\\\\\\\"type\\\\\\\\\\\\\\\": 2, \\\\\\\\\\\\\\\"details\\\\\\\\\\\\\\\": {\\\\\\\\\\\\\\\"selectedColumn\\\\\\\\\\\\\\\": \\\\\\\\\\\\\\\"education_university.degree\\\\\\\\\\\\\\\"}}, \\\\\\\\\\\\\\\"typeProperty\\\\\\\\\\\\\\\": 2}, {\\\\\\\\\\\\\\\"column\\\\\\\\\\\\\\\": {\\\\\\\\\\\\\\\"type\\\\\\\\\\\\\\\": 2, \\\\\\\\\\\\\\\"details\\\\\\\\\\\\\\\": {\\\\\\\\\\\\\\\"selectedColumn\\\\\\\\\\\\\\\": \\\\\\\\\\\\\\\"education_unknown\\\\\\\\\\\\\\\"}}, \\\\\\\\\\\\\\\"typeProperty\\\\\\\\\\\\\\\": 2}, {\\\\\\\\\\\\\\\"column\\\\\\\\\\\\\\\": {\\\\\\\\\\\\\\\"type\\\\\\\\\\\\\\\": 2, \\\\\\\\\\\\\\\"details\\\\\\\\\\\\\\\": {\\\\\\\\\\\\\\\"selectedColumn\\\\\\\\\\\\\\\": \\\\\\\\\\\\\\\"y\\\\\\\\\\\\\\\"}}, \\\\\\\\\\\\\\\"typeProperty\\\\\\\\\\\\\\\": 2}]}, \\\\\\\\\\\\\\\"localData\\\\\\\\\\\\\\\": {}, \\\\\\\\\\\\\\\"isEnabled\\\\\\\\\\\\\\\": true, \\\\\\\\\\\\\\\"name\\\\\\\\\\\\\\\": null, \\\\\\\\\\\\\\\"annotation\\\\\\\\\\\\\\\": null}], \\\\\\\\\\\\\\\"inspectors\\\\\\\\\\\\\\\": [], \\\\\\\\\\\\\\\"meta\\\\\\\\\\\\\\\": {\\\\\\\\\\\\\\\"savedDatasetId\\\\\\\\\\\\\\\": \\\\\\\\\\\\\\\"17c7d797-d3c7-4cd8-b6aa-97fcedf6aa5e\\\\\\\\\\\\\\\", \\\\\\\\\\\\\\\"datasetType\\\\\\\\\\\\\\\": \\\\\\\\\\\\\\\"tabular\\\\\\\\\\\\\\\", \\\\\\\\\\\\\\\"subscriptionId\\\\\\\\\\\\\\\": \\\\\\\\\\\\\\\"8bb47da5-84b5-43cf-bd4a-97928e5c9b08\\\\\\\\\\\\\\\", \\\\\\\\\\\\\\\"workspaceId\\\\\\\\\\\\\\\": \\\\\\\\\\\\\\\"88640893-e9cb-4796-8bf2-0bd03118d588\\\\\\\\\\\\\\\", \\\\\\\\\\\\\\\"workspaceLocation\\\\\\\\\\\\\\\": \\\\\\\\\\\\\\\"southcentralus\\\\\\\\\\\\\\\"}}\\\\\\\", \\\\\\\"activities\\\\\\\": 0}\", \"EnableSubsampling\": \"False\", \"runTemplate\": \"AutoML\", \"azureml.runsource\": \"automl\", \"display_task_type\": \"classification\", \"dependencies_versions\": \"{\\\"azureml-widgets\\\": \\\"1.18.0\\\", \\\"azureml-train\\\": \\\"1.18.0\\\", \\\"azureml-train-restclients-hyperdrive\\\": \\\"1.18.0\\\", \\\"azureml-train-core\\\": \\\"1.18.0\\\", \\\"azureml-train-automl\\\": \\\"1.18.0\\\", \\\"azureml-train-automl-runtime\\\": \\\"1.18.0\\\", \\\"azureml-train-automl-client\\\": \\\"1.18.0\\\", \\\"azureml-tensorboard\\\": \\\"1.18.0\\\", \\\"azureml-telemetry\\\": \\\"1.18.0\\\", \\\"azureml-sdk\\\": \\\"1.18.0\\\", \\\"azureml-samples\\\": \\\"0+unknown\\\", \\\"azureml-pipeline\\\": \\\"1.18.0\\\", \\\"azureml-pipeline-steps\\\": \\\"1.18.0\\\", \\\"azureml-pipeline-core\\\": \\\"1.18.0\\\", \\\"azureml-opendatasets\\\": \\\"1.18.0\\\", \\\"azureml-model-management-sdk\\\": \\\"1.0.1b6.post1\\\", \\\"azureml-mlflow\\\": \\\"1.18.0\\\", \\\"azureml-interpret\\\": \\\"1.18.0\\\", \\\"azureml-explain-model\\\": \\\"1.18.0\\\", \\\"azureml-defaults\\\": \\\"1.18.0\\\", \\\"azureml-dataset-runtime\\\": \\\"1.18.0\\\", \\\"azureml-dataprep\\\": \\\"2.4.2\\\", \\\"azureml-dataprep-rslex\\\": \\\"1.2.2\\\", \\\"azureml-dataprep-native\\\": \\\"24.0.0\\\", \\\"azureml-datadrift\\\": \\\"1.18.0\\\", \\\"azureml-core\\\": \\\"1.18.0\\\", \\\"azureml-contrib-services\\\": \\\"1.18.0\\\", \\\"azureml-contrib-server\\\": \\\"1.18.0\\\", \\\"azureml-contrib-reinforcementlearning\\\": \\\"1.18.0\\\", \\\"azureml-contrib-pipeline-steps\\\": \\\"1.18.0\\\", \\\"azureml-contrib-notebook\\\": \\\"1.18.0\\\", \\\"azureml-contrib-interpret\\\": \\\"1.18.0\\\", \\\"azureml-contrib-gbdt\\\": \\\"1.18.0\\\", \\\"azureml-contrib-fairness\\\": \\\"1.18.0\\\", \\\"azureml-contrib-dataset\\\": \\\"1.18.0\\\", \\\"azureml-cli-common\\\": \\\"1.18.0\\\", \\\"azureml-automl-runtime\\\": \\\"1.18.0\\\", \\\"azureml-automl-core\\\": \\\"1.18.0\\\", \\\"azureml-accel-models\\\": \\\"1.18.0\\\"}\", \"_aml_system_scenario_identification\": \"Remote.Parent\", \"ClientType\": \"SDK\", \"environment_cpu_name\": \"AzureML-AutoML\", \"environment_cpu_version\": \"44\", \"environment_gpu_name\": \"AzureML-AutoML-GPU\", \"environment_gpu_version\": \"32\", \"root_attribution\": \"automl\", \"attribution\": \"AutoML\", \"Orchestrator\": \"AutoML\", \"CancelUri\": \"https://southcentralus.experiments.azureml.net/jasmine/v1.0/subscriptions/8bb47da5-84b5-43cf-bd4a-97928e5c9b08/resourceGroups/aml-quickstarts-127521/providers/Microsoft.MachineLearningServices/workspaces/quick-starts-ws-127521/experimentids/34a366c0-96d4-496e-88ef-02df9b8644fe/cancel/AutoML_87c610c3-3498-4e8b-abb4-0d38c5f6dc85\", \"ClientSdkVersion\": \"1.17.0\", \"snapshotId\": \"00000000-0000-0000-0000-000000000000\", \"SetupRunId\": \"AutoML_87c610c3-3498-4e8b-abb4-0d38c5f6dc85_setup\", \"SetupRunContainerId\": \"dcid.AutoML_87c610c3-3498-4e8b-abb4-0d38c5f6dc85_setup\", \"FeaturizationRunJsonPath\": \"featurizer_container.json\", \"FeaturizationRunId\": \"AutoML_87c610c3-3498-4e8b-abb4-0d38c5f6dc85_featurize\", \"ProblemInfoJsonString\": \"{\\\"dataset_num_categorical\\\": 0, \\\"is_sparse\\\": false, \\\"subsampling\\\": false, \\\"dataset_classes\\\": 2, \\\"dataset_features\\\": 39, \\\"dataset_samples\\\": 32950, \\\"single_frequency_class_detected\\\": false}\", \"ModelExplainRunId\": \"AutoML_87c610c3-3498-4e8b-abb4-0d38c5f6dc85_ModelExplain\"}, \"tags\": {\"model_explain_run\": \"best_run\", \"_aml_system_azureml.automlComponent\": \"AutoML\", \"pipeline_id\": \"<5dfac790c5c209f98a1da2dc1c7fb76f0397324f>;<b19eeb61727e9c4fbb5aa45fb6e9fe3fab5b1f04>;<f873311e8cfb2bcdbeb6c20367cf912f4ee6733e>;<62c0e30b2e9113b3ecd95bcf5b31423c72074070>;<cf1dc9b7ea4a50d759bce352343ec6737501695a>;<47dd667bb7c34b68c9fffa6fd580565b1f85400f>;<713f188a27b176644f73e8664c667c674a2d3d62>;<c7af0367625be6ac5c2fecbfc72ed444cb7a2111>;<9e3f4780268658ad403e896559a8d3406152018c>;<59e4a1b86a57dfaeac5f3a051de6155ffc74f55b>;<a2983da01504b121cc4056d933a1191b51be87bc>;<e81d621ed176e5fac9def492d4ac54f304146b7c>;<52ac74da744a165756acc49238b34b81115532fd>;<4d4be808b8b6dd0f67e8354c79eddd3d712440a5>;<8de8c085d2a4b23d3f4cc392a2f2660d23d38c14>;<a91f8b94ae9bf0dfc66e93d29d1ef41b7e2687f2>;<d8d1a28b70a271fc16185d8e06b7faeee4bdd817>;<19bb9b610818186383462e6b1f9b568bc04b93e9>;<9fd7f177a78effac65f3f97ae40ca91e296c3f10>;<80d7fafc6227885ab86e843212a0c5ea47a69004>;<f86e0c37319548491774cfe027df9161ae6eecd2>;<7e6d29ac12f87df549568aa4d87b909e180e45bc>;<ce2643edf3d450b10c86c7d034a9bc952dc282d3>;<51ae05309834b29f71340af1008fc94fbd8213f4>;<9845a0ba1345a7474c237d10111bcf5bccbb1f0e>;<b4a0428cf617d278b7c36eb08f59ce18de99dc45>;<19ffa0b5813a11fb58f0307c4b67f7c2427d4abe>;<ac4103f4d2e0e57400347bfffbf68939e1e8d524>;<bc9206626b500d75953081471497ef8df99a5b5f>;<5137256132f165a421638387c87d41b6c0d1817e>;<c7429113d717a6044b165823048687f69481b4cc>;<b812b001659890f35944ca9eb5e28b7c42f84f60>;<b384b61ec2b0b4940646d842fa38644621f4b6d6>;<8074549769a8fe5b59c8e26af2477ca0c0c80b85>;<cf12e126d4ddfbf3a5ebb1da95f8dbcc103aa005>;<5b861cc8754f4d848fbbbf92fb5c05e57f7b08e0>;<98dc551fad95e994cbc10f1dcc14d1bbb2f1c328>;<53811b30388278919e95446b981e47cf3933205a>;<223e0a6fd852e8c4f3352e6cfaebe194b308bf77>;<53a1cf420f8e11e584dcd9b88b6f10e5b3a1068c>;<26c5802820fcca0f29774e6208fbefb4ffdf2661>;<d0f1df945887f9020094a0aac3b0b4af78bc2526>;<5207f6b832a1dbf62a220ab05b7f38af465315e5>;<f3da3bfc2fcd3ac51620d0f3af55ea83a8551a86>;<aa9531800d86488ff6be9e6d71b533dfe13e7344>;<672171d97150b0cd0b0e70de4dbad0368f3c5a97>;<c13339491a5a689c637e22ec22dec3485616e943>;<8e06226e6c3fc17784e94e70f5ffc0f72d029ad3>;<a3e4f76bf9cfc15eb1c2c62b6c10915879e99607>;<85bd4b12621c37f68a6ed687cc076a6f10a67ffc>;<fdd64823d1a62cfa5aaaed5b744b5b0d5d790932>;<a34bc4bda7635db537fa5fcc31a922158b179946>;<0f1ed3c53d9f7f71e721d10b39af12388e88543b>;<c0443e33e316807dbd179ab6702a4e781a752b6d>;<aaee19cf95285e79922c2d9e3463f8c495eb0ab0>;<d04d61ef87424dcbd59afe3572256f984e848eb4>;<a7b00f2f8b315094703c1fde2fbf4bb33737167c>;<a412c5528a2193e54f084bb7d1d66e78643d1bb1>;<f7d2caf86400cc2b9ee7c276b232f07f8df08656>;<32baf07f00ce7bd5313a6b006a8334311d943818>;<a0a9c31cf0dfe9a48fc832f51aa5583d74275001>;<233f186b6167b83949f2195d56f448348b6e2302>;<159828dafdee93d2d0e702dca07805baa45b40e2>;<4c1c0c1ce6978a0d312c94d7400e35b09251351a>;<e0031e5e574855d1529dd840877a71a59f5ceb82>;<40acdd8311dcfbc7a5464183e2b01f78b50c425d>;<755c03be39c377628bbed82fdd857e3d899b22cc>;<64fae5b9d4bf2d026b1e329bd81d287315c55e81>;<cbbef77cccbd4de8c0d832bcf23c4b1c3448cfe8>;<52faa0bfa3fec09c82be28544dc3abf5f56865cf>;<fff68233db1fe67bfec6a7ab999ccb058b9cec32>;<93ccef8475b5a6e90025438774875da1651ba84a>;<95e12a62afb53b532831ab32afecaa70bd272830>;<39fb3dad855b087df33ae0e6348f191ebe9ae8b6>;<5d91a0857abe676697f4b01aaee82b8a0f58f8e9>;<cf75e51ad4d88fbb0b59b70023b8ca3b77c01861>;<e015782b4f4b4b9141fd747f49dcf053aa5ecfbe>;<9a2fc879504c8d4d03b665ccd451225ccb56e6e6>;<a47b46e401fe9934da9592a92a5ec905c4472024>;<454ddf39df91d8e95f4aef9f098e902a0836b414>;<c611a6e591ff3cae50a3f8df42e5c4f2a996823c>;<277c5d084ffb150ac5196ebae931cf5f336fa71b>;<__AutoML_Stack_Ensemble__>;<__AutoML_Ensemble__>;\", \"score\": \"<0.915113808801214>;<0.8879514415781488>;<0.9087708649468894>;<0.8969954476479515>;<0.898877086494689>;<0.8563581183611534>;<0.9028224582701062>;<0.9152352048558422>;<0.8051896813353567>;<0.9040364188163885>;<0.8468285280728377>;<0.9057359635811837>;<0.7228224582701062>;<0.9001213960546283>;<0.8989681335356602>;<0.9071927162367223>;<0.8988163884673748>;<0.8418209408194233>;<0.8258270106221547>;<0.8002731411229135>;<0.8014264036418816>;<0.8575720789074357>;<0.899544764795144>;<0.8993323216995448>;<0.7245523520485584>;<0.8879514415781488>;<0.7603945371775417>;<0.7706221547799696>;<0.906555386949924>;<0.8880121396054628>;<0.8879514415781488>;<0.8879514415781488>;<0.9157511380880121>;<0.9000910470409712>;<0.9146585735963582>;<0.8879514415781488>;<0.8976934749620638>;<0.9138391502276176>;<0.8998482549317147>;<0.8879514415781488>;<0.8879514415781488>;<0.9001517450682852>;<0.907040971168437>;<0.8879514415781488>;<0.9091957511380879>;<0.896267071320182>;<0.9086798179059181>;<0.9080121396054628>;<0.8879514415781488>;<0.9105918057663125>;<0.9131107738998484>;<0.9128376327769347>;<0.9127162367223065>;<0.9127465857359637>;<0.9122610015174507>;<0.9137481031866465>;<0.9099241274658574>;<0.9074051593323217>;<0.9119575113808802>;<0.9150834597875569>;<0.9085887708649469>;<0.8879514415781488>;<0.9153566009104704>;<0.911350531107739>;<0.9123216995447649>;<0.897238239757208>;<0.9105311077389985>;<0.9142943854324734>;<0.9128983308042489>;<0.9127162367223065>;<0.913444613050076>;<0.9107435508345979>;<0.912382397572079>;<0.9136267071320182>;<NaN>;<NaN>;<NaN>;<NaN>;<NaN>;<NaN>;<NaN>;<NaN>;<0.9169650986342944>;<0.9173596358118361>;\", \"predicted_cost\": \"<0>;<0.5>;<0.5>;<0.5>;<0.5>;<0.5>;<0.5>;<0>;<0.5>;<0.12020618534026527>;<0.10857877582365154>;<0.1703346>;<0.270857260556848>;<0.2232262572906809>;<0.2213955754927342>;<0.10729025522757987>;<0.2485904383138717>;<0.0905769038563965>;<0.2025818776282732>;<0.19171900474406306>;<0.22439011806718995>;<0.09062359114541994>;<0.2809334472103885>;<0.2656202702780123>;<0.25529424431114234>;<0.1910486727964145>;<0.301121739009936>;<0.25621939326454635>;<0.08629989171672138>;<0.23122635569408512>;<0.33317199559327815>;<0.19686745511692705>;<0.21450562876959264>;<0.30959451569829644>;<0.21823492843615863>;<0.27727704170051065>;<0.277056029712078>;<0.33724764312186434>;<0.3219062397374991>;<0.33613748916919356>;<0.1353005017141526>;<0.24577343838849203>;<0.44994337374872684>;<0.6907079437731768>;<0.6012299713198166>;<0.3735650587115612>;<0.19025518571816222>;<0.6576523514648683>;<0.964128287998166>;<0.8308234533246026>;<0.6820861084352862>;<0.9606285184006277>;<0.8512784858147043>;<1.1662356983832318>;<1.4057840805045791>;<0.6040627677313057>;<1.7922596585007462>;<0.6780951368324388>;<0.3708082561840748>;<1.46599355261159>;<1.489679340459658>;<2.409758383398033>;<1.0658417600804073>;<2.472783410298084>;<2.1891990959064667>;<0.517800745660284>;<1.0222660479096286>;<0.5090545988913224>;<1.7124571919153118>;<1.9063327405709676>;<0.8222622729959377>;<0.47525288341425237>;<1.830331093011756>;<2.9591484457947255>;<0.962964225781101>;<0.940982374126419>;<0.7237964717473051>;<1.0872968035184294>;<1.302985727175111>;<1.1254788928100454>;<3.0503192488496533>;<4.179524962021984>;<0>;<0>;\", \"fit_time\": \"<0.6197562000000001>;<0.1703346>;<0.1034302>;<0.5483976>;<0.21375320000000003>;<0.07001199999999999>;<0.20578399999999997>;<2.8380388>;<0.34901859999999996>;<0.26849259999999997>;<0.1074484>;<0.06269480000000001>;<0.47797039999999996>;<0.39886579999999994>;<0.3116622>;<0.2351298>;<0.3738272>;<0.12884500000000002>;<0.5797306>;<0.1856144>;<0.0995404>;<0.1197994>;<0.1549922>;<0.325355>;<0.4016197999999999>;<0.4369158000000001>;<0.6415924000000001>;<0.1695966>;<0.0912372>;<0.37858879999999995>;<2.5357874>;<0.1302464>;<1.1002036>;<0.5085362>;<0.8417548>;<0.43412819999999996>;<0.1846808>;<4.491403200000001>;<1.43045>;<0.9091357999999999>;<0.12141939999999998>;<0.3891688>;<0.3240172>;<4.0728254>;<2.0821472>;<0.2004052>;<1.4591114>;<0.9021256000000001>;<3.7084469999999996>;<12.409237199999998>;<7.189494400000001>;<8.404038400000001>;<1.8638984>;<9.475006400000002>;<0.5428388000000001>;<0.5438881999999999>;<0.22178400000000004>;<0.430775>;<0.467781>;<1.6028179999999999>;<0.6955088>;<4.896772>;<2.7163551999999997>;<10.596650400000001>;<2.0384262>;<1.0644368000000002>;<0.96288>;<0.757734>;<10.0941612>;<0.25749799999999995>;<0.7474486>;<0.49044220000000005>;<10.8833324>;<6.2658402>;<NaN>;<NaN>;<NaN>;<NaN>;<NaN>;<NaN>;<NaN>;<NaN>;<82>;<60>;\", \"training_percent\": \"<100>;<100>;<100>;<100>;<100>;<100>;<100>;<100>;<100>;<100>;<100>;<100>;<100>;<100>;<100>;<100>;<100>;<100>;<100>;<100>;<100>;<100>;<100>;<100>;<100>;<100>;<100>;<100>;<100>;<100>;<100>;<100>;<100>;<100>;<100>;<100>;<100>;<100>;<100>;<100>;<100>;<100>;<100>;<100>;<100>;<100>;<100>;<100>;<100>;<100>;<100>;<100>;<100>;<100>;<100>;<100>;<100>;<100>;<100>;<100>;<100>;<100>;<100>;<100>;<100>;<100>;<100>;<100>;<100>;<100>;<100>;<100>;<100>;<100>;<100>;<100>;<100>;<100>;<100>;<100>;<100>;<100>;<100>;<100>;\", \"iteration\": \"<0>;<4>;<3>;<7>;<2>;<5>;<6>;<1>;<8>;<10>;<11>;<9>;<12>;<15>;<14>;<13>;<16>;<18>;<19>;<17>;<20>;<23>;<22>;<24>;<21>;<25>;<27>;<28>;<26>;<30>;<29>;<31>;<32>;<33>;<34>;<35>;<37>;<36>;<38>;<39>;<40>;<41>;<43>;<42>;<44>;<45>;<47>;<48>;<46>;<49>;<50>;<51>;<54>;<52>;<55>;<56>;<53>;<57>;<58>;<59>;<61>;<62>;<64>;<60>;<63>;<68>;<66>;<65>;<67>;<70>;<71>;<73>;<69>;<72>;<75>;<77>;<78>;<79>;<74>;<76>;<80>;<81>;<83>;<82>;\", \"run_preprocessor\": \"<MaxAbsScaler>;<MinMaxScaler>;<StandardScalerWrapper>;<RobustScaler>;<MinMaxScaler>;<StandardScalerWrapper>;<StandardScalerWrapper>;<MaxAbsScaler>;<StandardScalerWrapper>;<StandardScalerWrapper>;<MinMaxScaler>;<StandardScalerWrapper>;<RobustScaler>;<MinMaxScaler>;<MinMaxScaler>;<MinMaxScaler>;<MinMaxScaler>;<StandardScalerWrapper>;<RobustScaler>;<StandardScalerWrapper>;<StandardScalerWrapper>;<MinMaxScaler>;<MaxAbsScaler>;<MaxAbsScaler>;<MinMaxScaler>;<SparseNormalizer>;<MaxAbsScaler>;<MaxAbsScaler>;<MaxAbsScaler>;<PCA>;<MaxAbsScaler>;<MaxAbsScaler>;<StandardScalerWrapper>;<MaxAbsScaler>;<SparseNormalizer>;<StandardScalerWrapper>;<MinMaxScaler>;<SparseNormalizer>;<StandardScalerWrapper>;<MaxAbsScaler>;<SparseNormalizer>;<MaxAbsScaler>;<SparseNormalizer>;<StandardScalerWrapper>;<MaxAbsScaler>;<StandardScalerWrapper>;<MinMaxScaler>;<MaxAbsScaler>;<StandardScalerWrapper>;<SparseNormalizer>;<SparseNormalizer>;<SparseNormalizer>;<SparseNormalizer>;<SparseNormalizer>;<StandardScalerWrapper>;<SparseNormalizer>;<StandardScalerWrapper>;<StandardScalerWrapper>;<StandardScalerWrapper>;<SparseNormalizer>;<MaxAbsScaler>;<StandardScalerWrapper>;<StandardScalerWrapper>;<StandardScalerWrapper>;<SparseNormalizer>;<MaxAbsScaler>;<MaxAbsScaler>;<StandardScalerWrapper>;<SparseNormalizer>;<StandardScalerWrapper>;<SparseNormalizer>;<SparseNormalizer>;<SparseNormalizer>;<SparseNormalizer>;<>;<>;<>;<>;<RobustScaler>;<>;<>;<>;<>;<>;\", \"run_algorithm\": \"<LightGBM>;<RandomForest>;<SGD>;<ExtremeRandomTrees>;<RandomForest>;<SGD>;<RandomForest>;<XGBoostClassifier>;<ExtremeRandomTrees>;<SGD>;<SGD>;<SGD>;<ExtremeRandomTrees>;<ExtremeRandomTrees>;<ExtremeRandomTrees>;<SGD>;<ExtremeRandomTrees>;<SGD>;<ExtremeRandomTrees>;<RandomForest>;<RandomForest>;<SGD>;<RandomForest>;<ExtremeRandomTrees>;<ExtremeRandomTrees>;<XGBoostClassifier>;<ExtremeRandomTrees>;<RandomForest>;<SGD>;<XGBoostClassifier>;<RandomForest>;<LightGBM>;<XGBoostClassifier>;<ExtremeRandomTrees>;<XGBoostClassifier>;<XGBoostClassifier>;<LightGBM>;<XGBoostClassifier>;<ExtremeRandomTrees>;<ExtremeRandomTrees>;<XGBoostClassifier>;<ExtremeRandomTrees>;<LightGBM>;<ExtremeRandomTrees>;<LightGBM>;<XGBoostClassifier>;<SGD>;<LightGBM>;<ExtremeRandomTrees>;<XGBoostClassifier>;<XGBoostClassifier>;<XGBoostClassifier>;<XGBoostClassifier>;<XGBoostClassifier>;<XGBoostClassifier>;<LightGBM>;<LogisticRegression>;<LightGBM>;<XGBoostClassifier>;<XGBoostClassifier>;<LightGBM>;<RandomForest>;<XGBoostClassifier>;<XGBoostClassifier>;<LightGBM>;<ExtremeRandomTrees>;<LightGBM>;<XGBoostClassifier>;<XGBoostClassifier>;<XGBoostClassifier>;<XGBoostClassifier>;<XGBoostClassifier>;<XGBoostClassifier>;<XGBoostClassifier>;<>;<>;<>;<>;<SVM>;<>;<>;<>;<StackEnsemble>;<VotingEnsemble>;\", \"dynamic_whitelisting_iterations\": \"<25>;<30>;<35>;<40>;<45>;<50>;<55>;<60>;<65>;<70>;<75>;<79>;\", \"automl_best_child_run_id\": \"AutoML_87c610c3-3498-4e8b-abb4-0d38c5f6dc85_82\", \"model_explain_best_run_child_id\": \"AutoML_87c610c3-3498-4e8b-abb4-0d38c5f6dc85_82\"}, \"end_time_utc\": \"2020-11-23T11:43:52.073638Z\", \"status\": \"Completed\", \"log_files\": {}, \"log_groups\": [], \"run_duration\": \"0:41:54\"}, \"child_runs\": [{\"run_id\": \"AutoML_87c610c3-3498-4e8b-abb4-0d38c5f6dc85_0\", \"run_number\": 6, \"metric\": null, \"status\": \"Completed\", \"run_type\": \"azureml.scriptrun\", \"training_percent\": \"100\", \"start_time\": \"2020-11-23T11:11:17.138985Z\", \"end_time\": \"2020-11-23T11:12:01.590993Z\", \"created_time\": \"2020-11-23T11:11:05.733287Z\", \"created_time_dt\": \"2020-11-23T11:11:05.733287Z\", \"duration\": \"0:00:55\", \"iteration\": \"0\", \"goal\": \"accuracy_max\", \"run_name\": \"MaxAbsScaler, LightGBM\", \"run_properties\": \"copy=True\", \"primary_metric\": 0.91511381, \"best_metric\": 0.91511381}, {\"run_id\": \"AutoML_87c610c3-3498-4e8b-abb4-0d38c5f6dc85_1\", \"run_number\": 7, \"metric\": null, \"status\": \"Completed\", \"run_type\": \"azureml.scriptrun\", \"training_percent\": \"100\", \"start_time\": \"2020-11-23T11:15:18.16582Z\", \"end_time\": \"2020-11-23T11:18:42.175144Z\", \"created_time\": \"2020-11-23T11:11:05.845316Z\", \"created_time_dt\": \"2020-11-23T11:11:05.845316Z\", \"duration\": \"0:07:36\", \"iteration\": \"1\", \"goal\": \"accuracy_max\", \"run_name\": \"MaxAbsScaler, XGBoostClassifier\", \"run_properties\": \"copy=True\", \"primary_metric\": 0.9152352, \"best_metric\": 0.9152352}, {\"run_id\": \"AutoML_87c610c3-3498-4e8b-abb4-0d38c5f6dc85_3\", \"run_number\": 8, \"metric\": null, \"status\": \"Completed\", \"run_type\": \"azureml.scriptrun\", \"training_percent\": \"100\", \"start_time\": \"2020-11-23T11:14:37.315203Z\", \"end_time\": \"2020-11-23T11:15:18.607443Z\", \"created_time\": \"2020-11-23T11:11:05.871626Z\", \"created_time_dt\": \"2020-11-23T11:11:05.871626Z\", \"duration\": \"0:04:12\", \"iteration\": \"3\", \"goal\": \"accuracy_max\", \"run_name\": \"StandardScalerWrapper, SGD\", \"run_properties\": \"<azureml.automl.runtime.shared.model_wrappers.StandardScalerWrapper object at 0x7fbae0089710\", \"primary_metric\": 0.90877086, \"best_metric\": 0.9152352}, {\"run_id\": \"AutoML_87c610c3-3498-4e8b-abb4-0d38c5f6dc85_6\", \"run_number\": 9, \"metric\": null, \"status\": \"Completed\", \"run_type\": \"azureml.scriptrun\", \"training_percent\": \"100\", \"start_time\": \"2020-11-23T11:15:15.005326Z\", \"end_time\": \"2020-11-23T11:18:33.855617Z\", \"created_time\": \"2020-11-23T11:11:05.876308Z\", \"created_time_dt\": \"2020-11-23T11:11:05.876308Z\", \"duration\": \"0:07:27\", \"iteration\": \"6\", \"goal\": \"accuracy_max\", \"run_name\": \"StandardScalerWrapper, RandomForest\", \"run_properties\": \"<azureml.automl.runtime.shared.model_wrappers.StandardScalerWrapper object at 0x7f112d6990b8\", \"primary_metric\": 0.90282246, \"best_metric\": 0.9152352}, {\"run_id\": \"AutoML_87c610c3-3498-4e8b-abb4-0d38c5f6dc85_5\", \"run_number\": 10, \"metric\": null, \"status\": \"Completed\", \"run_type\": \"azureml.scriptrun\", \"training_percent\": \"100\", \"start_time\": \"2020-11-23T11:15:18.129376Z\", \"end_time\": \"2020-11-23T11:18:24.960588Z\", \"created_time\": \"2020-11-23T11:11:05.888804Z\", \"created_time_dt\": \"2020-11-23T11:11:05.888804Z\", \"duration\": \"0:07:19\", \"iteration\": \"5\", \"goal\": \"accuracy_max\", \"run_name\": \"StandardScalerWrapper, SGD\", \"run_properties\": \"<azureml.automl.runtime.shared.model_wrappers.StandardScalerWrapper object at 0x7fd69a2efa90\", \"primary_metric\": 0.85635812, \"best_metric\": 0.9152352}, {\"run_id\": \"AutoML_87c610c3-3498-4e8b-abb4-0d38c5f6dc85_7\", \"run_number\": 11, \"metric\": null, \"status\": \"Completed\", \"run_type\": \"azureml.scriptrun\", \"training_percent\": \"100\", \"start_time\": \"2020-11-23T11:15:41.11107Z\", \"end_time\": \"2020-11-23T11:16:21.890743Z\", \"created_time\": \"2020-11-23T11:11:05.912647Z\", \"created_time_dt\": \"2020-11-23T11:11:05.912647Z\", \"duration\": \"0:05:15\", \"iteration\": \"7\", \"goal\": \"accuracy_max\", \"run_name\": \"RobustScaler, ExtremeRandomTrees\", \"run_properties\": \"copy=True, quantile_range=[10, 90], with_centering=False,\\n             with_scaling=False\", \"primary_metric\": 0.89699545, \"best_metric\": 0.9152352}, {\"run_id\": \"AutoML_87c610c3-3498-4e8b-abb4-0d38c5f6dc85_4\", \"run_number\": 12, \"metric\": null, \"status\": \"Completed\", \"run_type\": \"azureml.scriptrun\", \"training_percent\": \"100\", \"start_time\": \"2020-11-23T11:12:26.483317Z\", \"end_time\": \"2020-11-23T11:14:14.289397Z\", \"created_time\": \"2020-11-23T11:11:05.87255Z\", \"created_time_dt\": \"2020-11-23T11:11:05.87255Z\", \"duration\": \"0:03:08\", \"iteration\": \"4\", \"goal\": \"accuracy_max\", \"run_name\": \"MinMaxScaler, RandomForest\", \"run_properties\": \"copy=True, feature_range=(0, 1\", \"primary_metric\": 0.88795144, \"best_metric\": 0.9152352}, {\"run_id\": \"AutoML_87c610c3-3498-4e8b-abb4-0d38c5f6dc85_2\", \"run_number\": 13, \"metric\": null, \"status\": \"Completed\", \"run_type\": \"azureml.scriptrun\", \"training_percent\": \"100\", \"start_time\": \"2020-11-23T11:16:49.419404Z\", \"end_time\": \"2020-11-23T11:17:20.929374Z\", \"created_time\": \"2020-11-23T11:11:05.877032Z\", \"created_time_dt\": \"2020-11-23T11:11:05.877032Z\", \"duration\": \"0:06:15\", \"iteration\": \"2\", \"goal\": \"accuracy_max\", \"run_name\": \"MinMaxScaler, RandomForest\", \"run_properties\": \"copy=True, feature_range=(0, 1\", \"primary_metric\": 0.89887709, \"best_metric\": 0.9152352}, {\"run_id\": \"AutoML_87c610c3-3498-4e8b-abb4-0d38c5f6dc85_8\", \"run_number\": 14, \"metric\": null, \"status\": \"Completed\", \"run_type\": \"azureml.scriptrun\", \"training_percent\": \"100\", \"start_time\": \"2020-11-23T11:17:50.818614Z\", \"end_time\": \"2020-11-23T11:18:33.184157Z\", \"created_time\": \"2020-11-23T11:12:06.980067Z\", \"created_time_dt\": \"2020-11-23T11:12:06.980067Z\", \"duration\": \"0:06:26\", \"iteration\": \"8\", \"goal\": \"accuracy_max\", \"run_name\": \"StandardScalerWrapper, ExtremeRandomTrees\", \"run_properties\": \"<azureml.automl.runtime.shared.model_wrappers.StandardScalerWrapper object at 0x7f7d512d0c88\", \"primary_metric\": 0.80518968, \"best_metric\": 0.9152352}, {\"run_id\": \"AutoML_87c610c3-3498-4e8b-abb4-0d38c5f6dc85_9\", \"run_number\": 15, \"metric\": null, \"status\": \"Completed\", \"run_type\": \"azureml.scriptrun\", \"training_percent\": \"100\", \"start_time\": \"2020-11-23T11:18:53.528726Z\", \"end_time\": \"2020-11-23T11:19:36.003559Z\", \"created_time\": \"2020-11-23T11:14:21.887952Z\", \"created_time_dt\": \"2020-11-23T11:14:21.887952Z\", \"duration\": \"0:05:14\", \"iteration\": \"9\", \"goal\": \"accuracy_max\", \"run_name\": \"StandardScalerWrapper, SGD\", \"run_properties\": \"<azureml.automl.runtime.shared.model_wrappers.StandardScalerWrapper object at 0x7fa706ef16a0\", \"primary_metric\": 0.90573596, \"best_metric\": 0.9152352}, {\"run_id\": \"AutoML_87c610c3-3498-4e8b-abb4-0d38c5f6dc85_10\", \"run_number\": 16, \"metric\": null, \"status\": \"Completed\", \"run_type\": \"azureml.scriptrun\", \"training_percent\": \"100\", \"start_time\": \"2020-11-23T11:18:57.579039Z\", \"end_time\": \"2020-11-23T11:19:37.530601Z\", \"created_time\": \"2020-11-23T11:15:28.142584Z\", \"created_time_dt\": \"2020-11-23T11:15:28.142584Z\", \"duration\": \"0:04:09\", \"iteration\": \"10\", \"goal\": \"accuracy_max\", \"run_name\": \"StandardScalerWrapper, SGD\", \"run_properties\": \"<azureml.automl.runtime.shared.model_wrappers.StandardScalerWrapper object at 0x7fb768073eb8\", \"primary_metric\": 0.90403642, \"best_metric\": 0.9152352}, {\"run_id\": \"AutoML_87c610c3-3498-4e8b-abb4-0d38c5f6dc85_11\", \"run_number\": 17, \"metric\": null, \"status\": \"Completed\", \"run_type\": \"azureml.scriptrun\", \"training_percent\": \"100\", \"start_time\": \"2020-11-23T11:18:58.720516Z\", \"end_time\": \"2020-11-23T11:19:35.262835Z\", \"created_time\": \"2020-11-23T11:16:27.783198Z\", \"created_time_dt\": \"2020-11-23T11:16:27.783198Z\", \"duration\": \"0:03:07\", \"iteration\": \"11\", \"goal\": \"accuracy_max\", \"run_name\": \"MinMaxScaler, SGD\", \"run_properties\": \"copy=True, feature_range=(0, 1\", \"primary_metric\": 0.84682853, \"best_metric\": 0.9152352}, {\"run_id\": \"AutoML_87c610c3-3498-4e8b-abb4-0d38c5f6dc85_12\", \"run_number\": 18, \"metric\": null, \"status\": \"Completed\", \"run_type\": \"azureml.scriptrun\", \"training_percent\": \"100\", \"start_time\": \"2020-11-23T11:19:05.133081Z\", \"end_time\": \"2020-11-23T11:19:39.660859Z\", \"created_time\": \"2020-11-23T11:17:31.495198Z\", \"created_time_dt\": \"2020-11-23T11:17:31.495198Z\", \"duration\": \"0:02:08\", \"iteration\": \"12\", \"goal\": \"accuracy_max\", \"run_name\": \"RobustScaler, ExtremeRandomTrees\", \"run_properties\": \"copy=True, quantile_range=[10, 90], with_centering=False,\\n             with_scaling=False\", \"primary_metric\": 0.72282246, \"best_metric\": 0.9152352}, {\"run_id\": \"AutoML_87c610c3-3498-4e8b-abb4-0d38c5f6dc85_13\", \"run_number\": 19, \"metric\": null, \"status\": \"Completed\", \"run_type\": \"azureml.scriptrun\", \"training_percent\": \"100\", \"start_time\": \"2020-11-23T11:20:00.607998Z\", \"end_time\": \"2020-11-23T11:20:45.163318Z\", \"created_time\": \"2020-11-23T11:18:31.958674Z\", \"created_time_dt\": \"2020-11-23T11:18:31.958674Z\", \"duration\": \"0:02:13\", \"iteration\": \"13\", \"goal\": \"accuracy_max\", \"run_name\": \"MinMaxScaler, SGD\", \"run_properties\": \"copy=True, feature_range=(0, 1\", \"primary_metric\": 0.90719272, \"best_metric\": 0.9152352}, {\"run_id\": \"AutoML_87c610c3-3498-4e8b-abb4-0d38c5f6dc85_14\", \"run_number\": 20, \"metric\": null, \"status\": \"Completed\", \"run_type\": \"azureml.scriptrun\", \"training_percent\": \"100\", \"start_time\": \"2020-11-23T11:19:59.301321Z\", \"end_time\": \"2020-11-23T11:20:45.271638Z\", \"created_time\": \"2020-11-23T11:18:53.960748Z\", \"created_time_dt\": \"2020-11-23T11:18:53.960748Z\", \"duration\": \"0:01:51\", \"iteration\": \"14\", \"goal\": \"accuracy_max\", \"run_name\": \"MinMaxScaler, ExtremeRandomTrees\", \"run_properties\": \"copy=True, feature_range=(0, 1\", \"primary_metric\": 0.89896813, \"best_metric\": 0.9152352}, {\"run_id\": \"AutoML_87c610c3-3498-4e8b-abb4-0d38c5f6dc85_15\", \"run_number\": 21, \"metric\": null, \"status\": \"Completed\", \"run_type\": \"azureml.scriptrun\", \"training_percent\": \"100\", \"start_time\": \"2020-11-23T11:20:03.89429Z\", \"end_time\": \"2020-11-23T11:20:46.320717Z\", \"created_time\": \"2020-11-23T11:18:54.000123Z\", \"created_time_dt\": \"2020-11-23T11:18:54.000123Z\", \"duration\": \"0:01:52\", \"iteration\": \"15\", \"goal\": \"accuracy_max\", \"run_name\": \"MinMaxScaler, ExtremeRandomTrees\", \"run_properties\": \"copy=True, feature_range=(0, 1\", \"primary_metric\": 0.9001214, \"best_metric\": 0.9152352}, {\"run_id\": \"AutoML_87c610c3-3498-4e8b-abb4-0d38c5f6dc85_16\", \"run_number\": 22, \"metric\": null, \"status\": \"Completed\", \"run_type\": \"azureml.scriptrun\", \"training_percent\": \"100\", \"start_time\": \"2020-11-23T11:20:04.68868Z\", \"end_time\": \"2020-11-23T11:20:50.107576Z\", \"created_time\": \"2020-11-23T11:18:54.039346Z\", \"created_time_dt\": \"2020-11-23T11:18:54.039346Z\", \"duration\": \"0:01:56\", \"iteration\": \"16\", \"goal\": \"accuracy_max\", \"run_name\": \"MinMaxScaler, ExtremeRandomTrees\", \"run_properties\": \"copy=True, feature_range=(0, 1\", \"primary_metric\": 0.89881639, \"best_metric\": 0.9152352}, {\"run_id\": \"AutoML_87c610c3-3498-4e8b-abb4-0d38c5f6dc85_17\", \"run_number\": 23, \"metric\": null, \"status\": \"Completed\", \"run_type\": \"azureml.scriptrun\", \"training_percent\": \"100\", \"start_time\": \"2020-11-23T11:21:11.636124Z\", \"end_time\": \"2020-11-23T11:22:04.080989Z\", \"created_time\": \"2020-11-23T11:19:43.388507Z\", \"created_time_dt\": \"2020-11-23T11:19:43.388507Z\", \"duration\": \"0:02:20\", \"iteration\": \"17\", \"goal\": \"accuracy_max\", \"run_name\": \"StandardScalerWrapper, RandomForest\", \"run_properties\": \"<azureml.automl.runtime.shared.model_wrappers.StandardScalerWrapper object at 0x7f17115e25c0\", \"primary_metric\": 0.80027314, \"best_metric\": 0.9152352}, {\"run_id\": \"AutoML_87c610c3-3498-4e8b-abb4-0d38c5f6dc85_18\", \"run_number\": 24, \"metric\": null, \"status\": \"Completed\", \"run_type\": \"azureml.scriptrun\", \"training_percent\": \"100\", \"start_time\": \"2020-11-23T11:21:07.854145Z\", \"end_time\": \"2020-11-23T11:21:44.615631Z\", \"created_time\": \"2020-11-23T11:19:43.510613Z\", \"created_time_dt\": \"2020-11-23T11:19:43.510613Z\", \"duration\": \"0:02:01\", \"iteration\": \"18\", \"goal\": \"accuracy_max\", \"run_name\": \"StandardScalerWrapper, SGD\", \"run_properties\": \"<azureml.automl.runtime.shared.model_wrappers.StandardScalerWrapper object at 0x7f2b00d12400\", \"primary_metric\": 0.84182094, \"best_metric\": 0.9152352}, {\"run_id\": \"AutoML_87c610c3-3498-4e8b-abb4-0d38c5f6dc85_19\", \"run_number\": 25, \"metric\": null, \"status\": \"Completed\", \"run_type\": \"azureml.scriptrun\", \"training_percent\": \"100\", \"start_time\": \"2020-11-23T11:21:16.35286Z\", \"end_time\": \"2020-11-23T11:21:58.609949Z\", \"created_time\": \"2020-11-23T11:19:43.528763Z\", \"created_time_dt\": \"2020-11-23T11:19:43.528763Z\", \"duration\": \"0:02:15\", \"iteration\": \"19\", \"goal\": \"accuracy_max\", \"run_name\": \"RobustScaler, ExtremeRandomTrees\", \"run_properties\": \"copy=True, quantile_range=[25, 75], with_centering=True,\\n             with_scaling=False\", \"primary_metric\": 0.82582701, \"best_metric\": 0.9152352}, {\"run_id\": \"AutoML_87c610c3-3498-4e8b-abb4-0d38c5f6dc85_20\", \"run_number\": 26, \"metric\": null, \"status\": \"Completed\", \"run_type\": \"azureml.scriptrun\", \"training_percent\": \"100\", \"start_time\": \"2020-11-23T11:21:14.773334Z\", \"end_time\": \"2020-11-23T11:21:54.046078Z\", \"created_time\": \"2020-11-23T11:20:02.647429Z\", \"created_time_dt\": \"2020-11-23T11:20:02.647429Z\", \"duration\": \"0:01:51\", \"iteration\": \"20\", \"goal\": \"accuracy_max\", \"run_name\": \"StandardScalerWrapper, RandomForest\", \"run_properties\": \"<azureml.automl.runtime.shared.model_wrappers.StandardScalerWrapper object at 0x7fb06b3b3eb8\", \"primary_metric\": 0.8014264, \"best_metric\": 0.9152352}, {\"run_id\": \"AutoML_87c610c3-3498-4e8b-abb4-0d38c5f6dc85_21\", \"run_number\": 27, \"metric\": null, \"status\": \"Completed\", \"run_type\": \"azureml.scriptrun\", \"training_percent\": \"100\", \"start_time\": \"2020-11-23T11:22:18.178412Z\", \"end_time\": \"2020-11-23T11:23:24.511053Z\", \"created_time\": \"2020-11-23T11:20:52.146151Z\", \"created_time_dt\": \"2020-11-23T11:20:52.146151Z\", \"duration\": \"0:02:32\", \"iteration\": \"21\", \"goal\": \"accuracy_max\", \"run_name\": \"MinMaxScaler, ExtremeRandomTrees\", \"run_properties\": \"copy=True, feature_range=(0, 1\", \"primary_metric\": 0.72455235, \"best_metric\": 0.9152352}, {\"run_id\": \"AutoML_87c610c3-3498-4e8b-abb4-0d38c5f6dc85_22\", \"run_number\": 28, \"metric\": null, \"status\": \"Completed\", \"run_type\": \"azureml.scriptrun\", \"training_percent\": \"100\", \"start_time\": \"2020-11-23T11:22:17.189368Z\", \"end_time\": \"2020-11-23T11:22:53.831259Z\", \"created_time\": \"2020-11-23T11:20:52.167965Z\", \"created_time_dt\": \"2020-11-23T11:20:52.167965Z\", \"duration\": \"0:02:01\", \"iteration\": \"22\", \"goal\": \"accuracy_max\", \"run_name\": \"MaxAbsScaler, RandomForest\", \"run_properties\": \"copy=True\", \"primary_metric\": 0.89954476, \"best_metric\": 0.9152352}, {\"run_id\": \"AutoML_87c610c3-3498-4e8b-abb4-0d38c5f6dc85_23\", \"run_number\": 29, \"metric\": null, \"status\": \"Completed\", \"run_type\": \"azureml.scriptrun\", \"training_percent\": \"100\", \"start_time\": \"2020-11-23T11:22:10.408919Z\", \"end_time\": \"2020-11-23T11:22:46.228381Z\", \"created_time\": \"2020-11-23T11:20:52.666211Z\", \"created_time_dt\": \"2020-11-23T11:20:52.666211Z\", \"duration\": \"0:01:53\", \"iteration\": \"23\", \"goal\": \"accuracy_max\", \"run_name\": \"MinMaxScaler, SGD\", \"run_properties\": \"copy=True, feature_range=(0, 1\", \"primary_metric\": 0.85757208, \"best_metric\": 0.9152352}, {\"run_id\": \"AutoML_87c610c3-3498-4e8b-abb4-0d38c5f6dc85_24\", \"run_number\": 30, \"metric\": null, \"status\": \"Completed\", \"run_type\": \"azureml.scriptrun\", \"training_percent\": \"100\", \"start_time\": \"2020-11-23T11:22:25.557896Z\", \"end_time\": \"2020-11-23T11:23:13.089408Z\", \"created_time\": \"2020-11-23T11:21:10.013265Z\", \"created_time_dt\": \"2020-11-23T11:21:10.013265Z\", \"duration\": \"0:02:03\", \"iteration\": \"24\", \"goal\": \"accuracy_max\", \"run_name\": \"MaxAbsScaler, ExtremeRandomTrees\", \"run_properties\": \"copy=True\", \"primary_metric\": 0.89933232, \"best_metric\": 0.9152352}, {\"run_id\": \"AutoML_87c610c3-3498-4e8b-abb4-0d38c5f6dc85_25\", \"run_number\": 31, \"metric\": null, \"status\": \"Completed\", \"run_type\": \"azureml.scriptrun\", \"training_percent\": \"100\", \"start_time\": \"2020-11-23T11:23:12.094492Z\", \"end_time\": \"2020-11-23T11:23:54.952216Z\", \"created_time\": \"2020-11-23T11:21:50.842305Z\", \"created_time_dt\": \"2020-11-23T11:21:50.842305Z\", \"duration\": \"0:02:04\", \"iteration\": \"25\", \"goal\": \"accuracy_max\", \"run_name\": \"SparseNormalizer, XGBoostClassifier\", \"run_properties\": \"<azureml.automl.runtime.shared.model_wrappers.SparseNormalizer object at 0x7fcfed218198\", \"primary_metric\": 0.88795144, \"best_metric\": 0.9152352}, {\"run_id\": \"AutoML_87c610c3-3498-4e8b-abb4-0d38c5f6dc85_26\", \"run_number\": 32, \"metric\": null, \"status\": \"Completed\", \"run_type\": \"azureml.scriptrun\", \"training_percent\": \"100\", \"start_time\": \"2020-11-23T11:23:50.056432Z\", \"end_time\": \"2020-11-23T11:24:31.183966Z\", \"created_time\": \"2020-11-23T11:22:09.948606Z\", \"created_time_dt\": \"2020-11-23T11:22:09.948606Z\", \"duration\": \"0:02:21\", \"iteration\": \"26\", \"goal\": \"accuracy_max\", \"run_name\": \"MaxAbsScaler, SGD\", \"run_properties\": \"copy=True\", \"primary_metric\": 0.90655539, \"best_metric\": 0.9152352}, {\"run_id\": \"AutoML_87c610c3-3498-4e8b-abb4-0d38c5f6dc85_27\", \"run_number\": 33, \"metric\": null, \"status\": \"Completed\", \"run_type\": \"azureml.scriptrun\", \"training_percent\": \"100\", \"start_time\": \"2020-11-23T11:23:15.301581Z\", \"end_time\": \"2020-11-23T11:24:00.06204Z\", \"created_time\": \"2020-11-23T11:22:10.111642Z\", \"created_time_dt\": \"2020-11-23T11:22:10.111642Z\", \"duration\": \"0:01:49\", \"iteration\": \"27\", \"goal\": \"accuracy_max\", \"run_name\": \"MaxAbsScaler, ExtremeRandomTrees\", \"run_properties\": \"copy=True\", \"primary_metric\": 0.76039454, \"best_metric\": 0.9152352}, {\"run_id\": \"AutoML_87c610c3-3498-4e8b-abb4-0d38c5f6dc85_28\", \"run_number\": 34, \"metric\": null, \"status\": \"Completed\", \"run_type\": \"azureml.scriptrun\", \"training_percent\": \"100\", \"start_time\": \"2020-11-23T11:23:38.881739Z\", \"end_time\": \"2020-11-23T11:24:16.594141Z\", \"created_time\": \"2020-11-23T11:22:10.150144Z\", \"created_time_dt\": \"2020-11-23T11:22:10.150144Z\", \"duration\": \"0:02:06\", \"iteration\": \"28\", \"goal\": \"accuracy_max\", \"run_name\": \"MaxAbsScaler, RandomForest\", \"run_properties\": \"copy=True\", \"primary_metric\": 0.77062215, \"best_metric\": 0.9152352}, {\"run_id\": \"AutoML_87c610c3-3498-4e8b-abb4-0d38c5f6dc85_29\", \"run_number\": 35, \"metric\": null, \"status\": \"Completed\", \"run_type\": \"azureml.scriptrun\", \"training_percent\": \"100\", \"start_time\": \"2020-11-23T11:24:18.088381Z\", \"end_time\": \"2020-11-23T11:25:04.801149Z\", \"created_time\": \"2020-11-23T11:22:48.220718Z\", \"created_time_dt\": \"2020-11-23T11:22:48.220718Z\", \"duration\": \"0:02:16\", \"iteration\": \"29\", \"goal\": \"accuracy_max\", \"run_name\": \"MaxAbsScaler, RandomForest\", \"run_properties\": \"copy=True\", \"primary_metric\": 0.88795144, \"best_metric\": 0.9152352}, {\"run_id\": \"AutoML_87c610c3-3498-4e8b-abb4-0d38c5f6dc85_30\", \"run_number\": 36, \"metric\": null, \"status\": \"Completed\", \"run_type\": \"azureml.scriptrun\", \"training_percent\": \"100\", \"start_time\": \"2020-11-23T11:24:22.441014Z\", \"end_time\": \"2020-11-23T11:24:59.290731Z\", \"created_time\": \"2020-11-23T11:23:06.608775Z\", \"created_time_dt\": \"2020-11-23T11:23:06.608775Z\", \"duration\": \"0:01:52\", \"iteration\": \"30\", \"goal\": \"accuracy_max\", \"run_name\": \"PCA, XGBoostClassifier\", \"run_properties\": \"copy=True, iterated_power='auto', n_components=0.5047368421052632,\\n    random_state=None, svd_solver='auto', tol=0.0, whiten=True\", \"primary_metric\": 0.88801214, \"best_metric\": 0.9152352}, {\"run_id\": \"AutoML_87c610c3-3498-4e8b-abb4-0d38c5f6dc85_31\", \"run_number\": 37, \"metric\": null, \"status\": \"Completed\", \"run_type\": \"azureml.scriptrun\", \"training_percent\": \"100\", \"start_time\": \"2020-11-23T11:24:39.70867Z\", \"end_time\": \"2020-11-23T11:25:19.934417Z\", \"created_time\": \"2020-11-23T11:23:22.438466Z\", \"created_time_dt\": \"2020-11-23T11:23:22.438466Z\", \"duration\": \"0:01:57\", \"iteration\": \"31\", \"goal\": \"accuracy_max\", \"run_name\": \"MaxAbsScaler, LightGBM\", \"run_properties\": \"copy=True\", \"primary_metric\": 0.88795144, \"best_metric\": 0.9152352}, {\"run_id\": \"AutoML_87c610c3-3498-4e8b-abb4-0d38c5f6dc85_32\", \"run_number\": 38, \"metric\": null, \"status\": \"Completed\", \"run_type\": \"azureml.scriptrun\", \"training_percent\": \"100\", \"start_time\": \"2020-11-23T11:24:54.867222Z\", \"end_time\": \"2020-11-23T11:25:35.045057Z\", \"created_time\": \"2020-11-23T11:23:36.149875Z\", \"created_time_dt\": \"2020-11-23T11:23:36.149875Z\", \"duration\": \"0:01:58\", \"iteration\": \"32\", \"goal\": \"accuracy_max\", \"run_name\": \"StandardScalerWrapper, XGBoostClassifier\", \"run_properties\": \"<azureml.automl.runtime.shared.model_wrappers.StandardScalerWrapper object at 0x7f1635563710\", \"primary_metric\": 0.91575114, \"best_metric\": 0.91575114}, {\"run_id\": \"AutoML_87c610c3-3498-4e8b-abb4-0d38c5f6dc85_33\", \"run_number\": 39, \"metric\": null, \"status\": \"Completed\", \"run_type\": \"azureml.scriptrun\", \"training_percent\": \"100\", \"start_time\": \"2020-11-23T11:25:21.769402Z\", \"end_time\": \"2020-11-23T11:25:57.987106Z\", \"created_time\": \"2020-11-23T11:24:00.889118Z\", \"created_time_dt\": \"2020-11-23T11:24:00.889118Z\", \"duration\": \"0:01:57\", \"iteration\": \"33\", \"goal\": \"accuracy_max\", \"run_name\": \"MaxAbsScaler, ExtremeRandomTrees\", \"run_properties\": \"copy=True\", \"primary_metric\": 0.90009105, \"best_metric\": 0.91575114}, {\"run_id\": \"AutoML_87c610c3-3498-4e8b-abb4-0d38c5f6dc85_34\", \"run_number\": 40, \"metric\": null, \"status\": \"Completed\", \"run_type\": \"azureml.scriptrun\", \"training_percent\": \"100\", \"start_time\": \"2020-11-23T11:25:27.881126Z\", \"end_time\": \"2020-11-23T11:26:16.311259Z\", \"created_time\": \"2020-11-23T11:24:16.221533Z\", \"created_time_dt\": \"2020-11-23T11:24:16.221533Z\", \"duration\": \"0:02:00\", \"iteration\": \"34\", \"goal\": \"accuracy_max\", \"run_name\": \"SparseNormalizer, XGBoostClassifier\", \"run_properties\": \"<azureml.automl.runtime.shared.model_wrappers.SparseNormalizer object at 0x7f7cdcb40f28\", \"primary_metric\": 0.91465857, \"best_metric\": 0.91575114}, {\"run_id\": \"AutoML_87c610c3-3498-4e8b-abb4-0d38c5f6dc85_35\", \"run_number\": 41, \"metric\": null, \"status\": \"Completed\", \"run_type\": \"azureml.scriptrun\", \"training_percent\": \"100\", \"start_time\": \"2020-11-23T11:25:46.980348Z\", \"end_time\": \"2020-11-23T11:26:32.905622Z\", \"created_time\": \"2020-11-23T11:24:32.946915Z\", \"created_time_dt\": \"2020-11-23T11:24:32.946915Z\", \"duration\": \"0:01:59\", \"iteration\": \"35\", \"goal\": \"accuracy_max\", \"run_name\": \"StandardScalerWrapper, XGBoostClassifier\", \"run_properties\": \"<azureml.automl.runtime.shared.model_wrappers.StandardScalerWrapper object at 0x7fa8740a5860\", \"primary_metric\": 0.88795144, \"best_metric\": 0.91575114}, {\"run_id\": \"AutoML_87c610c3-3498-4e8b-abb4-0d38c5f6dc85_36\", \"run_number\": 42, \"metric\": null, \"status\": \"Completed\", \"run_type\": \"azureml.scriptrun\", \"training_percent\": \"100\", \"start_time\": \"2020-11-23T11:25:58.043718Z\", \"end_time\": \"2020-11-23T11:27:07.805941Z\", \"created_time\": \"2020-11-23T11:24:48.25122Z\", \"created_time_dt\": \"2020-11-23T11:24:48.25122Z\", \"duration\": \"0:02:19\", \"iteration\": \"36\", \"goal\": \"accuracy_max\", \"run_name\": \"SparseNormalizer, XGBoostClassifier\", \"run_properties\": \"<azureml.automl.runtime.shared.model_wrappers.SparseNormalizer object at 0x7f4de0095518\", \"primary_metric\": 0.91383915, \"best_metric\": 0.91575114}, {\"run_id\": \"AutoML_87c610c3-3498-4e8b-abb4-0d38c5f6dc85_37\", \"run_number\": 43, \"metric\": null, \"status\": \"Completed\", \"run_type\": \"azureml.scriptrun\", \"training_percent\": \"100\", \"start_time\": \"2020-11-23T11:26:21.721244Z\", \"end_time\": \"2020-11-23T11:26:58.505355Z\", \"created_time\": \"2020-11-23T11:25:03.153209Z\", \"created_time_dt\": \"2020-11-23T11:25:03.153209Z\", \"duration\": \"0:01:55\", \"iteration\": \"37\", \"goal\": \"accuracy_max\", \"run_name\": \"MinMaxScaler, LightGBM\", \"run_properties\": \"copy=True, feature_range=(0, 1\", \"primary_metric\": 0.89769347, \"best_metric\": 0.91575114}, {\"run_id\": \"AutoML_87c610c3-3498-4e8b-abb4-0d38c5f6dc85_38\", \"run_number\": 44, \"metric\": null, \"status\": \"Completed\", \"run_type\": \"azureml.scriptrun\", \"training_percent\": \"100\", \"start_time\": \"2020-11-23T11:26:34.982622Z\", \"end_time\": \"2020-11-23T11:27:29.823032Z\", \"created_time\": \"2020-11-23T11:25:19.939037Z\", \"created_time_dt\": \"2020-11-23T11:25:19.939037Z\", \"duration\": \"0:02:09\", \"iteration\": \"38\", \"goal\": \"accuracy_max\", \"run_name\": \"StandardScalerWrapper, ExtremeRandomTrees\", \"run_properties\": \"<azureml.automl.runtime.shared.model_wrappers.StandardScalerWrapper object at 0x7feb6c107e10\", \"primary_metric\": 0.89984825, \"best_metric\": 0.91575114}, {\"run_id\": \"AutoML_87c610c3-3498-4e8b-abb4-0d38c5f6dc85_39\", \"run_number\": 45, \"metric\": null, \"status\": \"Completed\", \"run_type\": \"azureml.scriptrun\", \"training_percent\": \"100\", \"start_time\": \"2020-11-23T11:26:56.292853Z\", \"end_time\": \"2020-11-23T11:27:36.321467Z\", \"created_time\": \"2020-11-23T11:25:34.736019Z\", \"created_time_dt\": \"2020-11-23T11:25:34.736019Z\", \"duration\": \"0:02:01\", \"iteration\": \"39\", \"goal\": \"accuracy_max\", \"run_name\": \"MaxAbsScaler, ExtremeRandomTrees\", \"run_properties\": \"copy=True\", \"primary_metric\": 0.88795144, \"best_metric\": 0.91575114}, {\"run_id\": \"AutoML_87c610c3-3498-4e8b-abb4-0d38c5f6dc85_40\", \"run_number\": 46, \"metric\": null, \"status\": \"Completed\", \"run_type\": \"azureml.scriptrun\", \"training_percent\": \"100\", \"start_time\": \"2020-11-23T11:27:18.498866Z\", \"end_time\": \"2020-11-23T11:27:56.261989Z\", \"created_time\": \"2020-11-23T11:25:49.913261Z\", \"created_time_dt\": \"2020-11-23T11:25:49.913261Z\", \"duration\": \"0:02:06\", \"iteration\": \"40\", \"goal\": \"accuracy_max\", \"run_name\": \"SparseNormalizer, XGBoostClassifier\", \"run_properties\": \"<azureml.automl.runtime.shared.model_wrappers.SparseNormalizer object at 0x7fcca86fd8d0\", \"primary_metric\": 0.88795144, \"best_metric\": 0.91575114}, {\"run_id\": \"AutoML_87c610c3-3498-4e8b-abb4-0d38c5f6dc85_41\", \"run_number\": 47, \"metric\": null, \"status\": \"Completed\", \"run_type\": \"azureml.scriptrun\", \"training_percent\": \"100\", \"start_time\": \"2020-11-23T11:27:31.166263Z\", \"end_time\": \"2020-11-23T11:28:19.094686Z\", \"created_time\": \"2020-11-23T11:26:04.666244Z\", \"created_time_dt\": \"2020-11-23T11:26:04.666244Z\", \"duration\": \"0:02:14\", \"iteration\": \"41\", \"goal\": \"accuracy_max\", \"run_name\": \"MaxAbsScaler, ExtremeRandomTrees\", \"run_properties\": \"copy=True\", \"primary_metric\": 0.90015175, \"best_metric\": 0.91575114}, {\"run_id\": \"AutoML_87c610c3-3498-4e8b-abb4-0d38c5f6dc85_42\", \"run_number\": 48, \"metric\": null, \"status\": \"Completed\", \"run_type\": \"azureml.scriptrun\", \"training_percent\": \"100\", \"start_time\": \"2020-11-23T11:27:53.289647Z\", \"end_time\": \"2020-11-23T11:28:51.347709Z\", \"created_time\": \"2020-11-23T11:26:19.497318Z\", \"created_time_dt\": \"2020-11-23T11:26:19.497318Z\", \"duration\": \"0:02:31\", \"iteration\": \"42\", \"goal\": \"accuracy_max\", \"run_name\": \"StandardScalerWrapper, ExtremeRandomTrees\", \"run_properties\": \"<azureml.automl.runtime.shared.model_wrappers.StandardScalerWrapper object at 0x7f228751ef98\", \"primary_metric\": 0.88795144, \"best_metric\": 0.91575114}, {\"run_id\": \"AutoML_87c610c3-3498-4e8b-abb4-0d38c5f6dc85_43\", \"run_number\": 49, \"metric\": null, \"status\": \"Completed\", \"run_type\": \"azureml.scriptrun\", \"training_percent\": \"100\", \"start_time\": \"2020-11-23T11:27:59.30006Z\", \"end_time\": \"2020-11-23T11:28:42.322719Z\", \"created_time\": \"2020-11-23T11:26:45.382969Z\", \"created_time_dt\": \"2020-11-23T11:26:45.382969Z\", \"duration\": \"0:01:56\", \"iteration\": \"43\", \"goal\": \"accuracy_max\", \"run_name\": \"SparseNormalizer, LightGBM\", \"run_properties\": \"<azureml.automl.runtime.shared.model_wrappers.SparseNormalizer object at 0x7ff155e8fe80\", \"primary_metric\": 0.90704097, \"best_metric\": 0.91575114}, {\"run_id\": \"AutoML_87c610c3-3498-4e8b-abb4-0d38c5f6dc85_44\", \"run_number\": 50, \"metric\": null, \"status\": \"Completed\", \"run_type\": \"azureml.scriptrun\", \"training_percent\": \"100\", \"start_time\": \"2020-11-23T11:28:14.96365Z\", \"end_time\": \"2020-11-23T11:29:07.770811Z\", \"created_time\": \"2020-11-23T11:27:00.298761Z\", \"created_time_dt\": \"2020-11-23T11:27:00.298761Z\", \"duration\": \"0:02:07\", \"iteration\": \"44\", \"goal\": \"accuracy_max\", \"run_name\": \"MaxAbsScaler, LightGBM\", \"run_properties\": \"copy=True\", \"primary_metric\": 0.90919575, \"best_metric\": 0.91575114}, {\"run_id\": \"AutoML_87c610c3-3498-4e8b-abb4-0d38c5f6dc85_45\", \"run_number\": 51, \"metric\": null, \"status\": \"Completed\", \"run_type\": \"azureml.scriptrun\", \"training_percent\": \"100\", \"start_time\": \"2020-11-23T11:28:42.701158Z\", \"end_time\": \"2020-11-23T11:29:25.993066Z\", \"created_time\": \"2020-11-23T11:27:16.319186Z\", \"created_time_dt\": \"2020-11-23T11:27:16.319186Z\", \"duration\": \"0:02:09\", \"iteration\": \"45\", \"goal\": \"accuracy_max\", \"run_name\": \"StandardScalerWrapper, XGBoostClassifier\", \"run_properties\": \"<azureml.automl.runtime.shared.model_wrappers.StandardScalerWrapper object at 0x7ff2f7dec7f0\", \"primary_metric\": 0.89626707, \"best_metric\": 0.91575114}, {\"run_id\": \"AutoML_87c610c3-3498-4e8b-abb4-0d38c5f6dc85_46\", \"run_number\": 52, \"metric\": null, \"status\": \"Completed\", \"run_type\": \"azureml.scriptrun\", \"training_percent\": \"100\", \"start_time\": \"2020-11-23T11:29:06.658342Z\", \"end_time\": \"2020-11-23T11:31:33.760125Z\", \"created_time\": \"2020-11-23T11:27:36.238363Z\", \"created_time_dt\": \"2020-11-23T11:27:36.238363Z\", \"duration\": \"0:03:57\", \"iteration\": \"46\", \"goal\": \"accuracy_max\", \"run_name\": \"StandardScalerWrapper, ExtremeRandomTrees\", \"run_properties\": \"<azureml.automl.runtime.shared.model_wrappers.StandardScalerWrapper object at 0x7f563c0f1b00\", \"primary_metric\": 0.88795144, \"best_metric\": 0.91575114}, {\"run_id\": \"AutoML_87c610c3-3498-4e8b-abb4-0d38c5f6dc85_47\", \"run_number\": 53, \"metric\": null, \"status\": \"Completed\", \"run_type\": \"azureml.scriptrun\", \"training_percent\": \"100\", \"start_time\": \"2020-11-23T11:29:14.740824Z\", \"end_time\": \"2020-11-23T11:29:57.651227Z\", \"created_time\": \"2020-11-23T11:27:51.388466Z\", \"created_time_dt\": \"2020-11-23T11:27:51.388466Z\", \"duration\": \"0:02:06\", \"iteration\": \"47\", \"goal\": \"accuracy_max\", \"run_name\": \"MinMaxScaler, SGD\", \"run_properties\": \"copy=True, feature_range=(0, 1\", \"primary_metric\": 0.90867982, \"best_metric\": 0.91575114}, {\"run_id\": \"AutoML_87c610c3-3498-4e8b-abb4-0d38c5f6dc85_48\", \"run_number\": 54, \"metric\": null, \"status\": \"Completed\", \"run_type\": \"azureml.scriptrun\", \"training_percent\": \"100\", \"start_time\": \"2020-11-23T11:29:32.751873Z\", \"end_time\": \"2020-11-23T11:30:17.845533Z\", \"created_time\": \"2020-11-23T11:28:06.133001Z\", \"created_time_dt\": \"2020-11-23T11:28:06.133001Z\", \"duration\": \"0:02:11\", \"iteration\": \"48\", \"goal\": \"accuracy_max\", \"run_name\": \"MaxAbsScaler, LightGBM\", \"run_properties\": \"copy=True\", \"primary_metric\": 0.90801214, \"best_metric\": 0.91575114}, {\"run_id\": \"AutoML_87c610c3-3498-4e8b-abb4-0d38c5f6dc85_49\", \"run_number\": 55, \"metric\": null, \"status\": \"Completed\", \"run_type\": \"azureml.scriptrun\", \"training_percent\": \"100\", \"start_time\": \"2020-11-23T11:29:51.194597Z\", \"end_time\": \"2020-11-23T11:31:42.844889Z\", \"created_time\": \"2020-11-23T11:28:30.919799Z\", \"created_time_dt\": \"2020-11-23T11:28:30.919799Z\", \"duration\": \"0:03:11\", \"iteration\": \"49\", \"goal\": \"accuracy_max\", \"run_name\": \"SparseNormalizer, XGBoostClassifier\", \"run_properties\": \"<azureml.automl.runtime.shared.model_wrappers.SparseNormalizer object at 0x7f8ae42d8198\", \"primary_metric\": 0.91059181, \"best_metric\": 0.91575114}, {\"run_id\": \"AutoML_87c610c3-3498-4e8b-abb4-0d38c5f6dc85_50\", \"run_number\": 56, \"metric\": null, \"status\": \"Completed\", \"run_type\": \"azureml.scriptrun\", \"training_percent\": \"100\", \"start_time\": \"2020-11-23T11:30:25.49495Z\", \"end_time\": \"2020-11-23T11:32:04.428168Z\", \"created_time\": \"2020-11-23T11:28:51.817566Z\", \"created_time_dt\": \"2020-11-23T11:28:51.817566Z\", \"duration\": \"0:03:12\", \"iteration\": \"50\", \"goal\": \"accuracy_max\", \"run_name\": \"SparseNormalizer, XGBoostClassifier\", \"run_properties\": \"<azureml.automl.runtime.shared.model_wrappers.SparseNormalizer object at 0x7f1aa45e0cc0\", \"primary_metric\": 0.91311077, \"best_metric\": 0.91575114}, {\"run_id\": \"AutoML_87c610c3-3498-4e8b-abb4-0d38c5f6dc85_51\", \"run_number\": 57, \"metric\": null, \"status\": \"Completed\", \"run_type\": \"azureml.scriptrun\", \"training_percent\": \"100\", \"start_time\": \"2020-11-23T11:30:42.202064Z\", \"end_time\": \"2020-11-23T11:32:20.493806Z\", \"created_time\": \"2020-11-23T11:29:06.305585Z\", \"created_time_dt\": \"2020-11-23T11:29:06.305585Z\", \"duration\": \"0:03:14\", \"iteration\": \"51\", \"goal\": \"accuracy_max\", \"run_name\": \"SparseNormalizer, XGBoostClassifier\", \"run_properties\": \"<azureml.automl.runtime.shared.model_wrappers.SparseNormalizer object at 0x7fee7c29fd68\", \"primary_metric\": 0.91283763, \"best_metric\": 0.91575114}, {\"run_id\": \"AutoML_87c610c3-3498-4e8b-abb4-0d38c5f6dc85_52\", \"run_number\": 58, \"metric\": null, \"status\": \"Completed\", \"run_type\": \"azureml.scriptrun\", \"training_percent\": \"100\", \"start_time\": \"2020-11-23T11:31:55.293474Z\", \"end_time\": \"2020-11-23T11:33:39.417593Z\", \"created_time\": \"2020-11-23T11:29:22.904463Z\", \"created_time_dt\": \"2020-11-23T11:29:22.904463Z\", \"duration\": \"0:04:16\", \"iteration\": \"52\", \"goal\": \"accuracy_max\", \"run_name\": \"SparseNormalizer, XGBoostClassifier\", \"run_properties\": \"<azureml.automl.runtime.shared.model_wrappers.SparseNormalizer object at 0x7f25c0092780\", \"primary_metric\": 0.91274659, \"best_metric\": 0.91575114}, {\"run_id\": \"AutoML_87c610c3-3498-4e8b-abb4-0d38c5f6dc85_53\", \"run_number\": 59, \"metric\": null, \"status\": \"Completed\", \"run_type\": \"azureml.scriptrun\", \"training_percent\": \"100\", \"start_time\": \"2020-11-23T11:32:06.074218Z\", \"end_time\": \"2020-11-23T11:34:25.122247Z\", \"created_time\": \"2020-11-23T11:29:38.422738Z\", \"created_time_dt\": \"2020-11-23T11:29:38.422738Z\", \"duration\": \"0:04:46\", \"iteration\": \"53\", \"goal\": \"accuracy_max\", \"run_name\": \"StandardScalerWrapper, LogisticRegression\", \"run_properties\": \"<azureml.automl.runtime.shared.model_wrappers.StandardScalerWrapper object at 0x7f0607406198\", \"primary_metric\": 0.90992413, \"best_metric\": 0.91575114}, {\"run_id\": \"AutoML_87c610c3-3498-4e8b-abb4-0d38c5f6dc85_54\", \"run_number\": 60, \"metric\": null, \"status\": \"Completed\", \"run_type\": \"azureml.scriptrun\", \"training_percent\": \"100\", \"start_time\": \"2020-11-23T11:32:28.840776Z\", \"end_time\": \"2020-11-23T11:33:12.306046Z\", \"created_time\": \"2020-11-23T11:30:03.541552Z\", \"created_time_dt\": \"2020-11-23T11:30:03.541552Z\", \"duration\": \"0:03:08\", \"iteration\": \"54\", \"goal\": \"accuracy_max\", \"run_name\": \"SparseNormalizer, XGBoostClassifier\", \"run_properties\": \"<azureml.automl.runtime.shared.model_wrappers.SparseNormalizer object at 0x7f7de49757f0\", \"primary_metric\": 0.91271624, \"best_metric\": 0.91575114}, {\"run_id\": \"AutoML_87c610c3-3498-4e8b-abb4-0d38c5f6dc85_55\", \"run_number\": 61, \"metric\": null, \"status\": \"Completed\", \"run_type\": \"azureml.scriptrun\", \"training_percent\": \"100\", \"start_time\": \"2020-11-23T11:33:06.743881Z\", \"end_time\": \"2020-11-23T11:33:48.854142Z\", \"created_time\": \"2020-11-23T11:30:38.052084Z\", \"created_time_dt\": \"2020-11-23T11:30:38.052084Z\", \"duration\": \"0:03:10\", \"iteration\": \"55\", \"goal\": \"accuracy_max\", \"run_name\": \"StandardScalerWrapper, XGBoostClassifier\", \"run_properties\": \"<azureml.automl.runtime.shared.model_wrappers.StandardScalerWrapper object at 0x7fb2764f6b00\", \"primary_metric\": 0.912261, \"best_metric\": 0.91575114}, {\"run_id\": \"AutoML_87c610c3-3498-4e8b-abb4-0d38c5f6dc85_56\", \"run_number\": 62, \"metric\": null, \"status\": \"Completed\", \"run_type\": \"azureml.scriptrun\", \"training_percent\": \"100\", \"start_time\": \"2020-11-23T11:33:33.98276Z\", \"end_time\": \"2020-11-23T11:34:20.183575Z\", \"created_time\": \"2020-11-23T11:31:42.649972Z\", \"created_time_dt\": \"2020-11-23T11:31:42.649972Z\", \"duration\": \"0:02:37\", \"iteration\": \"56\", \"goal\": \"accuracy_max\", \"run_name\": \"SparseNormalizer, LightGBM\", \"run_properties\": \"<azureml.automl.runtime.shared.model_wrappers.SparseNormalizer object at 0x7f69e7717470\", \"primary_metric\": 0.9137481, \"best_metric\": 0.91575114}, {\"run_id\": \"AutoML_87c610c3-3498-4e8b-abb4-0d38c5f6dc85_57\", \"run_number\": 63, \"metric\": null, \"status\": \"Completed\", \"run_type\": \"azureml.scriptrun\", \"training_percent\": \"100\", \"start_time\": \"2020-11-23T11:34:01.558196Z\", \"end_time\": \"2020-11-23T11:34:44.866768Z\", \"created_time\": \"2020-11-23T11:31:58.239408Z\", \"created_time_dt\": \"2020-11-23T11:31:58.239408Z\", \"duration\": \"0:02:46\", \"iteration\": \"57\", \"goal\": \"accuracy_max\", \"run_name\": \"StandardScalerWrapper, LightGBM\", \"run_properties\": \"<azureml.automl.runtime.shared.model_wrappers.StandardScalerWrapper object at 0x7f70e9e5fd68\", \"primary_metric\": 0.90740516, \"best_metric\": 0.91575114}, {\"run_id\": \"AutoML_87c610c3-3498-4e8b-abb4-0d38c5f6dc85_58\", \"run_number\": 64, \"metric\": null, \"status\": \"Completed\", \"run_type\": \"azureml.scriptrun\", \"training_percent\": \"100\", \"start_time\": \"2020-11-23T11:34:16.39393Z\", \"end_time\": \"2020-11-23T11:34:58.934615Z\", \"created_time\": \"2020-11-23T11:32:13.870152Z\", \"created_time_dt\": \"2020-11-23T11:32:13.870152Z\", \"duration\": \"0:02:45\", \"iteration\": \"58\", \"goal\": \"accuracy_max\", \"run_name\": \"StandardScalerWrapper, XGBoostClassifier\", \"run_properties\": \"<azureml.automl.runtime.shared.model_wrappers.StandardScalerWrapper object at 0x7f0e8948d128\", \"primary_metric\": 0.91195751, \"best_metric\": 0.91575114}, {\"run_id\": \"AutoML_87c610c3-3498-4e8b-abb4-0d38c5f6dc85_59\", \"run_number\": 65, \"metric\": null, \"status\": \"Completed\", \"run_type\": \"azureml.scriptrun\", \"training_percent\": \"100\", \"start_time\": \"2020-11-23T11:34:48.124137Z\", \"end_time\": \"2020-11-23T11:35:32.997409Z\", \"created_time\": \"2020-11-23T11:32:28.458988Z\", \"created_time_dt\": \"2020-11-23T11:32:28.458988Z\", \"duration\": \"0:03:04\", \"iteration\": \"59\", \"goal\": \"accuracy_max\", \"run_name\": \"SparseNormalizer, XGBoostClassifier\", \"run_properties\": \"<azureml.automl.runtime.shared.model_wrappers.SparseNormalizer object at 0x7f1c8c71b898\", \"primary_metric\": 0.91508346, \"best_metric\": 0.91575114}, {\"run_id\": \"AutoML_87c610c3-3498-4e8b-abb4-0d38c5f6dc85_60\", \"run_number\": 66, \"metric\": null, \"status\": \"Completed\", \"run_type\": \"azureml.scriptrun\", \"training_percent\": \"100\", \"start_time\": \"2020-11-23T11:34:53.504027Z\", \"end_time\": \"2020-11-23T11:36:57.088356Z\", \"created_time\": \"2020-11-23T11:33:18.761069Z\", \"created_time_dt\": \"2020-11-23T11:33:18.761069Z\", \"duration\": \"0:03:38\", \"iteration\": \"60\", \"goal\": \"accuracy_max\", \"run_name\": \"StandardScalerWrapper, XGBoostClassifier\", \"run_properties\": \"<azureml.automl.runtime.shared.model_wrappers.StandardScalerWrapper object at 0x7fe16c476a58\", \"primary_metric\": 0.91135053, \"best_metric\": 0.91575114}, {\"run_id\": \"AutoML_87c610c3-3498-4e8b-abb4-0d38c5f6dc85_61\", \"run_number\": 67, \"metric\": null, \"status\": \"Completed\", \"run_type\": \"azureml.scriptrun\", \"training_percent\": \"100\", \"start_time\": \"2020-11-23T11:35:10.571744Z\", \"end_time\": \"2020-11-23T11:35:55.94652Z\", \"created_time\": \"2020-11-23T11:33:46.619349Z\", \"created_time_dt\": \"2020-11-23T11:33:46.619349Z\", \"duration\": \"0:02:09\", \"iteration\": \"61\", \"goal\": \"accuracy_max\", \"run_name\": \"MaxAbsScaler, LightGBM\", \"run_properties\": \"copy=True\", \"primary_metric\": 0.90858877, \"best_metric\": 0.91575114}, {\"run_id\": \"AutoML_87c610c3-3498-4e8b-abb4-0d38c5f6dc85_62\", \"run_number\": 68, \"metric\": null, \"status\": \"Completed\", \"run_type\": \"azureml.scriptrun\", \"training_percent\": \"100\", \"start_time\": \"2020-11-23T11:35:24.058628Z\", \"end_time\": \"2020-11-23T11:36:28.818163Z\", \"created_time\": \"2020-11-23T11:34:03.832927Z\", \"created_time_dt\": \"2020-11-23T11:34:03.832927Z\", \"duration\": \"0:02:24\", \"iteration\": \"62\", \"goal\": \"accuracy_max\", \"run_name\": \"StandardScalerWrapper, RandomForest\", \"run_properties\": \"<azureml.automl.runtime.shared.model_wrappers.StandardScalerWrapper object at 0x7fd238582c18\", \"primary_metric\": 0.88795144, \"best_metric\": 0.91575114}, {\"run_id\": \"AutoML_87c610c3-3498-4e8b-abb4-0d38c5f6dc85_63\", \"run_number\": 69, \"metric\": null, \"status\": \"Completed\", \"run_type\": \"azureml.scriptrun\", \"training_percent\": \"100\", \"start_time\": \"2020-11-23T11:36:23.245739Z\", \"end_time\": \"2020-11-23T11:37:10.915951Z\", \"created_time\": \"2020-11-23T11:34:31.067444Z\", \"created_time_dt\": \"2020-11-23T11:34:31.067444Z\", \"duration\": \"0:02:39\", \"iteration\": \"63\", \"goal\": \"accuracy_max\", \"run_name\": \"SparseNormalizer, LightGBM\", \"run_properties\": \"<azureml.automl.runtime.shared.model_wrappers.SparseNormalizer object at 0x7fa88abb0a90\", \"primary_metric\": 0.9123217, \"best_metric\": 0.91575114}, {\"run_id\": \"AutoML_87c610c3-3498-4e8b-abb4-0d38c5f6dc85_64\", \"run_number\": 70, \"metric\": null, \"status\": \"Completed\", \"run_type\": \"azureml.scriptrun\", \"training_percent\": \"100\", \"start_time\": \"2020-11-23T11:35:56.151193Z\", \"end_time\": \"2020-11-23T11:36:53.100327Z\", \"created_time\": \"2020-11-23T11:34:31.187768Z\", \"created_time_dt\": \"2020-11-23T11:34:31.187768Z\", \"duration\": \"0:02:21\", \"iteration\": \"64\", \"goal\": \"accuracy_max\", \"run_name\": \"StandardScalerWrapper, XGBoostClassifier\", \"run_properties\": \"<azureml.automl.runtime.shared.model_wrappers.StandardScalerWrapper object at 0x7f8cc6b53198\", \"primary_metric\": 0.9153566, \"best_metric\": 0.91575114}, {\"run_id\": \"AutoML_87c610c3-3498-4e8b-abb4-0d38c5f6dc85_65\", \"run_number\": 71, \"metric\": null, \"status\": \"Completed\", \"run_type\": \"azureml.scriptrun\", \"training_percent\": \"100\", \"start_time\": \"2020-11-23T11:36:51.463935Z\", \"end_time\": \"2020-11-23T11:38:35.057306Z\", \"created_time\": \"2020-11-23T11:34:53.612422Z\", \"created_time_dt\": \"2020-11-23T11:34:53.612422Z\", \"duration\": \"0:03:41\", \"iteration\": \"65\", \"goal\": \"accuracy_max\", \"run_name\": \"StandardScalerWrapper, XGBoostClassifier\", \"run_properties\": \"<azureml.automl.runtime.shared.model_wrappers.StandardScalerWrapper object at 0x7f65ec266f28\", \"primary_metric\": 0.91429439, \"best_metric\": 0.91575114}, {\"run_id\": \"AutoML_87c610c3-3498-4e8b-abb4-0d38c5f6dc85_66\", \"run_number\": 72, \"metric\": null, \"status\": \"Completed\", \"run_type\": \"azureml.scriptrun\", \"training_percent\": \"100\", \"start_time\": \"2020-11-23T11:37:17.370514Z\", \"end_time\": \"2020-11-23T11:38:18.015586Z\", \"created_time\": \"2020-11-23T11:35:08.545348Z\", \"created_time_dt\": \"2020-11-23T11:35:08.545348Z\", \"duration\": \"0:03:09\", \"iteration\": \"66\", \"goal\": \"accuracy_max\", \"run_name\": \"MaxAbsScaler, LightGBM\", \"run_properties\": \"copy=True\", \"primary_metric\": 0.91053111, \"best_metric\": 0.91575114}, {\"run_id\": \"AutoML_87c610c3-3498-4e8b-abb4-0d38c5f6dc85_67\", \"run_number\": 73, \"metric\": null, \"status\": \"Completed\", \"run_type\": \"azureml.scriptrun\", \"training_percent\": \"100\", \"start_time\": \"2020-11-23T11:37:18.364428Z\", \"end_time\": \"2020-11-23T11:38:59.800277Z\", \"created_time\": \"2020-11-23T11:35:34.575485Z\", \"created_time_dt\": \"2020-11-23T11:35:34.575485Z\", \"duration\": \"0:03:25\", \"iteration\": \"67\", \"goal\": \"accuracy_max\", \"run_name\": \"SparseNormalizer, XGBoostClassifier\", \"run_properties\": \"<azureml.automl.runtime.shared.model_wrappers.SparseNormalizer object at 0x7fdd07ca3160\", \"primary_metric\": 0.91289833, \"best_metric\": 0.91575114}, {\"run_id\": \"AutoML_87c610c3-3498-4e8b-abb4-0d38c5f6dc85_68\", \"run_number\": 74, \"metric\": null, \"status\": \"Completed\", \"run_type\": \"azureml.scriptrun\", \"training_percent\": \"100\", \"start_time\": \"2020-11-23T11:37:34.957949Z\", \"end_time\": \"2020-11-23T11:38:21.942835Z\", \"created_time\": \"2020-11-23T11:36:00.801273Z\", \"created_time_dt\": \"2020-11-23T11:36:00.801273Z\", \"duration\": \"0:02:21\", \"iteration\": \"68\", \"goal\": \"accuracy_max\", \"run_name\": \"MaxAbsScaler, ExtremeRandomTrees\", \"run_properties\": \"copy=True\", \"primary_metric\": 0.89723824, \"best_metric\": 0.91575114}, {\"run_id\": \"AutoML_87c610c3-3498-4e8b-abb4-0d38c5f6dc85_69\", \"run_number\": 75, \"metric\": null, \"status\": \"Completed\", \"run_type\": \"azureml.scriptrun\", \"training_percent\": \"100\", \"start_time\": \"2020-11-23T11:38:46.183039Z\", \"end_time\": \"2020-11-23T11:40:32.933106Z\", \"created_time\": \"2020-11-23T11:36:38.736771Z\", \"created_time_dt\": \"2020-11-23T11:36:38.736771Z\", \"duration\": \"0:03:54\", \"iteration\": \"69\", \"goal\": \"accuracy_max\", \"run_name\": \"SparseNormalizer, XGBoostClassifier\", \"run_properties\": \"<azureml.automl.runtime.shared.model_wrappers.SparseNormalizer object at 0x7fcbb4aeb358\", \"primary_metric\": 0.9123824, \"best_metric\": 0.91575114}, {\"run_id\": \"AutoML_87c610c3-3498-4e8b-abb4-0d38c5f6dc85_70\", \"run_number\": 76, \"metric\": null, \"status\": \"Completed\", \"run_type\": \"azureml.scriptrun\", \"training_percent\": \"100\", \"start_time\": \"2020-11-23T11:38:46.110595Z\", \"end_time\": \"2020-11-23T11:39:27.167331Z\", \"created_time\": \"2020-11-23T11:36:57.469123Z\", \"created_time_dt\": \"2020-11-23T11:36:57.469123Z\", \"duration\": \"0:02:29\", \"iteration\": \"70\", \"goal\": \"accuracy_max\", \"run_name\": \"StandardScalerWrapper, XGBoostClassifier\", \"run_properties\": \"<azureml.automl.runtime.shared.model_wrappers.StandardScalerWrapper object at 0x7f658d6f3ef0\", \"primary_metric\": 0.91271624, \"best_metric\": 0.91575114}, {\"run_id\": \"AutoML_87c610c3-3498-4e8b-abb4-0d38c5f6dc85_71\", \"run_number\": 77, \"metric\": null, \"status\": \"Completed\", \"run_type\": \"azureml.scriptrun\", \"training_percent\": \"100\", \"start_time\": \"2020-11-23T11:38:59.409423Z\", \"end_time\": \"2020-11-23T11:39:40.186552Z\", \"created_time\": \"2020-11-23T11:37:12.044931Z\", \"created_time_dt\": \"2020-11-23T11:37:12.044931Z\", \"duration\": \"0:02:28\", \"iteration\": \"71\", \"goal\": \"accuracy_max\", \"run_name\": \"SparseNormalizer, XGBoostClassifier\", \"run_properties\": \"<azureml.automl.runtime.shared.model_wrappers.SparseNormalizer object at 0x7f011c965da0\", \"primary_metric\": 0.91344461, \"best_metric\": 0.91575114}, {\"run_id\": \"AutoML_87c610c3-3498-4e8b-abb4-0d38c5f6dc85_72\", \"run_number\": 78, \"metric\": null, \"status\": \"Completed\", \"run_type\": \"azureml.scriptrun\", \"training_percent\": \"100\", \"start_time\": \"2020-11-23T11:39:24.206226Z\", \"end_time\": \"2020-11-23T11:40:40.019172Z\", \"created_time\": \"2020-11-23T11:37:27.89006Z\", \"created_time_dt\": \"2020-11-23T11:37:27.89006Z\", \"duration\": \"0:03:12\", \"iteration\": \"72\", \"goal\": \"accuracy_max\", \"run_name\": \"SparseNormalizer, XGBoostClassifier\", \"run_properties\": \"<azureml.automl.runtime.shared.model_wrappers.SparseNormalizer object at 0x7f14e644da90\", \"primary_metric\": 0.91362671, \"best_metric\": 0.91575114}, {\"run_id\": \"AutoML_87c610c3-3498-4e8b-abb4-0d38c5f6dc85_74\", \"run_number\": 79, \"metric\": null, \"status\": \"Canceled\", \"run_type\": \"azureml.scriptrun\", \"training_percent\": \"100\", \"start_time\": \"2020-11-23T11:40:01.881075Z\", \"end_time\": \"2020-11-23T11:41:18.734355Z\", \"created_time\": \"2020-11-23T11:38:28.362538Z\", \"created_time_dt\": \"2020-11-23T11:38:28.362538Z\", \"duration\": \"0:02:50\", \"iteration\": \"74\", \"goal\": null, \"run_name\": \"RobustScaler, SVM\", \"run_properties\": null}, {\"run_id\": \"AutoML_87c610c3-3498-4e8b-abb4-0d38c5f6dc85_73\", \"run_number\": 80, \"metric\": null, \"status\": \"Completed\", \"run_type\": \"azureml.scriptrun\", \"training_percent\": \"100\", \"start_time\": \"2020-11-23T11:39:48.183597Z\", \"end_time\": \"2020-11-23T11:40:31.151296Z\", \"created_time\": \"2020-11-23T11:38:28.521973Z\", \"created_time_dt\": \"2020-11-23T11:38:28.521973Z\", \"duration\": \"0:02:02\", \"iteration\": \"73\", \"goal\": \"accuracy_max\", \"run_name\": \"SparseNormalizer, XGBoostClassifier\", \"run_properties\": \"<azureml.automl.runtime.shared.model_wrappers.SparseNormalizer object at 0x7fb5a8f45898\", \"primary_metric\": 0.91074355, \"best_metric\": 0.91575114}, {\"run_id\": \"AutoML_87c610c3-3498-4e8b-abb4-0d38c5f6dc85_75\", \"run_number\": 81, \"metric\": null, \"status\": \"Canceled\", \"run_type\": \"azureml.scriptrun\", \"training_percent\": \"100\", \"start_time\": \"2020-11-23T11:40:54.846226Z\", \"end_time\": \"2020-11-23T11:41:16.170156Z\", \"created_time\": \"2020-11-23T11:38:45.564914Z\", \"created_time_dt\": \"2020-11-23T11:38:45.564914Z\", \"duration\": \"0:02:30\", \"iteration\": \"75\", \"goal\": null, \"run_name\": \"Canceled\", \"run_properties\": null}, {\"run_id\": \"AutoML_87c610c3-3498-4e8b-abb4-0d38c5f6dc85_76\", \"run_number\": 82, \"metric\": null, \"status\": \"Canceled\", \"run_type\": \"azureml.scriptrun\", \"training_percent\": \"100\", \"start_time\": \"2020-11-23T11:41:04.056522Z\", \"end_time\": \"2020-11-23T11:41:16.970464Z\", \"created_time\": \"2020-11-23T11:39:02.956021Z\", \"created_time_dt\": \"2020-11-23T11:39:02.956021Z\", \"duration\": \"0:02:14\", \"iteration\": \"76\", \"goal\": null, \"run_name\": \"Canceled\", \"run_properties\": null}, {\"run_id\": \"AutoML_87c610c3-3498-4e8b-abb4-0d38c5f6dc85_77\", \"run_number\": 83, \"metric\": null, \"status\": \"Canceled\", \"run_type\": \"azureml.scriptrun\", \"training_percent\": \"100\", \"start_time\": \"2020-11-23T11:41:05.678281Z\", \"end_time\": \"2020-11-23T11:41:17.943263Z\", \"created_time\": \"2020-11-23T11:39:40.241968Z\", \"created_time_dt\": \"2020-11-23T11:39:40.241968Z\", \"duration\": \"0:01:37\", \"iteration\": \"77\", \"goal\": null, \"run_name\": \"Canceled\", \"run_properties\": null}, {\"run_id\": \"AutoML_87c610c3-3498-4e8b-abb4-0d38c5f6dc85_78\", \"run_number\": 84, \"metric\": null, \"status\": \"Canceled\", \"run_type\": \"azureml.scriptrun\", \"training_percent\": \"100\", \"start_time\": \"2020-11-23T11:39:55.248454Z\", \"end_time\": \"2020-11-23T11:41:17.864525Z\", \"created_time\": \"2020-11-23T11:39:55.248454Z\", \"created_time_dt\": \"2020-11-23T11:39:55.248454Z\", \"duration\": \"0:01:22\", \"iteration\": \"78\", \"goal\": null, \"run_name\": \"Canceled\", \"run_properties\": null}, {\"run_id\": \"AutoML_87c610c3-3498-4e8b-abb4-0d38c5f6dc85_79\", \"run_number\": 85, \"metric\": null, \"status\": \"Canceled\", \"run_type\": \"azureml.scriptrun\", \"training_percent\": \"100\", \"start_time\": \"2020-11-23T11:40:44.466409Z\", \"end_time\": \"2020-11-23T11:41:17.381976Z\", \"created_time\": \"2020-11-23T11:40:44.466409Z\", \"created_time_dt\": \"2020-11-23T11:40:44.466409Z\", \"duration\": \"0:00:32\", \"iteration\": \"79\", \"goal\": null, \"run_name\": \"Canceled\", \"run_properties\": null}, {\"run_id\": \"AutoML_87c610c3-3498-4e8b-abb4-0d38c5f6dc85_81\", \"run_number\": 86, \"metric\": null, \"status\": \"Canceled\", \"run_type\": \"azureml.scriptrun\", \"training_percent\": \"100\", \"start_time\": \"2020-11-23T11:40:44.542749Z\", \"end_time\": \"2020-11-23T11:41:18.256715Z\", \"created_time\": \"2020-11-23T11:40:44.542749Z\", \"created_time_dt\": \"2020-11-23T11:40:44.542749Z\", \"duration\": \"0:00:33\", \"iteration\": \"81\", \"goal\": null, \"run_name\": \"Canceled\", \"run_properties\": null}, {\"run_id\": \"AutoML_87c610c3-3498-4e8b-abb4-0d38c5f6dc85_80\", \"run_number\": 87, \"metric\": null, \"status\": \"Canceled\", \"run_type\": \"azureml.scriptrun\", \"training_percent\": \"100\", \"start_time\": \"2020-11-23T11:40:44.57422Z\", \"end_time\": \"2020-11-23T11:41:18.49163Z\", \"created_time\": \"2020-11-23T11:40:44.57422Z\", \"created_time_dt\": \"2020-11-23T11:40:44.57422Z\", \"duration\": \"0:00:33\", \"iteration\": \"80\", \"goal\": null, \"run_name\": \"Canceled\", \"run_properties\": null}, {\"run_id\": \"AutoML_87c610c3-3498-4e8b-abb4-0d38c5f6dc85_82\", \"run_number\": 88, \"metric\": null, \"status\": \"Completed\", \"run_type\": \"azureml.scriptrun\", \"training_percent\": \"100\", \"start_time\": \"2020-11-23T11:41:40.546368Z\", \"end_time\": \"2020-11-23T11:43:27.303005Z\", \"created_time\": \"2020-11-23T11:41:23.809807Z\", \"created_time_dt\": \"2020-11-23T11:41:23.809807Z\", \"duration\": \"0:02:03\", \"iteration\": \"82\", \"goal\": \"accuracy_max\", \"run_name\": \"VotingEnsemble\", \"run_properties\": \"classification_labels=None,\\n                              estimators=[('32',\\n                                           Pipeline(memory=None,\\n                                                    steps=[('standardscalerwrapper',\\n                                                            <azureml.automl.runtime.shared.model_wrappers.StandardScalerWrapper object at 0x7f4280f7b470>\", \"primary_metric\": 0.91735964, \"best_metric\": 0.91735964}, {\"run_id\": \"AutoML_87c610c3-3498-4e8b-abb4-0d38c5f6dc85_83\", \"run_number\": 89, \"metric\": null, \"status\": \"Completed\", \"run_type\": \"azureml.scriptrun\", \"training_percent\": \"100\", \"start_time\": \"2020-11-23T11:41:34.975282Z\", \"end_time\": \"2020-11-23T11:43:35.339326Z\", \"created_time\": \"2020-11-23T11:41:23.940248Z\", \"created_time_dt\": \"2020-11-23T11:41:23.940248Z\", \"duration\": \"0:02:11\", \"iteration\": \"83\", \"goal\": \"accuracy_max\", \"run_name\": \"StackEnsemble\", \"run_properties\": \"base_learners=[('32',\\n                                        Pipeline(memory=None,\\n                                                 steps=[('standardscalerwrapper',\\n                                                         <azureml.automl.runtime.shared.model_wrappers.StandardScalerWrapper object at 0x7f592e7aee10>\", \"primary_metric\": 0.9169651, \"best_metric\": 0.91735964}], \"children_metrics\": {\"categories\": [0], \"series\": {\"recall_score_macro\": [{\"categories\": [\"0\", \"1\", \"2\", \"3\", \"4\", \"5\", \"6\", \"7\", \"8\", \"9\", \"10\", \"11\", \"12\", \"13\", \"14\", \"15\", \"16\", \"17\", \"18\", \"19\", \"20\", \"21\", \"22\", \"23\", \"24\", \"25\", \"26\", \"27\", \"28\", \"29\", \"30\", \"31\", \"32\", \"33\", \"34\", \"35\", \"36\", \"37\", \"38\", \"39\", \"40\", \"41\", \"42\", \"43\", \"44\", \"45\", \"46\", \"47\", \"48\", \"49\", \"50\", \"51\", \"52\", \"53\", \"54\", \"55\", \"56\", \"57\", \"58\", \"59\", \"60\", \"61\", \"62\", \"63\", \"64\", \"65\", \"66\", \"67\", \"68\", \"69\", \"70\", \"71\", \"72\", \"73\", \"82\", \"83\"], \"mode\": \"markers\", \"name\": \"recall_score_macro\", \"stepped\": false, \"type\": \"scatter\", \"data\": [0.7544009480534859, 0.7340688589506685, 0.565975740928999, 0.6869043050618898, 0.5, 0.8592866044121588, 0.5957956459436601, 0.5610162721982525, 0.7635514201642186, 0.6488759572862237, 0.6646056892231069, 0.8495446241560209, 0.7171862383385103, 0.6790361704038524, 0.5871315639194447, 0.5871809637817609, 0.585163780863841, 0.8343924998295833, 0.8611050355950824, 0.7803206203115004, 0.7554524125409061, 0.7186299382367165, 0.5718078704892657, 0.8499077921564849, 0.5773783644238264, 0.5, 0.6584408846347268, 0.7345308774514148, 0.8193053500557749, 0.5, 0.5006243936243936, 0.5, 0.7632007365144848, 0.5871536276980402, 0.7419853049641129, 0.5, 0.7345153115674934, 0.5513918718906988, 0.5900440742532815, 0.5, 0.5, 0.5901856746173061, 0.5, 0.626319073693822, 0.7106762691831425, 0.5447548117443083, 0.5, 0.6630850579619839, 0.7066477884876265, 0.7399627596369408, 0.7447759563997239, 0.742550218692682, 0.7440509274317838, 0.6882487490798548, 0.6988443827478349, 0.7157151230000693, 0.7271528103860737, 0.701973338340359, 0.7440058850912116, 0.7154548105402906, 0.744181637090261, 0.7137413879930152, 0.5, 0.7284244329691645, 0.7344412872687248, 0.7202039883905602, 0.7353191730052175, 0.7497165195469353, 0.558150752080542, 0.7448203656394684, 0.6965893470460595, 0.7166769674880408, 0.748907033575948, 0.7092651244799211, 0.740178090835633, 0.7458470253132573]}, {\"categories\": [\"0\", \"1\", \"2\", \"3\", \"4\", \"5\", \"6\", \"7\", \"8\", \"9\", \"10\", \"11\", \"12\", \"13\", \"14\", \"15\", \"16\", \"17\", \"18\", \"19\", \"20\", \"21\", \"22\", \"23\", \"24\", \"25\", \"26\", \"27\", \"28\", \"29\", \"30\", \"31\", \"32\", \"33\", \"34\", \"35\", \"36\", \"37\", \"38\", \"39\", \"40\", \"41\", \"42\", \"43\", \"44\", \"45\", \"46\", \"47\", \"48\", \"49\", \"50\", \"51\", \"52\", \"53\", \"54\", \"55\", \"56\", \"57\", \"58\", \"59\", \"60\", \"61\", \"62\", \"63\", \"64\", \"65\", \"66\", \"67\", \"68\", \"69\", \"70\", \"71\", \"72\", \"73\", \"82\", \"83\"], \"mode\": \"lines\", \"name\": \"recall_score_macro_max\", \"stepped\": true, \"type\": \"scatter\", \"data\": [0.7544009480534859, 0.7544009480534859, 0.7544009480534859, 0.7544009480534859, 0.7544009480534859, 0.8592866044121588, 0.8592866044121588, 0.8592866044121588, 0.8592866044121588, 0.8592866044121588, 0.8592866044121588, 0.8592866044121588, 0.8592866044121588, 0.8592866044121588, 0.8592866044121588, 0.8592866044121588, 0.8592866044121588, 0.8592866044121588, 0.8611050355950824, 0.8611050355950824, 0.8611050355950824, 0.8611050355950824, 0.8611050355950824, 0.8611050355950824, 0.8611050355950824, 0.8611050355950824, 0.8611050355950824, 0.8611050355950824, 0.8611050355950824, 0.8611050355950824, 0.8611050355950824, 0.8611050355950824, 0.8611050355950824, 0.8611050355950824, 0.8611050355950824, 0.8611050355950824, 0.8611050355950824, 0.8611050355950824, 0.8611050355950824, 0.8611050355950824, 0.8611050355950824, 0.8611050355950824, 0.8611050355950824, 0.8611050355950824, 0.8611050355950824, 0.8611050355950824, 0.8611050355950824, 0.8611050355950824, 0.8611050355950824, 0.8611050355950824, 0.8611050355950824, 0.8611050355950824, 0.8611050355950824, 0.8611050355950824, 0.8611050355950824, 0.8611050355950824, 0.8611050355950824, 0.8611050355950824, 0.8611050355950824, 0.8611050355950824, 0.8611050355950824, 0.8611050355950824, 0.8611050355950824, 0.8611050355950824, 0.8611050355950824, 0.8611050355950824, 0.8611050355950824, 0.8611050355950824, 0.8611050355950824, 0.8611050355950824, 0.8611050355950824, 0.8611050355950824, 0.8611050355950824, 0.8611050355950824, 0.8611050355950824, 0.8611050355950824]}], \"precision_score_micro\": [{\"categories\": [\"0\", \"1\", \"2\", \"3\", \"4\", \"5\", \"6\", \"7\", \"8\", \"9\", \"10\", \"11\", \"12\", \"13\", \"14\", \"15\", \"16\", \"17\", \"18\", \"19\", \"20\", \"21\", \"22\", \"23\", \"24\", \"25\", \"26\", \"27\", \"28\", \"29\", \"30\", \"31\", \"32\", \"33\", \"34\", \"35\", \"36\", \"37\", \"38\", \"39\", \"40\", \"41\", \"42\", \"43\", \"44\", \"45\", \"46\", \"47\", \"48\", \"49\", \"50\", \"51\", \"52\", \"53\", \"54\", \"55\", \"56\", \"57\", \"58\", \"59\", \"60\", \"61\", \"62\", \"63\", \"64\", \"65\", \"66\", \"67\", \"68\", \"69\", \"70\", \"71\", \"72\", \"73\", \"82\", \"83\"], \"mode\": \"markers\", \"name\": \"precision_score_micro\", \"stepped\": false, \"type\": \"scatter\", \"data\": [0.915113808801214, 0.9152352048558422, 0.898877086494689, 0.9087708649468894, 0.8879514415781488, 0.8563581183611534, 0.9028224582701062, 0.8969954476479515, 0.8051896813353567, 0.9057359635811837, 0.9040364188163885, 0.8468285280728377, 0.7228224582701062, 0.9071927162367223, 0.8989681335356602, 0.9001213960546283, 0.8988163884673748, 0.8002731411229135, 0.8418209408194233, 0.8258270106221547, 0.8014264036418816, 0.7245523520485584, 0.899544764795144, 0.8575720789074357, 0.8993323216995448, 0.8879514415781488, 0.906555386949924, 0.7603945371775417, 0.7706221547799696, 0.8879514415781488, 0.8880121396054628, 0.8879514415781488, 0.9157511380880121, 0.9000910470409712, 0.9146585735963582, 0.8879514415781488, 0.9138391502276176, 0.8976934749620638, 0.8998482549317147, 0.8879514415781488, 0.8879514415781488, 0.9001517450682852, 0.8879514415781488, 0.907040971168437, 0.9091957511380879, 0.896267071320182, 0.8879514415781488, 0.9086798179059181, 0.9080121396054628, 0.9105918057663125, 0.9131107738998484, 0.9128376327769347, 0.9127465857359637, 0.9099241274658574, 0.9127162367223065, 0.9122610015174507, 0.9137481031866465, 0.9074051593323217, 0.9119575113808802, 0.9150834597875569, 0.911350531107739, 0.9085887708649469, 0.8879514415781488, 0.9123216995447649, 0.9153566009104704, 0.9142943854324734, 0.9105311077389985, 0.9128983308042489, 0.897238239757208, 0.912382397572079, 0.9127162367223065, 0.913444613050076, 0.9136267071320182, 0.9107435508345979, 0.9173596358118361, 0.9169650986342944]}, {\"categories\": [\"0\", \"1\", \"2\", \"3\", \"4\", \"5\", \"6\", \"7\", \"8\", \"9\", \"10\", \"11\", \"12\", \"13\", \"14\", \"15\", \"16\", \"17\", \"18\", \"19\", \"20\", \"21\", \"22\", \"23\", \"24\", \"25\", \"26\", \"27\", \"28\", \"29\", \"30\", \"31\", \"32\", \"33\", \"34\", \"35\", \"36\", \"37\", \"38\", \"39\", \"40\", \"41\", \"42\", \"43\", \"44\", \"45\", \"46\", \"47\", \"48\", \"49\", \"50\", \"51\", \"52\", \"53\", \"54\", \"55\", \"56\", \"57\", \"58\", \"59\", \"60\", \"61\", \"62\", \"63\", \"64\", \"65\", \"66\", \"67\", \"68\", \"69\", \"70\", \"71\", \"72\", \"73\", \"82\", \"83\"], \"mode\": \"lines\", \"name\": \"precision_score_micro_max\", \"stepped\": true, \"type\": \"scatter\", \"data\": [0.915113808801214, 0.9152352048558422, 0.9152352048558422, 0.9152352048558422, 0.9152352048558422, 0.9152352048558422, 0.9152352048558422, 0.9152352048558422, 0.9152352048558422, 0.9152352048558422, 0.9152352048558422, 0.9152352048558422, 0.9152352048558422, 0.9152352048558422, 0.9152352048558422, 0.9152352048558422, 0.9152352048558422, 0.9152352048558422, 0.9152352048558422, 0.9152352048558422, 0.9152352048558422, 0.9152352048558422, 0.9152352048558422, 0.9152352048558422, 0.9152352048558422, 0.9152352048558422, 0.9152352048558422, 0.9152352048558422, 0.9152352048558422, 0.9152352048558422, 0.9152352048558422, 0.9152352048558422, 0.9157511380880121, 0.9157511380880121, 0.9157511380880121, 0.9157511380880121, 0.9157511380880121, 0.9157511380880121, 0.9157511380880121, 0.9157511380880121, 0.9157511380880121, 0.9157511380880121, 0.9157511380880121, 0.9157511380880121, 0.9157511380880121, 0.9157511380880121, 0.9157511380880121, 0.9157511380880121, 0.9157511380880121, 0.9157511380880121, 0.9157511380880121, 0.9157511380880121, 0.9157511380880121, 0.9157511380880121, 0.9157511380880121, 0.9157511380880121, 0.9157511380880121, 0.9157511380880121, 0.9157511380880121, 0.9157511380880121, 0.9157511380880121, 0.9157511380880121, 0.9157511380880121, 0.9157511380880121, 0.9157511380880121, 0.9157511380880121, 0.9157511380880121, 0.9157511380880121, 0.9157511380880121, 0.9157511380880121, 0.9157511380880121, 0.9157511380880121, 0.9157511380880121, 0.9157511380880121, 0.9173596358118361, 0.9173596358118361]}], \"average_precision_score_weighted\": [{\"categories\": [\"0\", \"1\", \"2\", \"3\", \"4\", \"5\", \"6\", \"7\", \"8\", \"9\", \"10\", \"11\", \"12\", \"13\", \"14\", \"15\", \"16\", \"17\", \"18\", \"19\", \"20\", \"21\", \"22\", \"23\", \"24\", \"25\", \"26\", \"27\", \"28\", \"29\", \"30\", \"31\", \"32\", \"33\", \"34\", \"35\", \"36\", \"37\", \"38\", \"39\", \"40\", \"41\", \"42\", \"43\", \"44\", \"45\", \"46\", \"47\", \"48\", \"49\", \"50\", \"51\", \"52\", \"53\", \"54\", \"55\", \"56\", \"57\", \"58\", \"59\", \"60\", \"61\", \"62\", \"63\", \"64\", \"65\", \"66\", \"67\", \"68\", \"69\", \"70\", \"71\", \"72\", \"73\", \"82\", \"83\"], \"mode\": \"markers\", \"name\": \"average_precision_score_weighted\", \"stepped\": false, \"type\": \"scatter\", \"data\": [0.9558128913679056, 0.9557319527380322, 0.9410633507511837, 0.9415514961887345, 0.9333971938546703, 0.9429939598456208, 0.9447577492645245, 0.9227861078968184, 0.9272111225325188, 0.939362809471936, 0.9381737832974834, 0.943318386287004, 0.903814106246646, 0.943640860968866, 0.9323995730334698, 0.9271574363008999, 0.9240034387252318, 0.9335369189009108, 0.9438616518459604, 0.9312586353117928, 0.9092852271736047, 0.9049243784998808, 0.9435659560528269, 0.9431608395584625, 0.9300432079041847, 0.8010191926425516, 0.9407068970972455, 0.9173267108410762, 0.9282209623372919, 0.934612685985406, 0.880673844512559, 0.9428255569068751, 0.9504016186737736, 0.9360123723891999, 0.9507048559800122, 0.8010191926425516, 0.953360775936571, 0.9517825246640882, 0.9366456262411408, 0.9284576091163762, 0.8010191926425516, 0.941587107665263, 0.9164579290190092, 0.953003054037689, 0.9492247934707262, 0.9232189939810755, 0.9168486149708214, 0.9425693172955556, 0.9484315629010659, 0.9535334030261696, 0.9536777607986533, 0.9542868329667366, 0.9532665557528507, 0.9439943857791558, 0.9523074058186045, 0.9541515142925551, 0.9546875266635114, 0.9479838593931038, 0.9457273437745133, 0.9557453206013184, 0.9538309262028364, 0.949067993456947, 0.9361038323640904, 0.9545691792255464, 0.9557671369268572, 0.9525641531092075, 0.9513751502418788, 0.9535227631184444, 0.9244429955130352, 0.9524548755251775, 0.9544848407182023, 0.9540692738112215, 0.9554026164374845, 0.9482899952377464, 0.9566241318591061, 0.9568839124038085]}, {\"categories\": [\"0\", \"1\", \"2\", \"3\", \"4\", \"5\", \"6\", \"7\", \"8\", \"9\", \"10\", \"11\", \"12\", \"13\", \"14\", \"15\", \"16\", \"17\", \"18\", \"19\", \"20\", \"21\", \"22\", \"23\", \"24\", \"25\", \"26\", \"27\", \"28\", \"29\", \"30\", \"31\", \"32\", \"33\", \"34\", \"35\", \"36\", \"37\", \"38\", \"39\", \"40\", \"41\", \"42\", \"43\", \"44\", \"45\", \"46\", \"47\", \"48\", \"49\", \"50\", \"51\", \"52\", \"53\", \"54\", \"55\", \"56\", \"57\", \"58\", \"59\", \"60\", \"61\", \"62\", \"63\", \"64\", \"65\", \"66\", \"67\", \"68\", \"69\", \"70\", \"71\", \"72\", \"73\", \"82\", \"83\"], \"mode\": \"lines\", \"name\": \"average_precision_score_weighted_max\", \"stepped\": true, \"type\": \"scatter\", \"data\": [0.9558128913679056, 0.9558128913679056, 0.9558128913679056, 0.9558128913679056, 0.9558128913679056, 0.9558128913679056, 0.9558128913679056, 0.9558128913679056, 0.9558128913679056, 0.9558128913679056, 0.9558128913679056, 0.9558128913679056, 0.9558128913679056, 0.9558128913679056, 0.9558128913679056, 0.9558128913679056, 0.9558128913679056, 0.9558128913679056, 0.9558128913679056, 0.9558128913679056, 0.9558128913679056, 0.9558128913679056, 0.9558128913679056, 0.9558128913679056, 0.9558128913679056, 0.9558128913679056, 0.9558128913679056, 0.9558128913679056, 0.9558128913679056, 0.9558128913679056, 0.9558128913679056, 0.9558128913679056, 0.9558128913679056, 0.9558128913679056, 0.9558128913679056, 0.9558128913679056, 0.9558128913679056, 0.9558128913679056, 0.9558128913679056, 0.9558128913679056, 0.9558128913679056, 0.9558128913679056, 0.9558128913679056, 0.9558128913679056, 0.9558128913679056, 0.9558128913679056, 0.9558128913679056, 0.9558128913679056, 0.9558128913679056, 0.9558128913679056, 0.9558128913679056, 0.9558128913679056, 0.9558128913679056, 0.9558128913679056, 0.9558128913679056, 0.9558128913679056, 0.9558128913679056, 0.9558128913679056, 0.9558128913679056, 0.9558128913679056, 0.9558128913679056, 0.9558128913679056, 0.9558128913679056, 0.9558128913679056, 0.9558128913679056, 0.9558128913679056, 0.9558128913679056, 0.9558128913679056, 0.9558128913679056, 0.9558128913679056, 0.9558128913679056, 0.9558128913679056, 0.9558128913679056, 0.9558128913679056, 0.9566241318591061, 0.9568839124038085]}], \"f1_score_micro\": [{\"categories\": [\"0\", \"1\", \"2\", \"3\", \"4\", \"5\", \"6\", \"7\", \"8\", \"9\", \"10\", \"11\", \"12\", \"13\", \"14\", \"15\", \"16\", \"17\", \"18\", \"19\", \"20\", \"21\", \"22\", \"23\", \"24\", \"25\", \"26\", \"27\", \"28\", \"29\", \"30\", \"31\", \"32\", \"33\", \"34\", \"35\", \"36\", \"37\", \"38\", \"39\", \"40\", \"41\", \"42\", \"43\", \"44\", \"45\", \"46\", \"47\", \"48\", \"49\", \"50\", \"51\", \"52\", \"53\", \"54\", \"55\", \"56\", \"57\", \"58\", \"59\", \"60\", \"61\", \"62\", \"63\", \"64\", \"65\", \"66\", \"67\", \"68\", \"69\", \"70\", \"71\", \"72\", \"73\", \"82\", \"83\"], \"mode\": \"markers\", \"name\": \"f1_score_micro\", \"stepped\": false, \"type\": \"scatter\", \"data\": [0.915113808801214, 0.9152352048558422, 0.898877086494689, 0.9087708649468892, 0.8879514415781488, 0.8563581183611534, 0.9028224582701062, 0.8969954476479515, 0.8051896813353565, 0.9057359635811837, 0.9040364188163885, 0.8468285280728376, 0.7228224582701062, 0.9071927162367223, 0.8989681335356602, 0.9001213960546283, 0.8988163884673748, 0.8002731411229135, 0.8418209408194233, 0.8258270106221547, 0.8014264036418816, 0.7245523520485586, 0.899544764795144, 0.8575720789074357, 0.8993323216995448, 0.8879514415781488, 0.906555386949924, 0.7603945371775417, 0.7706221547799696, 0.8879514415781488, 0.8880121396054628, 0.8879514415781488, 0.9157511380880121, 0.9000910470409712, 0.9146585735963582, 0.8879514415781488, 0.9138391502276176, 0.8976934749620638, 0.8998482549317147, 0.8879514415781488, 0.8879514415781488, 0.9001517450682852, 0.8879514415781488, 0.907040971168437, 0.9091957511380879, 0.896267071320182, 0.8879514415781488, 0.908679817905918, 0.9080121396054628, 0.9105918057663125, 0.9131107738998484, 0.9128376327769347, 0.9127465857359637, 0.9099241274658574, 0.9127162367223065, 0.9122610015174507, 0.9137481031866465, 0.9074051593323217, 0.9119575113808802, 0.9150834597875569, 0.911350531107739, 0.9085887708649469, 0.8879514415781488, 0.9123216995447649, 0.9153566009104704, 0.9142943854324734, 0.9105311077389985, 0.9128983308042489, 0.897238239757208, 0.912382397572079, 0.9127162367223065, 0.913444613050076, 0.9136267071320182, 0.9107435508345979, 0.9173596358118361, 0.9169650986342944]}, {\"categories\": [\"0\", \"1\", \"2\", \"3\", \"4\", \"5\", \"6\", \"7\", \"8\", \"9\", \"10\", \"11\", \"12\", \"13\", \"14\", \"15\", \"16\", \"17\", \"18\", \"19\", \"20\", \"21\", \"22\", \"23\", \"24\", \"25\", \"26\", \"27\", \"28\", \"29\", \"30\", \"31\", \"32\", \"33\", \"34\", \"35\", \"36\", \"37\", \"38\", \"39\", \"40\", \"41\", \"42\", \"43\", \"44\", \"45\", \"46\", \"47\", \"48\", \"49\", \"50\", \"51\", \"52\", \"53\", \"54\", \"55\", \"56\", \"57\", \"58\", \"59\", \"60\", \"61\", \"62\", \"63\", \"64\", \"65\", \"66\", \"67\", \"68\", \"69\", \"70\", \"71\", \"72\", \"73\", \"82\", \"83\"], \"mode\": \"lines\", \"name\": \"f1_score_micro_max\", \"stepped\": true, \"type\": \"scatter\", \"data\": [0.915113808801214, 0.9152352048558422, 0.9152352048558422, 0.9152352048558422, 0.9152352048558422, 0.9152352048558422, 0.9152352048558422, 0.9152352048558422, 0.9152352048558422, 0.9152352048558422, 0.9152352048558422, 0.9152352048558422, 0.9152352048558422, 0.9152352048558422, 0.9152352048558422, 0.9152352048558422, 0.9152352048558422, 0.9152352048558422, 0.9152352048558422, 0.9152352048558422, 0.9152352048558422, 0.9152352048558422, 0.9152352048558422, 0.9152352048558422, 0.9152352048558422, 0.9152352048558422, 0.9152352048558422, 0.9152352048558422, 0.9152352048558422, 0.9152352048558422, 0.9152352048558422, 0.9152352048558422, 0.9157511380880121, 0.9157511380880121, 0.9157511380880121, 0.9157511380880121, 0.9157511380880121, 0.9157511380880121, 0.9157511380880121, 0.9157511380880121, 0.9157511380880121, 0.9157511380880121, 0.9157511380880121, 0.9157511380880121, 0.9157511380880121, 0.9157511380880121, 0.9157511380880121, 0.9157511380880121, 0.9157511380880121, 0.9157511380880121, 0.9157511380880121, 0.9157511380880121, 0.9157511380880121, 0.9157511380880121, 0.9157511380880121, 0.9157511380880121, 0.9157511380880121, 0.9157511380880121, 0.9157511380880121, 0.9157511380880121, 0.9157511380880121, 0.9157511380880121, 0.9157511380880121, 0.9157511380880121, 0.9157511380880121, 0.9157511380880121, 0.9157511380880121, 0.9157511380880121, 0.9157511380880121, 0.9157511380880121, 0.9157511380880121, 0.9157511380880121, 0.9157511380880121, 0.9157511380880121, 0.9173596358118361, 0.9173596358118361]}], \"f1_score_macro\": [{\"categories\": [\"0\", \"1\", \"2\", \"3\", \"4\", \"5\", \"6\", \"7\", \"8\", \"9\", \"10\", \"11\", \"12\", \"13\", \"14\", \"15\", \"16\", \"17\", \"18\", \"19\", \"20\", \"21\", \"22\", \"23\", \"24\", \"25\", \"26\", \"27\", \"28\", \"29\", \"30\", \"31\", \"32\", \"33\", \"34\", \"35\", \"36\", \"37\", \"38\", \"39\", \"40\", \"41\", \"42\", \"43\", \"44\", \"45\", \"46\", \"47\", \"48\", \"49\", \"50\", \"51\", \"52\", \"53\", \"54\", \"55\", \"56\", \"57\", \"58\", \"59\", \"60\", \"61\", \"62\", \"63\", \"64\", \"65\", \"66\", \"67\", \"68\", \"69\", \"70\", \"71\", \"72\", \"73\", \"82\", \"83\"], \"mode\": \"markers\", \"name\": \"f1_score_macro\", \"stepped\": false, \"type\": \"scatter\", \"data\": [0.7718184295301314, 0.7612894280084677, 0.588651981259111, 0.7224947115681697, 0.47032487347763857, 0.743751719335196, 0.6313967270104797, 0.5806283949077093, 0.6656556746518199, 0.6863109335177018, 0.6976018166847853, 0.7319403581912318, 0.5937145262280186, 0.7128314273555849, 0.6179580955972263, 0.6191414210436812, 0.6156799245271019, 0.6864041804748566, 0.7301382636943174, 0.6883651729905842, 0.6600616405989527, 0.595286513903677, 0.5980344997524382, 0.7423524063869589, 0.6057182546367781, 0.47032487347763857, 0.6981069014611764, 0.6233721156580645, 0.6586428136824937, 0.47032487347763857, 0.4716740314917295, 0.47032487347763857, 0.7770102800879277, 0.6190596712632048, 0.7647628945372169, 0.47032487347763857, 0.7595382553457621, 0.566220731944282, 0.6224890201561543, 0.47032487347763857, 0.47032487347763857, 0.6228182666094684, 0.47032487347763857, 0.6691604062894703, 0.7392478871843373, 0.5545684887736375, 0.47032487347763857, 0.7046892618054493, 0.7351003266036994, 0.758017912760847, 0.7640435487815003, 0.762477281205445, 0.7631295114150847, 0.7254114805975511, 0.7363255450912636, 0.746420851266359, 0.7552925401720826, 0.7313924934090194, 0.7619586356093884, 0.7501682100292898, 0.7612381916407012, 0.7402171028003265, 0.47032487347763857, 0.7540152280766239, 0.7615465329271757, 0.7518652970234905, 0.7553746641576218, 0.7663161803270969, 0.5766521551736243, 0.7630160795615579, 0.7345133210534525, 0.7486481715495976, 0.7668825349969625, 0.7404845833993563, 0.767694225648893, 0.7700503923127483]}, {\"categories\": [\"0\", \"1\", \"2\", \"3\", \"4\", \"5\", \"6\", \"7\", \"8\", \"9\", \"10\", \"11\", \"12\", \"13\", \"14\", \"15\", \"16\", \"17\", \"18\", \"19\", \"20\", \"21\", \"22\", \"23\", \"24\", \"25\", \"26\", \"27\", \"28\", \"29\", \"30\", \"31\", \"32\", \"33\", \"34\", \"35\", \"36\", \"37\", \"38\", \"39\", \"40\", \"41\", \"42\", \"43\", \"44\", \"45\", \"46\", \"47\", \"48\", \"49\", \"50\", \"51\", \"52\", \"53\", \"54\", \"55\", \"56\", \"57\", \"58\", \"59\", \"60\", \"61\", \"62\", \"63\", \"64\", \"65\", \"66\", \"67\", \"68\", \"69\", \"70\", \"71\", \"72\", \"73\", \"82\", \"83\"], \"mode\": \"lines\", \"name\": \"f1_score_macro_max\", \"stepped\": true, \"type\": \"scatter\", \"data\": [0.7718184295301314, 0.7718184295301314, 0.7718184295301314, 0.7718184295301314, 0.7718184295301314, 0.7718184295301314, 0.7718184295301314, 0.7718184295301314, 0.7718184295301314, 0.7718184295301314, 0.7718184295301314, 0.7718184295301314, 0.7718184295301314, 0.7718184295301314, 0.7718184295301314, 0.7718184295301314, 0.7718184295301314, 0.7718184295301314, 0.7718184295301314, 0.7718184295301314, 0.7718184295301314, 0.7718184295301314, 0.7718184295301314, 0.7718184295301314, 0.7718184295301314, 0.7718184295301314, 0.7718184295301314, 0.7718184295301314, 0.7718184295301314, 0.7718184295301314, 0.7718184295301314, 0.7718184295301314, 0.7770102800879277, 0.7770102800879277, 0.7770102800879277, 0.7770102800879277, 0.7770102800879277, 0.7770102800879277, 0.7770102800879277, 0.7770102800879277, 0.7770102800879277, 0.7770102800879277, 0.7770102800879277, 0.7770102800879277, 0.7770102800879277, 0.7770102800879277, 0.7770102800879277, 0.7770102800879277, 0.7770102800879277, 0.7770102800879277, 0.7770102800879277, 0.7770102800879277, 0.7770102800879277, 0.7770102800879277, 0.7770102800879277, 0.7770102800879277, 0.7770102800879277, 0.7770102800879277, 0.7770102800879277, 0.7770102800879277, 0.7770102800879277, 0.7770102800879277, 0.7770102800879277, 0.7770102800879277, 0.7770102800879277, 0.7770102800879277, 0.7770102800879277, 0.7770102800879277, 0.7770102800879277, 0.7770102800879277, 0.7770102800879277, 0.7770102800879277, 0.7770102800879277, 0.7770102800879277, 0.7770102800879277, 0.7770102800879277]}], \"average_precision_score_macro\": [{\"categories\": [\"0\", \"1\", \"2\", \"3\", \"4\", \"5\", \"6\", \"7\", \"8\", \"9\", \"10\", \"11\", \"12\", \"13\", \"14\", \"15\", \"16\", \"17\", \"18\", \"19\", \"20\", \"21\", \"22\", \"23\", \"24\", \"25\", \"26\", \"27\", \"28\", \"29\", \"30\", \"31\", \"32\", \"33\", \"34\", \"35\", \"36\", \"37\", \"38\", \"39\", \"40\", \"41\", \"42\", \"43\", \"44\", \"45\", \"46\", \"47\", \"48\", \"49\", \"50\", \"51\", \"52\", \"53\", \"54\", \"55\", \"56\", \"57\", \"58\", \"59\", \"60\", \"61\", \"62\", \"63\", \"64\", \"65\", \"66\", \"67\", \"68\", \"69\", \"70\", \"71\", \"72\", \"73\", \"82\", \"83\"], \"mode\": \"markers\", \"name\": \"average_precision_score_macro\", \"stepped\": false, \"type\": \"scatter\", \"data\": [0.8254591431417045, 0.8260115713048755, 0.7751736185582505, 0.7798051309831349, 0.7442546818287427, 0.7813352595806194, 0.7881042155738542, 0.7246514022049347, 0.7359073300326786, 0.7768617010937751, 0.7669022917376237, 0.7836227891712353, 0.6834050914902949, 0.782917751963482, 0.7436427728571952, 0.7359137444684196, 0.7281723597998424, 0.7493983139218592, 0.7840771266034683, 0.7462731681030031, 0.7058738731093868, 0.6807079018149775, 0.7844762630792921, 0.7826650252332297, 0.7408438997854219, 0.5, 0.7802038636383264, 0.7181902447733208, 0.7304812601902624, 0.7513756988537414, 0.6102672898678665, 0.7784638563876813, 0.8134178897682831, 0.7592614606593067, 0.8154318236717695, 0.5, 0.8170886069760263, 0.8144540751323228, 0.7564274264607171, 0.7382295237291672, 0.5, 0.7761004297792333, 0.7160326829423641, 0.8165446193335558, 0.7997267697799608, 0.729989563109459, 0.7170989252792481, 0.7839293788941741, 0.7968999011961667, 0.8167708887073537, 0.8173185470994596, 0.8197447453786559, 0.8162587205726535, 0.7858248844753153, 0.8134273589966063, 0.8196668428612414, 0.8223028346478218, 0.7953842019812751, 0.8027177333852183, 0.8262479811135914, 0.8174627181320627, 0.7990243815795648, 0.7544311401472068, 0.821067726303222, 0.8259927071228408, 0.8181140966342568, 0.8080837278906033, 0.8172221921574501, 0.7302877870867853, 0.8130547885258919, 0.8229791474362065, 0.8209637570608128, 0.8239381089458865, 0.8039857259048807, 0.8291515131472782, 0.8299907762941363]}, {\"categories\": [\"0\", \"1\", \"2\", \"3\", \"4\", \"5\", \"6\", \"7\", \"8\", \"9\", \"10\", \"11\", \"12\", \"13\", \"14\", \"15\", \"16\", \"17\", \"18\", \"19\", \"20\", \"21\", \"22\", \"23\", \"24\", \"25\", \"26\", \"27\", \"28\", \"29\", \"30\", \"31\", \"32\", \"33\", \"34\", \"35\", \"36\", \"37\", \"38\", \"39\", \"40\", \"41\", \"42\", \"43\", \"44\", \"45\", \"46\", \"47\", \"48\", \"49\", \"50\", \"51\", \"52\", \"53\", \"54\", \"55\", \"56\", \"57\", \"58\", \"59\", \"60\", \"61\", \"62\", \"63\", \"64\", \"65\", \"66\", \"67\", \"68\", \"69\", \"70\", \"71\", \"72\", \"73\", \"82\", \"83\"], \"mode\": \"lines\", \"name\": \"average_precision_score_macro_max\", \"stepped\": true, \"type\": \"scatter\", \"data\": [0.8254591431417045, 0.8260115713048755, 0.8260115713048755, 0.8260115713048755, 0.8260115713048755, 0.8260115713048755, 0.8260115713048755, 0.8260115713048755, 0.8260115713048755, 0.8260115713048755, 0.8260115713048755, 0.8260115713048755, 0.8260115713048755, 0.8260115713048755, 0.8260115713048755, 0.8260115713048755, 0.8260115713048755, 0.8260115713048755, 0.8260115713048755, 0.8260115713048755, 0.8260115713048755, 0.8260115713048755, 0.8260115713048755, 0.8260115713048755, 0.8260115713048755, 0.8260115713048755, 0.8260115713048755, 0.8260115713048755, 0.8260115713048755, 0.8260115713048755, 0.8260115713048755, 0.8260115713048755, 0.8260115713048755, 0.8260115713048755, 0.8260115713048755, 0.8260115713048755, 0.8260115713048755, 0.8260115713048755, 0.8260115713048755, 0.8260115713048755, 0.8260115713048755, 0.8260115713048755, 0.8260115713048755, 0.8260115713048755, 0.8260115713048755, 0.8260115713048755, 0.8260115713048755, 0.8260115713048755, 0.8260115713048755, 0.8260115713048755, 0.8260115713048755, 0.8260115713048755, 0.8260115713048755, 0.8260115713048755, 0.8260115713048755, 0.8260115713048755, 0.8260115713048755, 0.8260115713048755, 0.8260115713048755, 0.8262479811135914, 0.8262479811135914, 0.8262479811135914, 0.8262479811135914, 0.8262479811135914, 0.8262479811135914, 0.8262479811135914, 0.8262479811135914, 0.8262479811135914, 0.8262479811135914, 0.8262479811135914, 0.8262479811135914, 0.8262479811135914, 0.8262479811135914, 0.8262479811135914, 0.8291515131472782, 0.8299907762941363]}], \"log_loss\": [{\"categories\": [\"0\", \"1\", \"2\", \"3\", \"4\", \"5\", \"6\", \"7\", \"8\", \"9\", \"10\", \"11\", \"12\", \"13\", \"14\", \"15\", \"16\", \"17\", \"18\", \"19\", \"20\", \"21\", \"22\", \"23\", \"24\", \"25\", \"26\", \"27\", \"28\", \"29\", \"30\", \"31\", \"32\", \"33\", \"34\", \"35\", \"36\", \"37\", \"38\", \"39\", \"40\", \"41\", \"42\", \"43\", \"44\", \"45\", \"46\", \"47\", \"48\", \"49\", \"50\", \"51\", \"52\", \"53\", \"54\", \"55\", \"56\", \"57\", \"58\", \"59\", \"60\", \"61\", \"62\", \"63\", \"64\", \"65\", \"66\", \"67\", \"68\", \"69\", \"70\", \"71\", \"72\", \"73\", \"82\", \"83\"], \"mode\": \"markers\", \"name\": \"log_loss\", \"stepped\": false, \"type\": \"scatter\", \"data\": [0.1723927642753893, 0.17663046665055432, 0.2167374936023024, 0.22383424474376962, 0.23943675084757876, 0.9164535604439876, 0.2132661444557558, 0.26760164690678107, 0.47657473698934194, 0.34023591546102283, 0.2438792268537074, 0.40108178299546465, 0.5734069705373892, 0.21998970839433665, 0.2367005815465284, 0.2583339091189131, 0.26272037355591205, 0.44316009446126864, 0.4158489378223395, 0.4609865544421119, 0.5755839915540593, 0.5394183376019626, 0.2187904835856728, 0.8088409459480609, 0.25058435927652406, 0.35080848707052803, 0.3202250911422786, 0.5182183658909526, 0.4578488392445143, 0.25572853497441933, 0.2840705511616306, 0.23545524438270596, 0.3174560809288764, 0.24022670130465967, 0.31751709957175506, 0.3508086446488111, 0.18026806690661967, 0.22996464238542424, 0.23173324073581494, 0.2625383379814708, 0.41021682685634897, 0.2188593081612585, 0.28318890728163437, 0.20111149380470286, 0.1832726633579177, 0.35982846146679337, 0.28413421832344804, 0.21982291568670723, 0.18559222048943552, 0.1793436162571978, 0.17786200380467415, 0.17687138998749036, 0.18043254105143064, 0.21540611727071393, 0.18752802560943949, 0.20642043294855145, 0.17824968578507994, 0.18771644368453222, 0.32436957554149054, 0.18120170637145358, 0.17833761011906482, 0.18471385931340087, 0.21977308730563147, 0.17575227241856148, 0.17762642122927425, 0.31917541595838433, 0.18013750225584269, 0.17868124126237483, 0.26813338727073704, 0.18215683962951373, 0.20908950509013513, 0.2075707437995035, 0.17451729104045324, 0.325787024638414, 0.21112054339299324, 0.19116759315658297]}, {\"categories\": [\"0\", \"1\", \"2\", \"3\", \"4\", \"5\", \"6\", \"7\", \"8\", \"9\", \"10\", \"11\", \"12\", \"13\", \"14\", \"15\", \"16\", \"17\", \"18\", \"19\", \"20\", \"21\", \"22\", \"23\", \"24\", \"25\", \"26\", \"27\", \"28\", \"29\", \"30\", \"31\", \"32\", \"33\", \"34\", \"35\", \"36\", \"37\", \"38\", \"39\", \"40\", \"41\", \"42\", \"43\", \"44\", \"45\", \"46\", \"47\", \"48\", \"49\", \"50\", \"51\", \"52\", \"53\", \"54\", \"55\", \"56\", \"57\", \"58\", \"59\", \"60\", \"61\", \"62\", \"63\", \"64\", \"65\", \"66\", \"67\", \"68\", \"69\", \"70\", \"71\", \"72\", \"73\", \"82\", \"83\"], \"mode\": \"lines\", \"name\": \"log_loss_min\", \"stepped\": true, \"type\": \"scatter\", \"data\": [0.1723927642753893, 0.1723927642753893, 0.1723927642753893, 0.1723927642753893, 0.1723927642753893, 0.1723927642753893, 0.1723927642753893, 0.1723927642753893, 0.1723927642753893, 0.1723927642753893, 0.1723927642753893, 0.1723927642753893, 0.1723927642753893, 0.1723927642753893, 0.1723927642753893, 0.1723927642753893, 0.1723927642753893, 0.1723927642753893, 0.1723927642753893, 0.1723927642753893, 0.1723927642753893, 0.1723927642753893, 0.1723927642753893, 0.1723927642753893, 0.1723927642753893, 0.1723927642753893, 0.1723927642753893, 0.1723927642753893, 0.1723927642753893, 0.1723927642753893, 0.1723927642753893, 0.1723927642753893, 0.1723927642753893, 0.1723927642753893, 0.1723927642753893, 0.1723927642753893, 0.1723927642753893, 0.1723927642753893, 0.1723927642753893, 0.1723927642753893, 0.1723927642753893, 0.1723927642753893, 0.1723927642753893, 0.1723927642753893, 0.1723927642753893, 0.1723927642753893, 0.1723927642753893, 0.1723927642753893, 0.1723927642753893, 0.1723927642753893, 0.1723927642753893, 0.1723927642753893, 0.1723927642753893, 0.1723927642753893, 0.1723927642753893, 0.1723927642753893, 0.1723927642753893, 0.1723927642753893, 0.1723927642753893, 0.1723927642753893, 0.1723927642753893, 0.1723927642753893, 0.1723927642753893, 0.1723927642753893, 0.1723927642753893, 0.1723927642753893, 0.1723927642753893, 0.1723927642753893, 0.1723927642753893, 0.1723927642753893, 0.1723927642753893, 0.1723927642753893, 0.1723927642753893, 0.1723927642753893, 0.1723927642753893, 0.1723927642753893]}], \"norm_macro_recall\": [{\"categories\": [\"0\", \"1\", \"2\", \"3\", \"4\", \"5\", \"6\", \"7\", \"8\", \"9\", \"10\", \"11\", \"12\", \"13\", \"14\", \"15\", \"16\", \"17\", \"18\", \"19\", \"20\", \"21\", \"22\", \"23\", \"24\", \"25\", \"26\", \"27\", \"28\", \"29\", \"30\", \"31\", \"32\", \"33\", \"34\", \"35\", \"36\", \"37\", \"38\", \"39\", \"40\", \"41\", \"42\", \"43\", \"44\", \"45\", \"46\", \"47\", \"48\", \"49\", \"50\", \"51\", \"52\", \"53\", \"54\", \"55\", \"56\", \"57\", \"58\", \"59\", \"60\", \"61\", \"62\", \"63\", \"64\", \"65\", \"66\", \"67\", \"68\", \"69\", \"70\", \"71\", \"72\", \"73\", \"82\", \"83\"], \"mode\": \"markers\", \"name\": \"norm_macro_recall\", \"stepped\": false, \"type\": \"scatter\", \"data\": [0.5088018961069719, 0.4681377179013369, 0.13195148185799796, 0.37380861012377964, 0.0, 0.7185732088243173, 0.19159129188732016, 0.12203254439650468, 0.527102840328437, 0.2977519145724473, 0.32921137844621395, 0.6990892483120419, 0.4343724766770203, 0.3580723408077047, 0.1742631278388894, 0.1743619275635218, 0.17032756172768204, 0.6687849996591664, 0.722210071190165, 0.5606412406230008, 0.5109048250818122, 0.4372598764734333, 0.14361574097853155, 0.6998155843129698, 0.154756728847653, 0.0, 0.31688176926945366, 0.4690617549028294, 0.6386107001115499, 0.0, 0.001248787248787231, 0.0, 0.5264014730289697, 0.1743072553960804, 0.48397060992822566, 0.0, 0.4690306231349866, 0.10278374378139765, 0.180088148506563, 0.0, 0.0, 0.18037134923461223, 0.0, 0.2526381473876438, 0.42135253836628517, 0.08950962348861666, 0.0, 0.3261701159239677, 0.41329557697525293, 0.4799255192738814, 0.48955191279944776, 0.4851004373853641, 0.48810185486356766, 0.37649749815970945, 0.39768876549566984, 0.4314302460001386, 0.45430562077214737, 0.40394667668071804, 0.48801177018242303, 0.43090962108058123, 0.48836327418052183, 0.42748277598603035, 0.0, 0.4568488659383291, 0.46888257453744975, 0.4404079767811206, 0.4706383460104352, 0.4994330390938709, 0.11630150416108384, 0.48964073127893687, 0.3931786940921188, 0.4333539349760816, 0.4978140671518959, 0.41853024895984214, 0.48035618167126604, 0.4916940506265145]}, {\"categories\": [\"0\", \"1\", \"2\", \"3\", \"4\", \"5\", \"6\", \"7\", \"8\", \"9\", \"10\", \"11\", \"12\", \"13\", \"14\", \"15\", \"16\", \"17\", \"18\", \"19\", \"20\", \"21\", \"22\", \"23\", \"24\", \"25\", \"26\", \"27\", \"28\", \"29\", \"30\", \"31\", \"32\", \"33\", \"34\", \"35\", \"36\", \"37\", \"38\", \"39\", \"40\", \"41\", \"42\", \"43\", \"44\", \"45\", \"46\", \"47\", \"48\", \"49\", \"50\", \"51\", \"52\", \"53\", \"54\", \"55\", \"56\", \"57\", \"58\", \"59\", \"60\", \"61\", \"62\", \"63\", \"64\", \"65\", \"66\", \"67\", \"68\", \"69\", \"70\", \"71\", \"72\", \"73\", \"82\", \"83\"], \"mode\": \"lines\", \"name\": \"norm_macro_recall_max\", \"stepped\": true, \"type\": \"scatter\", \"data\": [0.5088018961069719, 0.5088018961069719, 0.5088018961069719, 0.5088018961069719, 0.5088018961069719, 0.7185732088243173, 0.7185732088243173, 0.7185732088243173, 0.7185732088243173, 0.7185732088243173, 0.7185732088243173, 0.7185732088243173, 0.7185732088243173, 0.7185732088243173, 0.7185732088243173, 0.7185732088243173, 0.7185732088243173, 0.7185732088243173, 0.722210071190165, 0.722210071190165, 0.722210071190165, 0.722210071190165, 0.722210071190165, 0.722210071190165, 0.722210071190165, 0.722210071190165, 0.722210071190165, 0.722210071190165, 0.722210071190165, 0.722210071190165, 0.722210071190165, 0.722210071190165, 0.722210071190165, 0.722210071190165, 0.722210071190165, 0.722210071190165, 0.722210071190165, 0.722210071190165, 0.722210071190165, 0.722210071190165, 0.722210071190165, 0.722210071190165, 0.722210071190165, 0.722210071190165, 0.722210071190165, 0.722210071190165, 0.722210071190165, 0.722210071190165, 0.722210071190165, 0.722210071190165, 0.722210071190165, 0.722210071190165, 0.722210071190165, 0.722210071190165, 0.722210071190165, 0.722210071190165, 0.722210071190165, 0.722210071190165, 0.722210071190165, 0.722210071190165, 0.722210071190165, 0.722210071190165, 0.722210071190165, 0.722210071190165, 0.722210071190165, 0.722210071190165, 0.722210071190165, 0.722210071190165, 0.722210071190165, 0.722210071190165, 0.722210071190165, 0.722210071190165, 0.722210071190165, 0.722210071190165, 0.722210071190165, 0.722210071190165]}], \"precision_score_weighted\": [{\"categories\": [\"0\", \"1\", \"2\", \"3\", \"4\", \"5\", \"6\", \"7\", \"8\", \"9\", \"10\", \"11\", \"12\", \"13\", \"14\", \"15\", \"16\", \"17\", \"18\", \"19\", \"20\", \"21\", \"22\", \"23\", \"24\", \"25\", \"26\", \"27\", \"28\", \"29\", \"30\", \"31\", \"32\", \"33\", \"34\", \"35\", \"36\", \"37\", \"38\", \"39\", \"40\", \"41\", \"42\", \"43\", \"44\", \"45\", \"46\", \"47\", \"48\", \"49\", \"50\", \"51\", \"52\", \"53\", \"54\", \"55\", \"56\", \"57\", \"58\", \"59\", \"60\", \"61\", \"62\", \"63\", \"64\", \"65\", \"66\", \"67\", \"68\", \"69\", \"70\", \"71\", \"72\", \"73\", \"82\", \"83\"], \"mode\": \"markers\", \"name\": \"precision_score_weighted\", \"stepped\": false, \"type\": \"scatter\", \"data\": [0.9101991698797842, 0.9078370163565967, 0.8887745141567877, 0.8968745441458154, 0.7884610378994246, 0.9185624908272627, 0.8901337544810424, 0.8820094225807059, 0.8868267903292235, 0.8914787734720842, 0.8906855205278204, 0.9155478623782152, 0.8727640636780338, 0.8954102685424573, 0.8809611642775833, 0.8838183382573721, 0.8808376260378872, 0.9102062128786992, 0.9184058877910786, 0.8927797210161925, 0.8843316618368039, 0.873207148326275, 0.8872279143232646, 0.9162266790068161, 0.8839332623019922, 0.7884610378994246, 0.8922623264478198, 0.8773606106900704, 0.906259050878575, 0.7884610378994246, 0.8026080944314717, 0.7884610378994246, 0.9118793471301716, 0.8837030011544407, 0.908177025626624, 0.7884610378994246, 0.9065950031885069, 0.8933409535352197, 0.8826424242078612, 0.7884610378994246, 0.7884610378994246, 0.8833274442680942, 0.7884610378994246, 0.8945591727870035, 0.899782960178299, 0.890686239145162, 0.7884610378994246, 0.895529482225544, 0.8982340812024822, 0.9048374758478506, 0.9073432897336777, 0.9068383853028168, 0.906955117196843, 0.8982872330182932, 0.902194910312736, 0.9030530939533234, 0.9057140510789459, 0.8971497783756199, 0.9064499041818032, 0.90588966361991, 0.9059819363188334, 0.8996812093924381, 0.7884610378994246, 0.904605541190762, 0.907877508185712, 0.905434207991137, 0.9042634663465317, 0.9079293892631668, 0.8842614918581277, 0.9067830900973624, 0.9020805716224588, 0.9045066093796563, 0.9082962219262715, 0.901035087151963, 0.9102838261573876, 0.9105845352716548]}, {\"categories\": [\"0\", \"1\", \"2\", \"3\", \"4\", \"5\", \"6\", \"7\", \"8\", \"9\", \"10\", \"11\", \"12\", \"13\", \"14\", \"15\", \"16\", \"17\", \"18\", \"19\", \"20\", \"21\", \"22\", \"23\", \"24\", \"25\", \"26\", \"27\", \"28\", \"29\", \"30\", \"31\", \"32\", \"33\", \"34\", \"35\", \"36\", \"37\", \"38\", \"39\", \"40\", \"41\", \"42\", \"43\", \"44\", \"45\", \"46\", \"47\", \"48\", \"49\", \"50\", \"51\", \"52\", \"53\", \"54\", \"55\", \"56\", \"57\", \"58\", \"59\", \"60\", \"61\", \"62\", \"63\", \"64\", \"65\", \"66\", \"67\", \"68\", \"69\", \"70\", \"71\", \"72\", \"73\", \"82\", \"83\"], \"mode\": \"lines\", \"name\": \"precision_score_weighted_max\", \"stepped\": true, \"type\": \"scatter\", \"data\": [0.9101991698797842, 0.9101991698797842, 0.9101991698797842, 0.9101991698797842, 0.9101991698797842, 0.9185624908272627, 0.9185624908272627, 0.9185624908272627, 0.9185624908272627, 0.9185624908272627, 0.9185624908272627, 0.9185624908272627, 0.9185624908272627, 0.9185624908272627, 0.9185624908272627, 0.9185624908272627, 0.9185624908272627, 0.9185624908272627, 0.9185624908272627, 0.9185624908272627, 0.9185624908272627, 0.9185624908272627, 0.9185624908272627, 0.9185624908272627, 0.9185624908272627, 0.9185624908272627, 0.9185624908272627, 0.9185624908272627, 0.9185624908272627, 0.9185624908272627, 0.9185624908272627, 0.9185624908272627, 0.9185624908272627, 0.9185624908272627, 0.9185624908272627, 0.9185624908272627, 0.9185624908272627, 0.9185624908272627, 0.9185624908272627, 0.9185624908272627, 0.9185624908272627, 0.9185624908272627, 0.9185624908272627, 0.9185624908272627, 0.9185624908272627, 0.9185624908272627, 0.9185624908272627, 0.9185624908272627, 0.9185624908272627, 0.9185624908272627, 0.9185624908272627, 0.9185624908272627, 0.9185624908272627, 0.9185624908272627, 0.9185624908272627, 0.9185624908272627, 0.9185624908272627, 0.9185624908272627, 0.9185624908272627, 0.9185624908272627, 0.9185624908272627, 0.9185624908272627, 0.9185624908272627, 0.9185624908272627, 0.9185624908272627, 0.9185624908272627, 0.9185624908272627, 0.9185624908272627, 0.9185624908272627, 0.9185624908272627, 0.9185624908272627, 0.9185624908272627, 0.9185624908272627, 0.9185624908272627, 0.9185624908272627, 0.9185624908272627]}], \"AUC_macro\": [{\"categories\": [\"0\", \"1\", \"2\", \"3\", \"4\", \"5\", \"6\", \"7\", \"8\", \"9\", \"10\", \"11\", \"12\", \"13\", \"14\", \"15\", \"16\", \"17\", \"18\", \"19\", \"20\", \"21\", \"22\", \"23\", \"24\", \"25\", \"26\", \"27\", \"28\", \"29\", \"30\", \"31\", \"32\", \"33\", \"34\", \"35\", \"36\", \"37\", \"38\", \"39\", \"40\", \"41\", \"42\", \"43\", \"44\", \"45\", \"46\", \"47\", \"48\", \"49\", \"50\", \"51\", \"52\", \"53\", \"54\", \"55\", \"56\", \"57\", \"58\", \"59\", \"60\", \"61\", \"62\", \"63\", \"64\", \"65\", \"66\", \"67\", \"68\", \"69\", \"70\", \"71\", \"72\", \"73\", \"82\", \"83\"], \"mode\": \"markers\", \"name\": \"AUC_macro\", \"stepped\": false, \"type\": \"scatter\", \"data\": [0.9491410242912469, 0.9472483698723486, 0.9194552877449365, 0.9200759003816394, 0.9126914608872942, 0.9284131894662291, 0.9259525115867268, 0.8637828261342959, 0.8761881055182016, 0.9150920386741574, 0.9130841103100117, 0.9243448979198972, 0.8083377484245615, 0.9275983645588022, 0.9089984046197819, 0.8767442032309323, 0.869012628879948, 0.9039590016820975, 0.9274316609972034, 0.8892762364575197, 0.8295784703295362, 0.8215476343305858, 0.9223814553625223, 0.9273084916777694, 0.8903109639929362, 0.5, 0.9179019928194648, 0.8419286420516597, 0.8936727650448191, 0.9072438214736419, 0.8012175368850943, 0.9307665540988248, 0.9363154219538297, 0.9044936516107669, 0.9354089488526756, 0.5, 0.9441171285409864, 0.9376138570252259, 0.9153946215018346, 0.8826546362053855, 0.5, 0.9203764767997139, 0.8378385952445473, 0.9421782544767539, 0.9406622297343041, 0.8819954594098082, 0.8391158680144087, 0.9206524359162733, 0.9393844957368855, 0.9457987799309391, 0.9462899541194648, 0.9466690581329307, 0.9446714354436985, 0.9269230525567883, 0.9420833762791825, 0.9461246097052666, 0.9456567903786517, 0.9386393418714288, 0.9250819815628424, 0.9476540937029817, 0.9469424979864796, 0.9409227734406169, 0.9153281453491978, 0.9463622272762648, 0.9484806343518694, 0.9404211587142532, 0.9436783033427135, 0.945128535731312, 0.8661120186384125, 0.9439671203358214, 0.9439058279490155, 0.9435572992394542, 0.9483599099883555, 0.9330295179511154, 0.9494394062500333, 0.9497655857997783]}, {\"categories\": [\"0\", \"1\", \"2\", \"3\", \"4\", \"5\", \"6\", \"7\", \"8\", \"9\", \"10\", \"11\", \"12\", \"13\", \"14\", \"15\", \"16\", \"17\", \"18\", \"19\", \"20\", \"21\", \"22\", \"23\", \"24\", \"25\", \"26\", \"27\", \"28\", \"29\", \"30\", \"31\", \"32\", \"33\", \"34\", \"35\", \"36\", \"37\", \"38\", \"39\", \"40\", \"41\", \"42\", \"43\", \"44\", \"45\", \"46\", \"47\", \"48\", \"49\", \"50\", \"51\", \"52\", \"53\", \"54\", \"55\", \"56\", \"57\", \"58\", \"59\", \"60\", \"61\", \"62\", \"63\", \"64\", \"65\", \"66\", \"67\", \"68\", \"69\", \"70\", \"71\", \"72\", \"73\", \"82\", \"83\"], \"mode\": \"lines\", \"name\": \"AUC_macro_max\", \"stepped\": true, \"type\": \"scatter\", \"data\": [0.9491410242912469, 0.9491410242912469, 0.9491410242912469, 0.9491410242912469, 0.9491410242912469, 0.9491410242912469, 0.9491410242912469, 0.9491410242912469, 0.9491410242912469, 0.9491410242912469, 0.9491410242912469, 0.9491410242912469, 0.9491410242912469, 0.9491410242912469, 0.9491410242912469, 0.9491410242912469, 0.9491410242912469, 0.9491410242912469, 0.9491410242912469, 0.9491410242912469, 0.9491410242912469, 0.9491410242912469, 0.9491410242912469, 0.9491410242912469, 0.9491410242912469, 0.9491410242912469, 0.9491410242912469, 0.9491410242912469, 0.9491410242912469, 0.9491410242912469, 0.9491410242912469, 0.9491410242912469, 0.9491410242912469, 0.9491410242912469, 0.9491410242912469, 0.9491410242912469, 0.9491410242912469, 0.9491410242912469, 0.9491410242912469, 0.9491410242912469, 0.9491410242912469, 0.9491410242912469, 0.9491410242912469, 0.9491410242912469, 0.9491410242912469, 0.9491410242912469, 0.9491410242912469, 0.9491410242912469, 0.9491410242912469, 0.9491410242912469, 0.9491410242912469, 0.9491410242912469, 0.9491410242912469, 0.9491410242912469, 0.9491410242912469, 0.9491410242912469, 0.9491410242912469, 0.9491410242912469, 0.9491410242912469, 0.9491410242912469, 0.9491410242912469, 0.9491410242912469, 0.9491410242912469, 0.9491410242912469, 0.9491410242912469, 0.9491410242912469, 0.9491410242912469, 0.9491410242912469, 0.9491410242912469, 0.9491410242912469, 0.9491410242912469, 0.9491410242912469, 0.9491410242912469, 0.9491410242912469, 0.9494394062500333, 0.9497655857997783]}], \"f1_score_weighted\": [{\"categories\": [\"0\", \"1\", \"2\", \"3\", \"4\", \"5\", \"6\", \"7\", \"8\", \"9\", \"10\", \"11\", \"12\", \"13\", \"14\", \"15\", \"16\", \"17\", \"18\", \"19\", \"20\", \"21\", \"22\", \"23\", \"24\", \"25\", \"26\", \"27\", \"28\", \"29\", \"30\", \"31\", \"32\", \"33\", \"34\", \"35\", \"36\", \"37\", \"38\", \"39\", \"40\", \"41\", \"42\", \"43\", \"44\", \"45\", \"46\", \"47\", \"48\", \"49\", \"50\", \"51\", \"52\", \"53\", \"54\", \"55\", \"56\", \"57\", \"58\", \"59\", \"60\", \"61\", \"62\", \"63\", \"64\", \"65\", \"66\", \"67\", \"68\", \"69\", \"70\", \"71\", \"72\", \"73\", \"82\", \"83\"], \"mode\": \"markers\", \"name\": \"f1_score_weighted\", \"stepped\": false, \"type\": \"scatter\", \"data\": [0.9121176982373502, 0.9100514285209972, 0.8658695780804175, 0.8989296049468468, 0.83525313620102, 0.8755606220257359, 0.8768206066433457, 0.8632589690275211, 0.833224712244454, 0.8898136422063759, 0.891400485818538, 0.8680160270327036, 0.7714165297490844, 0.8960852655868065, 0.8721601276718622, 0.8729695272557276, 0.8716300345174577, 0.832878752320622, 0.8648488592991461, 0.8489573161377149, 0.8301326829193174, 0.7727279227032333, 0.868163191044437, 0.8759434287689045, 0.8697261423520788, 0.83525313620102, 0.8927827021775844, 0.7995897580442733, 0.81029986057465, 0.83525313620102, 0.8355751463923078, 0.83525313620102, 0.9134931072376034, 0.8729425451149642, 0.9104676879142228, 0.83525313620102, 0.9089894922621052, 0.8604396637077238, 0.8735777938243977, 0.83525313620102, 0.83525313620102, 0.8737651492718849, 0.83525313620102, 0.8868131031609454, 0.9026044841351475, 0.8573266277380347, 0.83525313620102, 0.8951416997799433, 0.9011854680264333, 0.9071101234729577, 0.9095661024567236, 0.9091114245396147, 0.9091945505981822, 0.9000775817938598, 0.9036728690864242, 0.9055557927810998, 0.9080842651700628, 0.9001249008069442, 0.9085801231774162, 0.9076728208054485, 0.9081358181703333, 0.9025099868384767, 0.83525313620102, 0.9071432261452369, 0.9101511882511211, 0.9076530838532191, 0.9065576108418906, 0.9099145563690232, 0.8625231693263247, 0.9089871468834307, 0.9032767204216803, 0.9065661658131601, 0.9103939909587648, 0.9035851915931584, 0.9123785676563003, 0.9126767804304958]}, {\"categories\": [\"0\", \"1\", \"2\", \"3\", \"4\", \"5\", \"6\", \"7\", \"8\", \"9\", \"10\", \"11\", \"12\", \"13\", \"14\", \"15\", \"16\", \"17\", \"18\", \"19\", \"20\", \"21\", \"22\", \"23\", \"24\", \"25\", \"26\", \"27\", \"28\", \"29\", \"30\", \"31\", \"32\", \"33\", \"34\", \"35\", \"36\", \"37\", \"38\", \"39\", \"40\", \"41\", \"42\", \"43\", \"44\", \"45\", \"46\", \"47\", \"48\", \"49\", \"50\", \"51\", \"52\", \"53\", \"54\", \"55\", \"56\", \"57\", \"58\", \"59\", \"60\", \"61\", \"62\", \"63\", \"64\", \"65\", \"66\", \"67\", \"68\", \"69\", \"70\", \"71\", \"72\", \"73\", \"82\", \"83\"], \"mode\": \"lines\", \"name\": \"f1_score_weighted_max\", \"stepped\": true, \"type\": \"scatter\", \"data\": [0.9121176982373502, 0.9121176982373502, 0.9121176982373502, 0.9121176982373502, 0.9121176982373502, 0.9121176982373502, 0.9121176982373502, 0.9121176982373502, 0.9121176982373502, 0.9121176982373502, 0.9121176982373502, 0.9121176982373502, 0.9121176982373502, 0.9121176982373502, 0.9121176982373502, 0.9121176982373502, 0.9121176982373502, 0.9121176982373502, 0.9121176982373502, 0.9121176982373502, 0.9121176982373502, 0.9121176982373502, 0.9121176982373502, 0.9121176982373502, 0.9121176982373502, 0.9121176982373502, 0.9121176982373502, 0.9121176982373502, 0.9121176982373502, 0.9121176982373502, 0.9121176982373502, 0.9121176982373502, 0.9134931072376034, 0.9134931072376034, 0.9134931072376034, 0.9134931072376034, 0.9134931072376034, 0.9134931072376034, 0.9134931072376034, 0.9134931072376034, 0.9134931072376034, 0.9134931072376034, 0.9134931072376034, 0.9134931072376034, 0.9134931072376034, 0.9134931072376034, 0.9134931072376034, 0.9134931072376034, 0.9134931072376034, 0.9134931072376034, 0.9134931072376034, 0.9134931072376034, 0.9134931072376034, 0.9134931072376034, 0.9134931072376034, 0.9134931072376034, 0.9134931072376034, 0.9134931072376034, 0.9134931072376034, 0.9134931072376034, 0.9134931072376034, 0.9134931072376034, 0.9134931072376034, 0.9134931072376034, 0.9134931072376034, 0.9134931072376034, 0.9134931072376034, 0.9134931072376034, 0.9134931072376034, 0.9134931072376034, 0.9134931072376034, 0.9134931072376034, 0.9134931072376034, 0.9134931072376034, 0.9134931072376034, 0.9134931072376034]}], \"recall_score_weighted\": [{\"categories\": [\"0\", \"1\", \"2\", \"3\", \"4\", \"5\", \"6\", \"7\", \"8\", \"9\", \"10\", \"11\", \"12\", \"13\", \"14\", \"15\", \"16\", \"17\", \"18\", \"19\", \"20\", \"21\", \"22\", \"23\", \"24\", \"25\", \"26\", \"27\", \"28\", \"29\", \"30\", \"31\", \"32\", \"33\", \"34\", \"35\", \"36\", \"37\", \"38\", \"39\", \"40\", \"41\", \"42\", \"43\", \"44\", \"45\", \"46\", \"47\", \"48\", \"49\", \"50\", \"51\", \"52\", \"53\", \"54\", \"55\", \"56\", \"57\", \"58\", \"59\", \"60\", \"61\", \"62\", \"63\", \"64\", \"65\", \"66\", \"67\", \"68\", \"69\", \"70\", \"71\", \"72\", \"73\", \"82\", \"83\"], \"mode\": \"markers\", \"name\": \"recall_score_weighted\", \"stepped\": false, \"type\": \"scatter\", \"data\": [0.915113808801214, 0.9152352048558422, 0.898877086494689, 0.9087708649468894, 0.8879514415781488, 0.8563581183611534, 0.9028224582701062, 0.8969954476479515, 0.8051896813353567, 0.9057359635811837, 0.9040364188163885, 0.8468285280728377, 0.7228224582701062, 0.9071927162367223, 0.8989681335356602, 0.9001213960546283, 0.8988163884673748, 0.8002731411229135, 0.8418209408194233, 0.8258270106221547, 0.8014264036418816, 0.7245523520485584, 0.899544764795144, 0.8575720789074357, 0.8993323216995448, 0.8879514415781488, 0.906555386949924, 0.7603945371775417, 0.7706221547799696, 0.8879514415781488, 0.8880121396054628, 0.8879514415781488, 0.9157511380880121, 0.9000910470409712, 0.9146585735963582, 0.8879514415781488, 0.9138391502276176, 0.8976934749620638, 0.8998482549317147, 0.8879514415781488, 0.8879514415781488, 0.9001517450682852, 0.8879514415781488, 0.907040971168437, 0.9091957511380879, 0.896267071320182, 0.8879514415781488, 0.9086798179059181, 0.9080121396054628, 0.9105918057663125, 0.9131107738998484, 0.9128376327769347, 0.9127465857359637, 0.9099241274658574, 0.9127162367223065, 0.9122610015174507, 0.9137481031866465, 0.9074051593323217, 0.9119575113808802, 0.9150834597875569, 0.911350531107739, 0.9085887708649469, 0.8879514415781488, 0.9123216995447649, 0.9153566009104704, 0.9142943854324734, 0.9105311077389985, 0.9128983308042489, 0.897238239757208, 0.912382397572079, 0.9127162367223065, 0.913444613050076, 0.9136267071320182, 0.9107435508345979, 0.9173596358118361, 0.9169650986342944]}, {\"categories\": [\"0\", \"1\", \"2\", \"3\", \"4\", \"5\", \"6\", \"7\", \"8\", \"9\", \"10\", \"11\", \"12\", \"13\", \"14\", \"15\", \"16\", \"17\", \"18\", \"19\", \"20\", \"21\", \"22\", \"23\", \"24\", \"25\", \"26\", \"27\", \"28\", \"29\", \"30\", \"31\", \"32\", \"33\", \"34\", \"35\", \"36\", \"37\", \"38\", \"39\", \"40\", \"41\", \"42\", \"43\", \"44\", \"45\", \"46\", \"47\", \"48\", \"49\", \"50\", \"51\", \"52\", \"53\", \"54\", \"55\", \"56\", \"57\", \"58\", \"59\", \"60\", \"61\", \"62\", \"63\", \"64\", \"65\", \"66\", \"67\", \"68\", \"69\", \"70\", \"71\", \"72\", \"73\", \"82\", \"83\"], \"mode\": \"lines\", \"name\": \"recall_score_weighted_max\", \"stepped\": true, \"type\": \"scatter\", \"data\": [0.915113808801214, 0.9152352048558422, 0.9152352048558422, 0.9152352048558422, 0.9152352048558422, 0.9152352048558422, 0.9152352048558422, 0.9152352048558422, 0.9152352048558422, 0.9152352048558422, 0.9152352048558422, 0.9152352048558422, 0.9152352048558422, 0.9152352048558422, 0.9152352048558422, 0.9152352048558422, 0.9152352048558422, 0.9152352048558422, 0.9152352048558422, 0.9152352048558422, 0.9152352048558422, 0.9152352048558422, 0.9152352048558422, 0.9152352048558422, 0.9152352048558422, 0.9152352048558422, 0.9152352048558422, 0.9152352048558422, 0.9152352048558422, 0.9152352048558422, 0.9152352048558422, 0.9152352048558422, 0.9157511380880121, 0.9157511380880121, 0.9157511380880121, 0.9157511380880121, 0.9157511380880121, 0.9157511380880121, 0.9157511380880121, 0.9157511380880121, 0.9157511380880121, 0.9157511380880121, 0.9157511380880121, 0.9157511380880121, 0.9157511380880121, 0.9157511380880121, 0.9157511380880121, 0.9157511380880121, 0.9157511380880121, 0.9157511380880121, 0.9157511380880121, 0.9157511380880121, 0.9157511380880121, 0.9157511380880121, 0.9157511380880121, 0.9157511380880121, 0.9157511380880121, 0.9157511380880121, 0.9157511380880121, 0.9157511380880121, 0.9157511380880121, 0.9157511380880121, 0.9157511380880121, 0.9157511380880121, 0.9157511380880121, 0.9157511380880121, 0.9157511380880121, 0.9157511380880121, 0.9157511380880121, 0.9157511380880121, 0.9157511380880121, 0.9157511380880121, 0.9157511380880121, 0.9157511380880121, 0.9173596358118361, 0.9173596358118361]}], \"matthews_correlation\": [{\"categories\": [\"0\", \"1\", \"2\", \"3\", \"4\", \"5\", \"6\", \"7\", \"8\", \"9\", \"10\", \"11\", \"12\", \"13\", \"14\", \"15\", \"16\", \"17\", \"18\", \"19\", \"20\", \"21\", \"22\", \"23\", \"24\", \"25\", \"26\", \"27\", \"28\", \"29\", \"30\", \"31\", \"32\", \"33\", \"34\", \"35\", \"36\", \"37\", \"38\", \"39\", \"40\", \"41\", \"42\", \"43\", \"44\", \"45\", \"46\", \"47\", \"48\", \"49\", \"50\", \"51\", \"52\", \"53\", \"54\", \"55\", \"56\", \"57\", \"58\", \"59\", \"60\", \"61\", \"62\", \"63\", \"64\", \"65\", \"66\", \"67\", \"68\", \"69\", \"70\", \"71\", \"72\", \"73\", \"82\", \"83\"], \"mode\": \"markers\", \"name\": \"matthews_correlation\", \"stepped\": false, \"type\": \"scatter\", \"data\": [0.5463390876362102, 0.5300491547483789, 0.2993760911722223, 0.46455392396295714, 0.0, 0.5428780711839766, 0.3546731416226582, 0.276667934876742, 0.38853236701133154, 0.4154020482132851, 0.42440793832198187, 0.5241487950201889, 0.2927697995964148, 0.45143409688916664, 0.3195817236883825, 0.3274944322038441, 0.3169501550860133, 0.46905771879144903, 0.5298939962361602, 0.42428453141791184, 0.37692295548908084, 0.29517840014594826, 0.3096659477445565, 0.5354608985187732, 0.31230453903421024, 0.0, 0.4292484334900261, 0.328080245596069, 0.4342001540646322, 0.0, 0.011322916795312409, 0.0, 0.5556393272069962, 0.327112019043724, 0.5343114233761427, 0.0, 0.5252441407576892, 0.2778995108473472, 0.32854015558875005, 0.0, 0.0, 0.33047018730809335, 0.0, 0.4057222994159713, 0.48798734112938014, 0.2548146762388152, 0.0, 0.44395311550963373, 0.47997090737807985, 0.519075376435079, 0.5314184592475453, 0.5286058900608523, 0.529559404785152, 0.47102488167427303, 0.4916060207788572, 0.503420277206625, 0.5188767642067427, 0.4736196605323961, 0.5270569893198761, 0.5144634167332727, 0.5251415499308739, 0.48862541860082925, 0.0, 0.5146863551014708, 0.5304676379848533, 0.5148441116489586, 0.5149789222393648, 0.535137804916709, 0.2762530300850663, 0.5290275033700327, 0.4896148727068124, 0.509401251037219, 0.5366158428945262, 0.49255816882144954, 0.542651984472623, 0.5456268997047445]}, {\"categories\": [\"0\", \"1\", \"2\", \"3\", \"4\", \"5\", \"6\", \"7\", \"8\", \"9\", \"10\", \"11\", \"12\", \"13\", \"14\", \"15\", \"16\", \"17\", \"18\", \"19\", \"20\", \"21\", \"22\", \"23\", \"24\", \"25\", \"26\", \"27\", \"28\", \"29\", \"30\", \"31\", \"32\", \"33\", \"34\", \"35\", \"36\", \"37\", \"38\", \"39\", \"40\", \"41\", \"42\", \"43\", \"44\", \"45\", \"46\", \"47\", \"48\", \"49\", \"50\", \"51\", \"52\", \"53\", \"54\", \"55\", \"56\", \"57\", \"58\", \"59\", \"60\", \"61\", \"62\", \"63\", \"64\", \"65\", \"66\", \"67\", \"68\", \"69\", \"70\", \"71\", \"72\", \"73\", \"82\", \"83\"], \"mode\": \"lines\", \"name\": \"matthews_correlation_max\", \"stepped\": true, \"type\": \"scatter\", \"data\": [0.5463390876362102, 0.5463390876362102, 0.5463390876362102, 0.5463390876362102, 0.5463390876362102, 0.5463390876362102, 0.5463390876362102, 0.5463390876362102, 0.5463390876362102, 0.5463390876362102, 0.5463390876362102, 0.5463390876362102, 0.5463390876362102, 0.5463390876362102, 0.5463390876362102, 0.5463390876362102, 0.5463390876362102, 0.5463390876362102, 0.5463390876362102, 0.5463390876362102, 0.5463390876362102, 0.5463390876362102, 0.5463390876362102, 0.5463390876362102, 0.5463390876362102, 0.5463390876362102, 0.5463390876362102, 0.5463390876362102, 0.5463390876362102, 0.5463390876362102, 0.5463390876362102, 0.5463390876362102, 0.5556393272069962, 0.5556393272069962, 0.5556393272069962, 0.5556393272069962, 0.5556393272069962, 0.5556393272069962, 0.5556393272069962, 0.5556393272069962, 0.5556393272069962, 0.5556393272069962, 0.5556393272069962, 0.5556393272069962, 0.5556393272069962, 0.5556393272069962, 0.5556393272069962, 0.5556393272069962, 0.5556393272069962, 0.5556393272069962, 0.5556393272069962, 0.5556393272069962, 0.5556393272069962, 0.5556393272069962, 0.5556393272069962, 0.5556393272069962, 0.5556393272069962, 0.5556393272069962, 0.5556393272069962, 0.5556393272069962, 0.5556393272069962, 0.5556393272069962, 0.5556393272069962, 0.5556393272069962, 0.5556393272069962, 0.5556393272069962, 0.5556393272069962, 0.5556393272069962, 0.5556393272069962, 0.5556393272069962, 0.5556393272069962, 0.5556393272069962, 0.5556393272069962, 0.5556393272069962, 0.5556393272069962, 0.5556393272069962]}], \"recall_score_micro\": [{\"categories\": [\"0\", \"1\", \"2\", \"3\", \"4\", \"5\", \"6\", \"7\", \"8\", \"9\", \"10\", \"11\", \"12\", \"13\", \"14\", \"15\", \"16\", \"17\", \"18\", \"19\", \"20\", \"21\", \"22\", \"23\", \"24\", \"25\", \"26\", \"27\", \"28\", \"29\", \"30\", \"31\", \"32\", \"33\", \"34\", \"35\", \"36\", \"37\", \"38\", \"39\", \"40\", \"41\", \"42\", \"43\", \"44\", \"45\", \"46\", \"47\", \"48\", \"49\", \"50\", \"51\", \"52\", \"53\", \"54\", \"55\", \"56\", \"57\", \"58\", \"59\", \"60\", \"61\", \"62\", \"63\", \"64\", \"65\", \"66\", \"67\", \"68\", \"69\", \"70\", \"71\", \"72\", \"73\", \"82\", \"83\"], \"mode\": \"markers\", \"name\": \"recall_score_micro\", \"stepped\": false, \"type\": \"scatter\", \"data\": [0.915113808801214, 0.9152352048558422, 0.898877086494689, 0.9087708649468894, 0.8879514415781488, 0.8563581183611534, 0.9028224582701062, 0.8969954476479515, 0.8051896813353567, 0.9057359635811837, 0.9040364188163885, 0.8468285280728377, 0.7228224582701062, 0.9071927162367223, 0.8989681335356602, 0.9001213960546283, 0.8988163884673748, 0.8002731411229135, 0.8418209408194233, 0.8258270106221547, 0.8014264036418816, 0.7245523520485584, 0.899544764795144, 0.8575720789074357, 0.8993323216995448, 0.8879514415781488, 0.906555386949924, 0.7603945371775417, 0.7706221547799696, 0.8879514415781488, 0.8880121396054628, 0.8879514415781488, 0.9157511380880121, 0.9000910470409712, 0.9146585735963582, 0.8879514415781488, 0.9138391502276176, 0.8976934749620638, 0.8998482549317147, 0.8879514415781488, 0.8879514415781488, 0.9001517450682852, 0.8879514415781488, 0.907040971168437, 0.9091957511380879, 0.896267071320182, 0.8879514415781488, 0.9086798179059181, 0.9080121396054628, 0.9105918057663125, 0.9131107738998484, 0.9128376327769347, 0.9127465857359637, 0.9099241274658574, 0.9127162367223065, 0.9122610015174507, 0.9137481031866465, 0.9074051593323217, 0.9119575113808802, 0.9150834597875569, 0.911350531107739, 0.9085887708649469, 0.8879514415781488, 0.9123216995447649, 0.9153566009104704, 0.9142943854324734, 0.9105311077389985, 0.9128983308042489, 0.897238239757208, 0.912382397572079, 0.9127162367223065, 0.913444613050076, 0.9136267071320182, 0.9107435508345979, 0.9173596358118361, 0.9169650986342944]}, {\"categories\": [\"0\", \"1\", \"2\", \"3\", \"4\", \"5\", \"6\", \"7\", \"8\", \"9\", \"10\", \"11\", \"12\", \"13\", \"14\", \"15\", \"16\", \"17\", \"18\", \"19\", \"20\", \"21\", \"22\", \"23\", \"24\", \"25\", \"26\", \"27\", \"28\", \"29\", \"30\", \"31\", \"32\", \"33\", \"34\", \"35\", \"36\", \"37\", \"38\", \"39\", \"40\", \"41\", \"42\", \"43\", \"44\", \"45\", \"46\", \"47\", \"48\", \"49\", \"50\", \"51\", \"52\", \"53\", \"54\", \"55\", \"56\", \"57\", \"58\", \"59\", \"60\", \"61\", \"62\", \"63\", \"64\", \"65\", \"66\", \"67\", \"68\", \"69\", \"70\", \"71\", \"72\", \"73\", \"82\", \"83\"], \"mode\": \"lines\", \"name\": \"recall_score_micro_max\", \"stepped\": true, \"type\": \"scatter\", \"data\": [0.915113808801214, 0.9152352048558422, 0.9152352048558422, 0.9152352048558422, 0.9152352048558422, 0.9152352048558422, 0.9152352048558422, 0.9152352048558422, 0.9152352048558422, 0.9152352048558422, 0.9152352048558422, 0.9152352048558422, 0.9152352048558422, 0.9152352048558422, 0.9152352048558422, 0.9152352048558422, 0.9152352048558422, 0.9152352048558422, 0.9152352048558422, 0.9152352048558422, 0.9152352048558422, 0.9152352048558422, 0.9152352048558422, 0.9152352048558422, 0.9152352048558422, 0.9152352048558422, 0.9152352048558422, 0.9152352048558422, 0.9152352048558422, 0.9152352048558422, 0.9152352048558422, 0.9152352048558422, 0.9157511380880121, 0.9157511380880121, 0.9157511380880121, 0.9157511380880121, 0.9157511380880121, 0.9157511380880121, 0.9157511380880121, 0.9157511380880121, 0.9157511380880121, 0.9157511380880121, 0.9157511380880121, 0.9157511380880121, 0.9157511380880121, 0.9157511380880121, 0.9157511380880121, 0.9157511380880121, 0.9157511380880121, 0.9157511380880121, 0.9157511380880121, 0.9157511380880121, 0.9157511380880121, 0.9157511380880121, 0.9157511380880121, 0.9157511380880121, 0.9157511380880121, 0.9157511380880121, 0.9157511380880121, 0.9157511380880121, 0.9157511380880121, 0.9157511380880121, 0.9157511380880121, 0.9157511380880121, 0.9157511380880121, 0.9157511380880121, 0.9157511380880121, 0.9157511380880121, 0.9157511380880121, 0.9157511380880121, 0.9157511380880121, 0.9157511380880121, 0.9157511380880121, 0.9157511380880121, 0.9173596358118361, 0.9173596358118361]}], \"average_precision_score_micro\": [{\"categories\": [\"0\", \"1\", \"2\", \"3\", \"4\", \"5\", \"6\", \"7\", \"8\", \"9\", \"10\", \"11\", \"12\", \"13\", \"14\", \"15\", \"16\", \"17\", \"18\", \"19\", \"20\", \"21\", \"22\", \"23\", \"24\", \"25\", \"26\", \"27\", \"28\", \"29\", \"30\", \"31\", \"32\", \"33\", \"34\", \"35\", \"36\", \"37\", \"38\", \"39\", \"40\", \"41\", \"42\", \"43\", \"44\", \"45\", \"46\", \"47\", \"48\", \"49\", \"50\", \"51\", \"52\", \"53\", \"54\", \"55\", \"56\", \"57\", \"58\", \"59\", \"60\", \"61\", \"62\", \"63\", \"64\", \"65\", \"66\", \"67\", \"68\", \"69\", \"70\", \"71\", \"72\", \"73\", \"82\", \"83\"], \"mode\": \"markers\", \"name\": \"average_precision_score_micro\", \"stepped\": false, \"type\": \"scatter\", \"data\": [0.9819249599078559, 0.9814861894412988, 0.9728902072923804, 0.9680559002058275, 0.9711202837569504, 0.9039235331771733, 0.9747936010641991, 0.9614427349245631, 0.8357305791814238, 0.9692469982257748, 0.9639397074331988, 0.8776935756101842, 0.8035746582142564, 0.9687553917883802, 0.9698585760806677, 0.9644271004403157, 0.9623701365707206, 0.8842382491415668, 0.8701841891431308, 0.8520464745871159, 0.8152175638800057, 0.7862244552361733, 0.9737333466597644, 0.9044099004152624, 0.9671556864719847, 0.8444853171103501, 0.9703360377951041, 0.8227476669923423, 0.8832067008213231, 0.9703615102911988, 0.932239397292524, 0.9740934179266215, 0.9776560776976343, 0.9705040989126452, 0.9774041220744369, 0.8444853171103501, 0.9805667108072809, 0.9761102603712464, 0.9721956863820516, 0.965127612306669, 0.8444853171103501, 0.973987849926403, 0.9549788436917087, 0.9788905001880014, 0.9791931896884207, 0.9597834569077239, 0.9552066802457247, 0.9705322532012264, 0.9788073667779859, 0.9808576570802326, 0.9810134262649397, 0.9811658079078626, 0.9806275083823612, 0.9698953368412774, 0.9798460329737988, 0.980955482293723, 0.9809647839072333, 0.9786856014903369, 0.9735839993226962, 0.9813643418010518, 0.9811553941008395, 0.979300388911479, 0.971710879307318, 0.9811104581383219, 0.9816410481069495, 0.9791927414116934, 0.9801807141693427, 0.98081373873442, 0.9620188152347356, 0.9803603090500111, 0.9803240041885427, 0.9803348935441436, 0.9816475081538668, 0.9768551144991081, 0.981971314822594, 0.9821249819286691]}, {\"categories\": [\"0\", \"1\", \"2\", \"3\", \"4\", \"5\", \"6\", \"7\", \"8\", \"9\", \"10\", \"11\", \"12\", \"13\", \"14\", \"15\", \"16\", \"17\", \"18\", \"19\", \"20\", \"21\", \"22\", \"23\", \"24\", \"25\", \"26\", \"27\", \"28\", \"29\", \"30\", \"31\", \"32\", \"33\", \"34\", \"35\", \"36\", \"37\", \"38\", \"39\", \"40\", \"41\", \"42\", \"43\", \"44\", \"45\", \"46\", \"47\", \"48\", \"49\", \"50\", \"51\", \"52\", \"53\", \"54\", \"55\", \"56\", \"57\", \"58\", \"59\", \"60\", \"61\", \"62\", \"63\", \"64\", \"65\", \"66\", \"67\", \"68\", \"69\", \"70\", \"71\", \"72\", \"73\", \"82\", \"83\"], \"mode\": \"lines\", \"name\": \"average_precision_score_micro_max\", \"stepped\": true, \"type\": \"scatter\", \"data\": [0.9819249599078559, 0.9819249599078559, 0.9819249599078559, 0.9819249599078559, 0.9819249599078559, 0.9819249599078559, 0.9819249599078559, 0.9819249599078559, 0.9819249599078559, 0.9819249599078559, 0.9819249599078559, 0.9819249599078559, 0.9819249599078559, 0.9819249599078559, 0.9819249599078559, 0.9819249599078559, 0.9819249599078559, 0.9819249599078559, 0.9819249599078559, 0.9819249599078559, 0.9819249599078559, 0.9819249599078559, 0.9819249599078559, 0.9819249599078559, 0.9819249599078559, 0.9819249599078559, 0.9819249599078559, 0.9819249599078559, 0.9819249599078559, 0.9819249599078559, 0.9819249599078559, 0.9819249599078559, 0.9819249599078559, 0.9819249599078559, 0.9819249599078559, 0.9819249599078559, 0.9819249599078559, 0.9819249599078559, 0.9819249599078559, 0.9819249599078559, 0.9819249599078559, 0.9819249599078559, 0.9819249599078559, 0.9819249599078559, 0.9819249599078559, 0.9819249599078559, 0.9819249599078559, 0.9819249599078559, 0.9819249599078559, 0.9819249599078559, 0.9819249599078559, 0.9819249599078559, 0.9819249599078559, 0.9819249599078559, 0.9819249599078559, 0.9819249599078559, 0.9819249599078559, 0.9819249599078559, 0.9819249599078559, 0.9819249599078559, 0.9819249599078559, 0.9819249599078559, 0.9819249599078559, 0.9819249599078559, 0.9819249599078559, 0.9819249599078559, 0.9819249599078559, 0.9819249599078559, 0.9819249599078559, 0.9819249599078559, 0.9819249599078559, 0.9819249599078559, 0.9819249599078559, 0.9819249599078559, 0.981971314822594, 0.9821249819286691]}], \"weighted_accuracy\": [{\"categories\": [\"0\", \"1\", \"2\", \"3\", \"4\", \"5\", \"6\", \"7\", \"8\", \"9\", \"10\", \"11\", \"12\", \"13\", \"14\", \"15\", \"16\", \"17\", \"18\", \"19\", \"20\", \"21\", \"22\", \"23\", \"24\", \"25\", \"26\", \"27\", \"28\", \"29\", \"30\", \"31\", \"32\", \"33\", \"34\", \"35\", \"36\", \"37\", \"38\", \"39\", \"40\", \"41\", \"42\", \"43\", \"44\", \"45\", \"46\", \"47\", \"48\", \"49\", \"50\", \"51\", \"52\", \"53\", \"54\", \"55\", \"56\", \"57\", \"58\", \"59\", \"60\", \"61\", \"62\", \"63\", \"64\", \"65\", \"66\", \"67\", \"68\", \"69\", \"70\", \"71\", \"72\", \"73\", \"82\", \"83\"], \"mode\": \"markers\", \"name\": \"weighted_accuracy\", \"stepped\": false, \"type\": \"scatter\", \"data\": [0.9550502113697259, 0.9602176678590453, 0.9815319935403746, 0.963839501382242, 0.9843203159290127, 0.8556468795400811, 0.9790812279675972, 0.9804420047010938, 0.8154983529568721, 0.9695793738081433, 0.9635531348576217, 0.8462066917900746, 0.7242292965344134, 0.9639051963268482, 0.9764538510546681, 0.9778519351748788, 0.9767285550910472, 0.7918469143907475, 0.8370319304510015, 0.8371464049824736, 0.8128154585605458, 0.726028599044304, 0.9809456351412897, 0.8594461919621909, 0.9792999845785662, 0.9843203159290127, 0.9681454185240561, 0.7668054946216211, 0.7584814621656881, 0.9843203159290127, 0.9842406497790736, 0.9843203159290127, 0.9536427813811714, 0.9778193076214843, 0.9575456476454409, 0.9843203159290127, 0.958398681748772, 0.9837140938622653, 0.9767859292311236, 0.9843203159290127, 0.9843203159290127, 0.977149549652664, 0.9843203159290127, 0.9767894141261729, 0.9584899853005527, 0.9835490181208051, 0.9843203159290127, 0.9696747341911658, 0.9580019338653335, 0.9529788690303199, 0.9549181754040937, 0.9551444760104832, 0.9546597572358435, 0.9649695489760616, 0.965830433491948, 0.9610643506095402, 0.9600931933440544, 0.9584163948157837, 0.9536703864242595, 0.9646616504198604, 0.9528794080958232, 0.9569642912450789, 0.9843203159290127, 0.9579851503420255, 0.9602904589491397, 0.9624951761799515, 0.9540332319828189, 0.9534461285490352, 0.9814481044925343, 0.9540190581533178, 0.9664155486281226, 0.962314449823235, 0.9545495871689281, 0.960789593054782, 0.9613634437923123, 0.9594583189508021]}, {\"categories\": [\"0\", \"1\", \"2\", \"3\", \"4\", \"5\", \"6\", \"7\", \"8\", \"9\", \"10\", \"11\", \"12\", \"13\", \"14\", \"15\", \"16\", \"17\", \"18\", \"19\", \"20\", \"21\", \"22\", \"23\", \"24\", \"25\", \"26\", \"27\", \"28\", \"29\", \"30\", \"31\", \"32\", \"33\", \"34\", \"35\", \"36\", \"37\", \"38\", \"39\", \"40\", \"41\", \"42\", \"43\", \"44\", \"45\", \"46\", \"47\", \"48\", \"49\", \"50\", \"51\", \"52\", \"53\", \"54\", \"55\", \"56\", \"57\", \"58\", \"59\", \"60\", \"61\", \"62\", \"63\", \"64\", \"65\", \"66\", \"67\", \"68\", \"69\", \"70\", \"71\", \"72\", \"73\", \"82\", \"83\"], \"mode\": \"lines\", \"name\": \"weighted_accuracy_max\", \"stepped\": true, \"type\": \"scatter\", \"data\": [0.9550502113697259, 0.9602176678590453, 0.9815319935403746, 0.9815319935403746, 0.9843203159290127, 0.9843203159290127, 0.9843203159290127, 0.9843203159290127, 0.9843203159290127, 0.9843203159290127, 0.9843203159290127, 0.9843203159290127, 0.9843203159290127, 0.9843203159290127, 0.9843203159290127, 0.9843203159290127, 0.9843203159290127, 0.9843203159290127, 0.9843203159290127, 0.9843203159290127, 0.9843203159290127, 0.9843203159290127, 0.9843203159290127, 0.9843203159290127, 0.9843203159290127, 0.9843203159290127, 0.9843203159290127, 0.9843203159290127, 0.9843203159290127, 0.9843203159290127, 0.9843203159290127, 0.9843203159290127, 0.9843203159290127, 0.9843203159290127, 0.9843203159290127, 0.9843203159290127, 0.9843203159290127, 0.9843203159290127, 0.9843203159290127, 0.9843203159290127, 0.9843203159290127, 0.9843203159290127, 0.9843203159290127, 0.9843203159290127, 0.9843203159290127, 0.9843203159290127, 0.9843203159290127, 0.9843203159290127, 0.9843203159290127, 0.9843203159290127, 0.9843203159290127, 0.9843203159290127, 0.9843203159290127, 0.9843203159290127, 0.9843203159290127, 0.9843203159290127, 0.9843203159290127, 0.9843203159290127, 0.9843203159290127, 0.9843203159290127, 0.9843203159290127, 0.9843203159290127, 0.9843203159290127, 0.9843203159290127, 0.9843203159290127, 0.9843203159290127, 0.9843203159290127, 0.9843203159290127, 0.9843203159290127, 0.9843203159290127, 0.9843203159290127, 0.9843203159290127, 0.9843203159290127, 0.9843203159290127, 0.9843203159290127, 0.9843203159290127]}], \"precision_score_macro\": [{\"categories\": [\"0\", \"1\", \"2\", \"3\", \"4\", \"5\", \"6\", \"7\", \"8\", \"9\", \"10\", \"11\", \"12\", \"13\", \"14\", \"15\", \"16\", \"17\", \"18\", \"19\", \"20\", \"21\", \"22\", \"23\", \"24\", \"25\", \"26\", \"27\", \"28\", \"29\", \"30\", \"31\", \"32\", \"33\", \"34\", \"35\", \"36\", \"37\", \"38\", \"39\", \"40\", \"41\", \"42\", \"43\", \"44\", \"45\", \"46\", \"47\", \"48\", \"49\", \"50\", \"51\", \"52\", \"53\", \"54\", \"55\", \"56\", \"57\", \"58\", \"59\", \"60\", \"61\", \"62\", \"63\", \"64\", \"65\", \"66\", \"67\", \"68\", \"69\", \"70\", \"71\", \"72\", \"73\", \"82\", \"83\"], \"mode\": \"markers\", \"name\": \"precision_score_macro\", \"stepped\": false, \"type\": \"scatter\", \"data\": [0.7934237201858914, 0.8002290534064584, 0.8453661524051281, 0.7891970656049324, 0.4439757207890744, 0.7051050231382734, 0.8297521023825937, 0.8186820466213861, 0.6432224912655641, 0.7948398121553975, 0.7784653574000521, 0.6968738325055519, 0.5986755834154985, 0.7884663828972365, 0.7946684822809473, 0.8075900120114212, 0.7956376575232764, 0.6646522813461246, 0.6944048609098237, 0.6605796206802844, 0.6391300948741557, 0.599650188192008, 0.8342484037383631, 0.7051083129539535, 0.815244028793287, 0.4439757207890744, 0.7911340760581755, 0.6147529831941861, 0.647655261287295, 0.4439757207890744, 0.5065380372460138, 0.4439757207890744, 0.7933210575563614, 0.8069956997650213, 0.7949878684479581, 0.4439757207890744, 0.794178155410496, 0.8761468172070366, 0.8002094570859889, 0.4439757207890744, 0.4439757207890744, 0.8032030578488799, 0.4439757207890744, 0.8267059403255196, 0.7826461591601523, 0.8688962383088338, 0.4439757207890744, 0.8024274474771795, 0.7788028434574888, 0.7807629575903899, 0.7884684721585593, 0.7880575625654048, 0.7873115275454132, 0.7947207567270114, 0.8040229228845573, 0.7937270364962783, 0.796429389819579, 0.7777420618025922, 0.7847752532175731, 0.8072861400650675, 0.7824038562390155, 0.7794656393830158, 0.4439757207890744, 0.7899842631656983, 0.8002010299176954, 0.8010261069800986, 0.7820005413051916, 0.7867890380618038, 0.8306796222893743, 0.7858371943981559, 0.8053583879160338, 0.7997588218705542, 0.7892648132276332, 0.7899081087610322, 0.8066142685046469, 0.8028999467193862]}, {\"categories\": [\"0\", \"1\", \"2\", \"3\", \"4\", \"5\", \"6\", \"7\", \"8\", \"9\", \"10\", \"11\", \"12\", \"13\", \"14\", \"15\", \"16\", \"17\", \"18\", \"19\", \"20\", \"21\", \"22\", \"23\", \"24\", \"25\", \"26\", \"27\", \"28\", \"29\", \"30\", \"31\", \"32\", \"33\", \"34\", \"35\", \"36\", \"37\", \"38\", \"39\", \"40\", \"41\", \"42\", \"43\", \"44\", \"45\", \"46\", \"47\", \"48\", \"49\", \"50\", \"51\", \"52\", \"53\", \"54\", \"55\", \"56\", \"57\", \"58\", \"59\", \"60\", \"61\", \"62\", \"63\", \"64\", \"65\", \"66\", \"67\", \"68\", \"69\", \"70\", \"71\", \"72\", \"73\", \"82\", \"83\"], \"mode\": \"lines\", \"name\": \"precision_score_macro_max\", \"stepped\": true, \"type\": \"scatter\", \"data\": [0.7934237201858914, 0.8002290534064584, 0.8453661524051281, 0.8453661524051281, 0.8453661524051281, 0.8453661524051281, 0.8453661524051281, 0.8453661524051281, 0.8453661524051281, 0.8453661524051281, 0.8453661524051281, 0.8453661524051281, 0.8453661524051281, 0.8453661524051281, 0.8453661524051281, 0.8453661524051281, 0.8453661524051281, 0.8453661524051281, 0.8453661524051281, 0.8453661524051281, 0.8453661524051281, 0.8453661524051281, 0.8453661524051281, 0.8453661524051281, 0.8453661524051281, 0.8453661524051281, 0.8453661524051281, 0.8453661524051281, 0.8453661524051281, 0.8453661524051281, 0.8453661524051281, 0.8453661524051281, 0.8453661524051281, 0.8453661524051281, 0.8453661524051281, 0.8453661524051281, 0.8453661524051281, 0.8761468172070366, 0.8761468172070366, 0.8761468172070366, 0.8761468172070366, 0.8761468172070366, 0.8761468172070366, 0.8761468172070366, 0.8761468172070366, 0.8761468172070366, 0.8761468172070366, 0.8761468172070366, 0.8761468172070366, 0.8761468172070366, 0.8761468172070366, 0.8761468172070366, 0.8761468172070366, 0.8761468172070366, 0.8761468172070366, 0.8761468172070366, 0.8761468172070366, 0.8761468172070366, 0.8761468172070366, 0.8761468172070366, 0.8761468172070366, 0.8761468172070366, 0.8761468172070366, 0.8761468172070366, 0.8761468172070366, 0.8761468172070366, 0.8761468172070366, 0.8761468172070366, 0.8761468172070366, 0.8761468172070366, 0.8761468172070366, 0.8761468172070366, 0.8761468172070366, 0.8761468172070366, 0.8761468172070366, 0.8761468172070366]}], \"accuracy\": [{\"categories\": [\"0\", \"1\", \"2\", \"3\", \"4\", \"5\", \"6\", \"7\", \"8\", \"9\", \"10\", \"11\", \"12\", \"13\", \"14\", \"15\", \"16\", \"17\", \"18\", \"19\", \"20\", \"21\", \"22\", \"23\", \"24\", \"25\", \"26\", \"27\", \"28\", \"29\", \"30\", \"31\", \"32\", \"33\", \"34\", \"35\", \"36\", \"37\", \"38\", \"39\", \"40\", \"41\", \"42\", \"43\", \"44\", \"45\", \"46\", \"47\", \"48\", \"49\", \"50\", \"51\", \"52\", \"53\", \"54\", \"55\", \"56\", \"57\", \"58\", \"59\", \"60\", \"61\", \"62\", \"63\", \"64\", \"65\", \"66\", \"67\", \"68\", \"69\", \"70\", \"71\", \"72\", \"73\", \"82\", \"83\"], \"mode\": \"markers\", \"name\": \"accuracy\", \"stepped\": false, \"type\": \"scatter\", \"data\": [0.915113808801214, 0.9152352048558422, 0.898877086494689, 0.9087708649468894, 0.8879514415781488, 0.8563581183611534, 0.9028224582701062, 0.8969954476479515, 0.8051896813353567, 0.9057359635811837, 0.9040364188163885, 0.8468285280728377, 0.7228224582701062, 0.9071927162367223, 0.8989681335356602, 0.9001213960546283, 0.8988163884673748, 0.8002731411229135, 0.8418209408194233, 0.8258270106221547, 0.8014264036418816, 0.7245523520485584, 0.899544764795144, 0.8575720789074357, 0.8993323216995448, 0.8879514415781488, 0.906555386949924, 0.7603945371775417, 0.7706221547799696, 0.8879514415781488, 0.8880121396054628, 0.8879514415781488, 0.9157511380880121, 0.9000910470409712, 0.9146585735963582, 0.8879514415781488, 0.9138391502276176, 0.8976934749620638, 0.8998482549317147, 0.8879514415781488, 0.8879514415781488, 0.9001517450682852, 0.8879514415781488, 0.907040971168437, 0.9091957511380879, 0.896267071320182, 0.8879514415781488, 0.9086798179059181, 0.9080121396054628, 0.9105918057663125, 0.9131107738998484, 0.9128376327769347, 0.9127465857359637, 0.9099241274658574, 0.9127162367223065, 0.9122610015174507, 0.9137481031866465, 0.9074051593323217, 0.9119575113808802, 0.9150834597875569, 0.911350531107739, 0.9085887708649469, 0.8879514415781488, 0.9123216995447649, 0.9153566009104704, 0.9142943854324734, 0.9105311077389985, 0.9128983308042489, 0.897238239757208, 0.912382397572079, 0.9127162367223065, 0.913444613050076, 0.9136267071320182, 0.9107435508345979, 0.9173596358118361, 0.9169650986342944]}, {\"categories\": [\"0\", \"1\", \"2\", \"3\", \"4\", \"5\", \"6\", \"7\", \"8\", \"9\", \"10\", \"11\", \"12\", \"13\", \"14\", \"15\", \"16\", \"17\", \"18\", \"19\", \"20\", \"21\", \"22\", \"23\", \"24\", \"25\", \"26\", \"27\", \"28\", \"29\", \"30\", \"31\", \"32\", \"33\", \"34\", \"35\", \"36\", \"37\", \"38\", \"39\", \"40\", \"41\", \"42\", \"43\", \"44\", \"45\", \"46\", \"47\", \"48\", \"49\", \"50\", \"51\", \"52\", \"53\", \"54\", \"55\", \"56\", \"57\", \"58\", \"59\", \"60\", \"61\", \"62\", \"63\", \"64\", \"65\", \"66\", \"67\", \"68\", \"69\", \"70\", \"71\", \"72\", \"73\", \"82\", \"83\"], \"mode\": \"lines\", \"name\": \"accuracy_max\", \"stepped\": true, \"type\": \"scatter\", \"data\": [0.915113808801214, 0.9152352048558422, 0.9152352048558422, 0.9152352048558422, 0.9152352048558422, 0.9152352048558422, 0.9152352048558422, 0.9152352048558422, 0.9152352048558422, 0.9152352048558422, 0.9152352048558422, 0.9152352048558422, 0.9152352048558422, 0.9152352048558422, 0.9152352048558422, 0.9152352048558422, 0.9152352048558422, 0.9152352048558422, 0.9152352048558422, 0.9152352048558422, 0.9152352048558422, 0.9152352048558422, 0.9152352048558422, 0.9152352048558422, 0.9152352048558422, 0.9152352048558422, 0.9152352048558422, 0.9152352048558422, 0.9152352048558422, 0.9152352048558422, 0.9152352048558422, 0.9152352048558422, 0.9157511380880121, 0.9157511380880121, 0.9157511380880121, 0.9157511380880121, 0.9157511380880121, 0.9157511380880121, 0.9157511380880121, 0.9157511380880121, 0.9157511380880121, 0.9157511380880121, 0.9157511380880121, 0.9157511380880121, 0.9157511380880121, 0.9157511380880121, 0.9157511380880121, 0.9157511380880121, 0.9157511380880121, 0.9157511380880121, 0.9157511380880121, 0.9157511380880121, 0.9157511380880121, 0.9157511380880121, 0.9157511380880121, 0.9157511380880121, 0.9157511380880121, 0.9157511380880121, 0.9157511380880121, 0.9157511380880121, 0.9157511380880121, 0.9157511380880121, 0.9157511380880121, 0.9157511380880121, 0.9157511380880121, 0.9157511380880121, 0.9157511380880121, 0.9157511380880121, 0.9157511380880121, 0.9157511380880121, 0.9157511380880121, 0.9157511380880121, 0.9157511380880121, 0.9157511380880121, 0.9173596358118361, 0.9173596358118361]}], \"balanced_accuracy\": [{\"categories\": [\"0\", \"1\", \"2\", \"3\", \"4\", \"5\", \"6\", \"7\", \"8\", \"9\", \"10\", \"11\", \"12\", \"13\", \"14\", \"15\", \"16\", \"17\", \"18\", \"19\", \"20\", \"21\", \"22\", \"23\", \"24\", \"25\", \"26\", \"27\", \"28\", \"29\", \"30\", \"31\", \"32\", \"33\", \"34\", \"35\", \"36\", \"37\", \"38\", \"39\", \"40\", \"41\", \"42\", \"43\", \"44\", \"45\", \"46\", \"47\", \"48\", \"49\", \"50\", \"51\", \"52\", \"53\", \"54\", \"55\", \"56\", \"57\", \"58\", \"59\", \"60\", \"61\", \"62\", \"63\", \"64\", \"65\", \"66\", \"67\", \"68\", \"69\", \"70\", \"71\", \"72\", \"73\", \"82\", \"83\"], \"mode\": \"markers\", \"name\": \"balanced_accuracy\", \"stepped\": false, \"type\": \"scatter\", \"data\": [0.7544009480534859, 0.7340688589506685, 0.565975740928999, 0.6869043050618898, 0.5, 0.8592866044121588, 0.5957956459436601, 0.5610162721982525, 0.7635514201642186, 0.6488759572862237, 0.6646056892231069, 0.8495446241560209, 0.7171862383385103, 0.6790361704038524, 0.5871315639194447, 0.5871809637817609, 0.585163780863841, 0.8343924998295833, 0.8611050355950824, 0.7803206203115004, 0.7554524125409061, 0.7186299382367165, 0.5718078704892657, 0.8499077921564849, 0.5773783644238264, 0.5, 0.6584408846347268, 0.7345308774514148, 0.8193053500557749, 0.5, 0.5006243936243936, 0.5, 0.7632007365144848, 0.5871536276980402, 0.7419853049641129, 0.5, 0.7345153115674934, 0.5513918718906988, 0.5900440742532815, 0.5, 0.5, 0.5901856746173061, 0.5, 0.626319073693822, 0.7106762691831425, 0.5447548117443083, 0.5, 0.6630850579619839, 0.7066477884876265, 0.7399627596369408, 0.7447759563997239, 0.742550218692682, 0.7440509274317838, 0.6882487490798548, 0.6988443827478349, 0.7157151230000693, 0.7271528103860737, 0.701973338340359, 0.7440058850912116, 0.7154548105402906, 0.744181637090261, 0.7137413879930152, 0.5, 0.7284244329691645, 0.7344412872687248, 0.7202039883905602, 0.7353191730052175, 0.7497165195469353, 0.558150752080542, 0.7448203656394684, 0.6965893470460595, 0.7166769674880408, 0.748907033575948, 0.7092651244799211, 0.740178090835633, 0.7458470253132573]}, {\"categories\": [\"0\", \"1\", \"2\", \"3\", \"4\", \"5\", \"6\", \"7\", \"8\", \"9\", \"10\", \"11\", \"12\", \"13\", \"14\", \"15\", \"16\", \"17\", \"18\", \"19\", \"20\", \"21\", \"22\", \"23\", \"24\", \"25\", \"26\", \"27\", \"28\", \"29\", \"30\", \"31\", \"32\", \"33\", \"34\", \"35\", \"36\", \"37\", \"38\", \"39\", \"40\", \"41\", \"42\", \"43\", \"44\", \"45\", \"46\", \"47\", \"48\", \"49\", \"50\", \"51\", \"52\", \"53\", \"54\", \"55\", \"56\", \"57\", \"58\", \"59\", \"60\", \"61\", \"62\", \"63\", \"64\", \"65\", \"66\", \"67\", \"68\", \"69\", \"70\", \"71\", \"72\", \"73\", \"82\", \"83\"], \"mode\": \"lines\", \"name\": \"balanced_accuracy_max\", \"stepped\": true, \"type\": \"scatter\", \"data\": [0.7544009480534859, 0.7544009480534859, 0.7544009480534859, 0.7544009480534859, 0.7544009480534859, 0.8592866044121588, 0.8592866044121588, 0.8592866044121588, 0.8592866044121588, 0.8592866044121588, 0.8592866044121588, 0.8592866044121588, 0.8592866044121588, 0.8592866044121588, 0.8592866044121588, 0.8592866044121588, 0.8592866044121588, 0.8592866044121588, 0.8611050355950824, 0.8611050355950824, 0.8611050355950824, 0.8611050355950824, 0.8611050355950824, 0.8611050355950824, 0.8611050355950824, 0.8611050355950824, 0.8611050355950824, 0.8611050355950824, 0.8611050355950824, 0.8611050355950824, 0.8611050355950824, 0.8611050355950824, 0.8611050355950824, 0.8611050355950824, 0.8611050355950824, 0.8611050355950824, 0.8611050355950824, 0.8611050355950824, 0.8611050355950824, 0.8611050355950824, 0.8611050355950824, 0.8611050355950824, 0.8611050355950824, 0.8611050355950824, 0.8611050355950824, 0.8611050355950824, 0.8611050355950824, 0.8611050355950824, 0.8611050355950824, 0.8611050355950824, 0.8611050355950824, 0.8611050355950824, 0.8611050355950824, 0.8611050355950824, 0.8611050355950824, 0.8611050355950824, 0.8611050355950824, 0.8611050355950824, 0.8611050355950824, 0.8611050355950824, 0.8611050355950824, 0.8611050355950824, 0.8611050355950824, 0.8611050355950824, 0.8611050355950824, 0.8611050355950824, 0.8611050355950824, 0.8611050355950824, 0.8611050355950824, 0.8611050355950824, 0.8611050355950824, 0.8611050355950824, 0.8611050355950824, 0.8611050355950824, 0.8611050355950824, 0.8611050355950824]}], \"AUC_micro\": [{\"categories\": [\"0\", \"1\", \"2\", \"3\", \"4\", \"5\", \"6\", \"7\", \"8\", \"9\", \"10\", \"11\", \"12\", \"13\", \"14\", \"15\", \"16\", \"17\", \"18\", \"19\", \"20\", \"21\", \"22\", \"23\", \"24\", \"25\", \"26\", \"27\", \"28\", \"29\", \"30\", \"31\", \"32\", \"33\", \"34\", \"35\", \"36\", \"37\", \"38\", \"39\", \"40\", \"41\", \"42\", \"43\", \"44\", \"45\", \"46\", \"47\", \"48\", \"49\", \"50\", \"51\", \"52\", \"53\", \"54\", \"55\", \"56\", \"57\", \"58\", \"59\", \"60\", \"61\", \"62\", \"63\", \"64\", \"65\", \"66\", \"67\", \"68\", \"69\", \"70\", \"71\", \"72\", \"73\", \"82\", \"83\"], \"mode\": \"markers\", \"name\": \"AUC_micro\", \"stepped\": false, \"type\": \"scatter\", \"data\": [0.981119224649478, 0.9806522528040601, 0.971865207089419, 0.9714091291122567, 0.9700689875909838, 0.9180824903691388, 0.9737698402647134, 0.9606238080873905, 0.8671133666911517, 0.9709349614650422, 0.9682718493325749, 0.9048017343609324, 0.8026824889875449, 0.9724755722677253, 0.9697000743758075, 0.9633529442918295, 0.9617501064978666, 0.8873234887089234, 0.9001919126095776, 0.8779736253715912, 0.8534541276270435, 0.8291003889186955, 0.9726082559448835, 0.9193664654912371, 0.9660672652038658, 0.8879514415781488, 0.9717426136533718, 0.8512047591306089, 0.8775995403897477, 0.9689804941961541, 0.947893585029048, 0.973665437815608, 0.9783154777666996, 0.9692378667268426, 0.97808338379989, 0.8879514415781488, 0.9797110925875183, 0.9752571031198695, 0.9709866514998353, 0.9640683566630821, 0.8879514415781488, 0.9728026139757437, 0.9551768601435476, 0.9779337019118957, 0.9781829046170566, 0.964357215719776, 0.9554160923457392, 0.9726370023095645, 0.9778032103637967, 0.979966747336402, 0.9801633021016347, 0.9802992348272204, 0.9797491094475695, 0.9731400544808546, 0.9789714815983199, 0.9801347261335402, 0.9801470522541857, 0.9776926598216363, 0.9755043854094468, 0.9806130132333672, 0.9802761253658346, 0.9783163573815109, 0.9705920728744752, 0.9802268116726267, 0.9809254699146404, 0.9790745208747331, 0.9792591570895344, 0.9799479162109325, 0.961046142935104, 0.9794885293162722, 0.9796658246619124, 0.9796020963385459, 0.9808186588867576, 0.9769352654157102, 0.9812158717512393, 0.9813374842555858]}, {\"categories\": [\"0\", \"1\", \"2\", \"3\", \"4\", \"5\", \"6\", \"7\", \"8\", \"9\", \"10\", \"11\", \"12\", \"13\", \"14\", \"15\", \"16\", \"17\", \"18\", \"19\", \"20\", \"21\", \"22\", \"23\", \"24\", \"25\", \"26\", \"27\", \"28\", \"29\", \"30\", \"31\", \"32\", \"33\", \"34\", \"35\", \"36\", \"37\", \"38\", \"39\", \"40\", \"41\", \"42\", \"43\", \"44\", \"45\", \"46\", \"47\", \"48\", \"49\", \"50\", \"51\", \"52\", \"53\", \"54\", \"55\", \"56\", \"57\", \"58\", \"59\", \"60\", \"61\", \"62\", \"63\", \"64\", \"65\", \"66\", \"67\", \"68\", \"69\", \"70\", \"71\", \"72\", \"73\", \"82\", \"83\"], \"mode\": \"lines\", \"name\": \"AUC_micro_max\", \"stepped\": true, \"type\": \"scatter\", \"data\": [0.981119224649478, 0.981119224649478, 0.981119224649478, 0.981119224649478, 0.981119224649478, 0.981119224649478, 0.981119224649478, 0.981119224649478, 0.981119224649478, 0.981119224649478, 0.981119224649478, 0.981119224649478, 0.981119224649478, 0.981119224649478, 0.981119224649478, 0.981119224649478, 0.981119224649478, 0.981119224649478, 0.981119224649478, 0.981119224649478, 0.981119224649478, 0.981119224649478, 0.981119224649478, 0.981119224649478, 0.981119224649478, 0.981119224649478, 0.981119224649478, 0.981119224649478, 0.981119224649478, 0.981119224649478, 0.981119224649478, 0.981119224649478, 0.981119224649478, 0.981119224649478, 0.981119224649478, 0.981119224649478, 0.981119224649478, 0.981119224649478, 0.981119224649478, 0.981119224649478, 0.981119224649478, 0.981119224649478, 0.981119224649478, 0.981119224649478, 0.981119224649478, 0.981119224649478, 0.981119224649478, 0.981119224649478, 0.981119224649478, 0.981119224649478, 0.981119224649478, 0.981119224649478, 0.981119224649478, 0.981119224649478, 0.981119224649478, 0.981119224649478, 0.981119224649478, 0.981119224649478, 0.981119224649478, 0.981119224649478, 0.981119224649478, 0.981119224649478, 0.981119224649478, 0.981119224649478, 0.981119224649478, 0.981119224649478, 0.981119224649478, 0.981119224649478, 0.981119224649478, 0.981119224649478, 0.981119224649478, 0.981119224649478, 0.981119224649478, 0.981119224649478, 0.9812158717512393, 0.9813374842555858]}], \"AUC_weighted\": [{\"categories\": [\"0\", \"1\", \"2\", \"3\", \"4\", \"5\", \"6\", \"7\", \"8\", \"9\", \"10\", \"11\", \"12\", \"13\", \"14\", \"15\", \"16\", \"17\", \"18\", \"19\", \"20\", \"21\", \"22\", \"23\", \"24\", \"25\", \"26\", \"27\", \"28\", \"29\", \"30\", \"31\", \"32\", \"33\", \"34\", \"35\", \"36\", \"37\", \"38\", \"39\", \"40\", \"41\", \"42\", \"43\", \"44\", \"45\", \"46\", \"47\", \"48\", \"49\", \"50\", \"51\", \"52\", \"53\", \"54\", \"55\", \"56\", \"57\", \"58\", \"59\", \"60\", \"61\", \"62\", \"63\", \"64\", \"65\", \"66\", \"67\", \"68\", \"69\", \"70\", \"71\", \"72\", \"73\", \"82\", \"83\"], \"mode\": \"markers\", \"name\": \"AUC_weighted\", \"stepped\": false, \"type\": \"scatter\", \"data\": [0.9491410242912469, 0.9472483786758064, 0.9194552877449365, 0.9200759003816394, 0.9126914608872942, 0.9284131894662291, 0.9259525115867266, 0.8637828261342957, 0.8761881055182016, 0.9150920386741574, 0.9130841103100119, 0.9243448979198972, 0.8083377484245613, 0.9275983645588022, 0.9089984046197819, 0.8767442032309323, 0.869012628879948, 0.9039590016820978, 0.9274316609972034, 0.8892762364575197, 0.8295784703295362, 0.8215476343305855, 0.9223814553625223, 0.9273084916777694, 0.8903109639929362, 0.5, 0.9179019928194648, 0.8419286420516597, 0.8936727650448191, 0.9072438214736419, 0.8012175368850943, 0.9307665540988248, 0.9363154219538297, 0.9044936516107669, 0.9354089488526753, 0.5, 0.9441171551039804, 0.9376138570252259, 0.9153946215018346, 0.8826546362053855, 0.5, 0.9203764767997139, 0.8378385952445473, 0.9421782544767539, 0.9406622297343041, 0.8819954594098082, 0.8391158680144087, 0.9206524359162733, 0.9393844957368855, 0.9457987709748602, 0.9462899629229226, 0.9466690581329307, 0.9446714532032351, 0.9269230525567884, 0.9420833762791825, 0.9461246185087242, 0.9456567903786516, 0.9386393418714288, 0.9250819815628424, 0.9476540937029817, 0.9469424979864796, 0.9409227734406169, 0.9153281453491978, 0.9463622272762648, 0.9484806343518694, 0.9404211587142532, 0.9436783033427136, 0.9451285445347697, 0.8661120186384123, 0.9439671203358213, 0.9439058279490155, 0.9435572992394542, 0.9483599099883555, 0.9330295179511154, 0.9494394062500333, 0.9497655857997783]}, {\"categories\": [\"0\", \"1\", \"2\", \"3\", \"4\", \"5\", \"6\", \"7\", \"8\", \"9\", \"10\", \"11\", \"12\", \"13\", \"14\", \"15\", \"16\", \"17\", \"18\", \"19\", \"20\", \"21\", \"22\", \"23\", \"24\", \"25\", \"26\", \"27\", \"28\", \"29\", \"30\", \"31\", \"32\", \"33\", \"34\", \"35\", \"36\", \"37\", \"38\", \"39\", \"40\", \"41\", \"42\", \"43\", \"44\", \"45\", \"46\", \"47\", \"48\", \"49\", \"50\", \"51\", \"52\", \"53\", \"54\", \"55\", \"56\", \"57\", \"58\", \"59\", \"60\", \"61\", \"62\", \"63\", \"64\", \"65\", \"66\", \"67\", \"68\", \"69\", \"70\", \"71\", \"72\", \"73\", \"82\", \"83\"], \"mode\": \"lines\", \"name\": \"AUC_weighted_max\", \"stepped\": true, \"type\": \"scatter\", \"data\": [0.9491410242912469, 0.9491410242912469, 0.9491410242912469, 0.9491410242912469, 0.9491410242912469, 0.9491410242912469, 0.9491410242912469, 0.9491410242912469, 0.9491410242912469, 0.9491410242912469, 0.9491410242912469, 0.9491410242912469, 0.9491410242912469, 0.9491410242912469, 0.9491410242912469, 0.9491410242912469, 0.9491410242912469, 0.9491410242912469, 0.9491410242912469, 0.9491410242912469, 0.9491410242912469, 0.9491410242912469, 0.9491410242912469, 0.9491410242912469, 0.9491410242912469, 0.9491410242912469, 0.9491410242912469, 0.9491410242912469, 0.9491410242912469, 0.9491410242912469, 0.9491410242912469, 0.9491410242912469, 0.9491410242912469, 0.9491410242912469, 0.9491410242912469, 0.9491410242912469, 0.9491410242912469, 0.9491410242912469, 0.9491410242912469, 0.9491410242912469, 0.9491410242912469, 0.9491410242912469, 0.9491410242912469, 0.9491410242912469, 0.9491410242912469, 0.9491410242912469, 0.9491410242912469, 0.9491410242912469, 0.9491410242912469, 0.9491410242912469, 0.9491410242912469, 0.9491410242912469, 0.9491410242912469, 0.9491410242912469, 0.9491410242912469, 0.9491410242912469, 0.9491410242912469, 0.9491410242912469, 0.9491410242912469, 0.9491410242912469, 0.9491410242912469, 0.9491410242912469, 0.9491410242912469, 0.9491410242912469, 0.9491410242912469, 0.9491410242912469, 0.9491410242912469, 0.9491410242912469, 0.9491410242912469, 0.9491410242912469, 0.9491410242912469, 0.9491410242912469, 0.9491410242912469, 0.9491410242912469, 0.9494394062500333, 0.9497655857997783]}]}, \"metricName\": null, \"primaryMetricName\": \"accuracy\", \"showLegend\": false}, \"run_metrics\": [{\"name\": \"experiment_status\", \"run_id\": \"AutoML_87c610c3-3498-4e8b-abb4-0d38c5f6dc85\", \"categories\": [0, 1, 2, 3, 4, 5, 6, 7, 8, 9, 10, 11, 12, 13, 14], \"series\": [{\"data\": [\"DatasetEvaluation\", \"FeaturesGeneration\", \"DatasetFeaturization\", \"DatasetFeaturizationCompleted\", \"DatasetBalancing\", \"DatasetCrossValidationSplit\", \"ModelSelection\", \"BestRunExplainModel\", \"ModelExplanationDataSetSetup\", \"PickSurrogateModel\", \"EngineeredFeatureExplanations\", \"EngineeredFeatureExplanations\", \"RawFeaturesExplanations\", \"RawFeaturesExplanations\", \"BestRunExplainModel\"]}]}, {\"name\": \"experiment_status_description\", \"run_id\": \"AutoML_87c610c3-3498-4e8b-abb4-0d38c5f6dc85\", \"categories\": [0, 1, 2, 3, 4, 5, 6, 7, 8, 9, 10, 11, 12, 13, 14], \"series\": [{\"data\": [\"Gathering dataset statistics.\", \"Generating features for the dataset.\", \"Beginning to fit featurizers and featurize the dataset.\", \"Completed fit featurizers and featurizing the dataset.\", \"Performing class balancing sweeping\", \"Generating individually featurized CV splits.\", \"Beginning model selection.\", \"Best run model explanations started\", \"Model explanations data setup completed\", \"Choosing LightGBM as the surrogate model for explanations\", \"Computation of engineered features started\", \"Computation of engineered features completed\", \"Computation of raw features started\", \"Computation of raw features completed\", \"Best run model explanations completed\"]}]}, {\"name\": \"accuracy\", \"run_id\": \"AutoML_87c610c3-3498-4e8b-abb4-0d38c5f6dc85\", \"categories\": [0], \"series\": [{\"data\": [0.9173596358118361]}]}, {\"name\": \"precision_score_micro\", \"run_id\": \"AutoML_87c610c3-3498-4e8b-abb4-0d38c5f6dc85\", \"categories\": [0], \"series\": [{\"data\": [0.9173596358118361]}]}, {\"name\": \"average_precision_score_macro\", \"run_id\": \"AutoML_87c610c3-3498-4e8b-abb4-0d38c5f6dc85\", \"categories\": [0], \"series\": [{\"data\": [0.8291515131472782]}]}, {\"name\": \"f1_score_weighted\", \"run_id\": \"AutoML_87c610c3-3498-4e8b-abb4-0d38c5f6dc85\", \"categories\": [0], \"series\": [{\"data\": [0.9123785676563003]}]}, {\"name\": \"weighted_accuracy\", \"run_id\": \"AutoML_87c610c3-3498-4e8b-abb4-0d38c5f6dc85\", \"categories\": [0], \"series\": [{\"data\": [0.9613634437923123]}]}, {\"name\": \"AUC_micro\", \"run_id\": \"AutoML_87c610c3-3498-4e8b-abb4-0d38c5f6dc85\", \"categories\": [0], \"series\": [{\"data\": [0.9812158717512393]}]}, {\"name\": \"balanced_accuracy\", \"run_id\": \"AutoML_87c610c3-3498-4e8b-abb4-0d38c5f6dc85\", \"categories\": [0], \"series\": [{\"data\": [0.740178090835633]}]}, {\"name\": \"matthews_correlation\", \"run_id\": \"AutoML_87c610c3-3498-4e8b-abb4-0d38c5f6dc85\", \"categories\": [0], \"series\": [{\"data\": [0.542651984472623]}]}, {\"name\": \"norm_macro_recall\", \"run_id\": \"AutoML_87c610c3-3498-4e8b-abb4-0d38c5f6dc85\", \"categories\": [0], \"series\": [{\"data\": [0.48035618167126604]}]}, {\"name\": \"recall_score_weighted\", \"run_id\": \"AutoML_87c610c3-3498-4e8b-abb4-0d38c5f6dc85\", \"categories\": [0], \"series\": [{\"data\": [0.9173596358118361]}]}, {\"name\": \"average_precision_score_micro\", \"run_id\": \"AutoML_87c610c3-3498-4e8b-abb4-0d38c5f6dc85\", \"categories\": [0], \"series\": [{\"data\": [0.981971314822594]}]}, {\"name\": \"precision_score_weighted\", \"run_id\": \"AutoML_87c610c3-3498-4e8b-abb4-0d38c5f6dc85\", \"categories\": [0], \"series\": [{\"data\": [0.9102838261573876]}]}, {\"name\": \"precision_score_macro\", \"run_id\": \"AutoML_87c610c3-3498-4e8b-abb4-0d38c5f6dc85\", \"categories\": [0], \"series\": [{\"data\": [0.8066142685046469]}]}, {\"name\": \"recall_score_micro\", \"run_id\": \"AutoML_87c610c3-3498-4e8b-abb4-0d38c5f6dc85\", \"categories\": [0], \"series\": [{\"data\": [0.9173596358118361]}]}, {\"name\": \"average_precision_score_weighted\", \"run_id\": \"AutoML_87c610c3-3498-4e8b-abb4-0d38c5f6dc85\", \"categories\": [0], \"series\": [{\"data\": [0.9566241318591061]}]}, {\"name\": \"AUC_macro\", \"run_id\": \"AutoML_87c610c3-3498-4e8b-abb4-0d38c5f6dc85\", \"categories\": [0], \"series\": [{\"data\": [0.9494394062500333]}]}, {\"name\": \"recall_score_macro\", \"run_id\": \"AutoML_87c610c3-3498-4e8b-abb4-0d38c5f6dc85\", \"categories\": [0], \"series\": [{\"data\": [0.740178090835633]}]}, {\"name\": \"AUC_weighted\", \"run_id\": \"AutoML_87c610c3-3498-4e8b-abb4-0d38c5f6dc85\", \"categories\": [0], \"series\": [{\"data\": [0.9494394062500333]}]}, {\"name\": \"f1_score_macro\", \"run_id\": \"AutoML_87c610c3-3498-4e8b-abb4-0d38c5f6dc85\", \"categories\": [0], \"series\": [{\"data\": [0.767694225648893]}]}, {\"name\": \"f1_score_micro\", \"run_id\": \"AutoML_87c610c3-3498-4e8b-abb4-0d38c5f6dc85\", \"categories\": [0], \"series\": [{\"data\": [0.9173596358118361]}]}, {\"name\": \"log_loss\", \"run_id\": \"AutoML_87c610c3-3498-4e8b-abb4-0d38c5f6dc85\", \"categories\": [0], \"series\": [{\"data\": [0.21112054339299324]}]}], \"run_logs\": \"\\nRun is completed.\", \"graph\": {}, \"widget_settings\": {\"childWidgetDisplay\": \"popup\", \"send_telemetry\": false, \"log_level\": \"INFO\", \"sdk_version\": \"1.18.0\"}, \"loading\": false}"
     },
     "metadata": {},
     "output_type": "display_data"
    }
   ],
   "source": [
    "from azureml.widgets import RunDetails\n",
    "RunDetails(aml_run).show()"
   ]
  },
  {
   "cell_type": "code",
   "execution_count": 25,
   "metadata": {
    "gather": {
     "logged": 1606132454828
    }
   },
   "outputs": [
    {
     "name": "stdout",
     "output_type": "stream",
     "text": [
      "Run(Experiment: automl,\n",
      "Id: AutoML_87c610c3-3498-4e8b-abb4-0d38c5f6dc85_82,\n",
      "Type: azureml.scriptrun,\n",
      "Status: Completed)\n"
     ]
    }
   ],
   "source": [
    "run,model=aml_run.get_output() #get best run and model\n",
    "print(run)"
   ]
  },
  {
   "cell_type": "code",
   "execution_count": 41,
   "metadata": {
    "gather": {
     "logged": 1606133854881
    },
    "jupyter": {
     "outputs_hidden": false,
     "source_hidden": false
    },
    "nteract": {
     "transient": {
      "deleting": false
     }
    }
   },
   "outputs": [
    {
     "name": "stdout",
     "output_type": "stream",
     "text": [
      "Pipeline(memory=None,\n",
      "         steps=[('datatransformer',\n",
      "                 DataTransformer(enable_dnn=None, enable_feature_sweeping=None,\n",
      "                                 feature_sweeping_config=None,\n",
      "                                 feature_sweeping_timeout=None,\n",
      "                                 featurization_config=None, force_text_dnn=None,\n",
      "                                 is_cross_validation=None,\n",
      "                                 is_onnx_compatible=None, logger=None,\n",
      "                                 observer=None, task=None, working_dir=None)),\n",
      "                ('prefittedsoftvotingclassifier',...\n",
      "                                                                                               max_leaves=0,\n",
      "                                                                                               min_child_weight=1,\n",
      "                                                                                               missing=nan,\n",
      "                                                                                               n_estimators=10,\n",
      "                                                                                               n_jobs=1,\n",
      "                                                                                               nthread=None,\n",
      "                                                                                               objective='reg:logistic',\n",
      "                                                                                               random_state=0,\n",
      "                                                                                               reg_alpha=0,\n",
      "                                                                                               reg_lambda=2.5,\n",
      "                                                                                               scale_pos_weight=1,\n",
      "                                                                                               seed=None,\n",
      "                                                                                               silent=None,\n",
      "                                                                                               subsample=0.8,\n",
      "                                                                                               tree_method='auto',\n",
      "                                                                                               verbose=-10,\n",
      "                                                                                               verbosity=0))],\n",
      "                                                                     verbose=False))],\n",
      "                                               flatten_transform=None,\n",
      "                                               weights=[0.1, 0.2, 0.1, 0.1, 0.1,\n",
      "                                                        0.1, 0.1, 0.1, 0.1]))],\n",
      "         verbose=False)\n"
     ]
    }
   ],
   "source": [
    "print(model)"
   ]
  },
  {
   "cell_type": "code",
   "execution_count": 29,
   "metadata": {
    "collapsed": true,
    "gather": {
     "logged": 1606133142020
    },
    "jupyter": {
     "outputs_hidden": false,
     "source_hidden": false
    },
    "nteract": {
     "transient": {
      "deleting": false
     }
    }
   },
   "outputs": [
    {
     "name": "stdout",
     "output_type": "stream",
     "text": [
      "{'experiment_status': ['DatasetEvaluation', 'FeaturesGeneration', 'DatasetFeaturization', 'DatasetFeaturizationCompleted', 'DatasetBalancing', 'DatasetCrossValidationSplit', 'ModelSelection', 'BestRunExplainModel', 'ModelExplanationDataSetSetup', 'PickSurrogateModel', 'EngineeredFeatureExplanations', 'EngineeredFeatureExplanations', 'RawFeaturesExplanations', 'RawFeaturesExplanations', 'BestRunExplainModel'], 'experiment_status_description': ['Gathering dataset statistics.', 'Generating features for the dataset.', 'Beginning to fit featurizers and featurize the dataset.', 'Completed fit featurizers and featurizing the dataset.', 'Performing class balancing sweeping', 'Generating individually featurized CV splits.', 'Beginning model selection.', 'Best run model explanations started', 'Model explanations data setup completed', 'Choosing LightGBM as the surrogate model for explanations', 'Computation of engineered features started', 'Computation of engineered features completed', 'Computation of raw features started', 'Computation of raw features completed', 'Best run model explanations completed'], 'accuracy': 0.9173596358118361, 'precision_score_micro': 0.9173596358118361, 'average_precision_score_macro': 0.8291515131472782, 'f1_score_weighted': 0.9123785676563003, 'weighted_accuracy': 0.9613634437923123, 'AUC_micro': 0.9812158717512393, 'balanced_accuracy': 0.740178090835633, 'matthews_correlation': 0.542651984472623, 'norm_macro_recall': 0.48035618167126604, 'recall_score_weighted': 0.9173596358118361, 'average_precision_score_micro': 0.981971314822594, 'precision_score_weighted': 0.9102838261573876, 'precision_score_macro': 0.8066142685046469, 'recall_score_micro': 0.9173596358118361, 'average_precision_score_weighted': 0.9566241318591061, 'AUC_macro': 0.9494394062500333, 'recall_score_macro': 0.740178090835633, 'AUC_weighted': 0.9494394062500333, 'f1_score_macro': 0.767694225648893, 'f1_score_micro': 0.9173596358118361, 'log_loss': 0.21112054339299324}\n"
     ]
    }
   ],
   "source": [
    "metrics=aml_run.get_metrics()\n",
    "print(metrics)"
   ]
  },
  {
   "cell_type": "code",
   "execution_count": 38,
   "metadata": {
    "collapsed": true,
    "gather": {
     "logged": 1606133394908
    },
    "jupyter": {
     "outputs_hidden": false,
     "source_hidden": false
    },
    "nteract": {
     "transient": {
      "deleting": false
     }
    }
   },
   "outputs": [
    {
     "name": "stdout",
     "output_type": "stream",
     "text": [
      "experiment_status ['DatasetEvaluation', 'FeaturesGeneration', 'DatasetFeaturization', 'DatasetFeaturizationCompleted', 'DatasetBalancing', 'DatasetCrossValidationSplit', 'ModelSelection', 'BestRunExplainModel', 'ModelExplanationDataSetSetup', 'PickSurrogateModel', 'EngineeredFeatureExplanations', 'EngineeredFeatureExplanations', 'RawFeaturesExplanations', 'RawFeaturesExplanations', 'BestRunExplainModel'] \n",
      "\n",
      "experiment_status_description ['Gathering dataset statistics.', 'Generating features for the dataset.', 'Beginning to fit featurizers and featurize the dataset.', 'Completed fit featurizers and featurizing the dataset.', 'Performing class balancing sweeping', 'Generating individually featurized CV splits.', 'Beginning model selection.', 'Best run model explanations started', 'Model explanations data setup completed', 'Choosing LightGBM as the surrogate model for explanations', 'Computation of engineered features started', 'Computation of engineered features completed', 'Computation of raw features started', 'Computation of raw features completed', 'Best run model explanations completed'] \n",
      "\n",
      "accuracy 0.9173596358118361 \n",
      "\n",
      "precision_score_micro 0.9173596358118361 \n",
      "\n",
      "average_precision_score_macro 0.8291515131472782 \n",
      "\n",
      "f1_score_weighted 0.9123785676563003 \n",
      "\n",
      "weighted_accuracy 0.9613634437923123 \n",
      "\n",
      "AUC_micro 0.9812158717512393 \n",
      "\n",
      "balanced_accuracy 0.740178090835633 \n",
      "\n",
      "matthews_correlation 0.542651984472623 \n",
      "\n",
      "norm_macro_recall 0.48035618167126604 \n",
      "\n",
      "recall_score_weighted 0.9173596358118361 \n",
      "\n",
      "average_precision_score_micro 0.981971314822594 \n",
      "\n",
      "precision_score_weighted 0.9102838261573876 \n",
      "\n",
      "precision_score_macro 0.8066142685046469 \n",
      "\n",
      "recall_score_micro 0.9173596358118361 \n",
      "\n",
      "average_precision_score_weighted 0.9566241318591061 \n",
      "\n",
      "AUC_macro 0.9494394062500333 \n",
      "\n",
      "recall_score_macro 0.740178090835633 \n",
      "\n",
      "AUC_weighted 0.9494394062500333 \n",
      "\n",
      "f1_score_macro 0.767694225648893 \n",
      "\n",
      "f1_score_micro 0.9173596358118361 \n",
      "\n",
      "log_loss 0.21112054339299324 \n",
      "\n"
     ]
    }
   ],
   "source": [
    "#Display the metrics in a more understandable manner\n",
    "for i in metrics:\n",
    "    print(i, metrics[i], '\\n')\n"
   ]
  },
  {
   "cell_type": "code",
   "execution_count": 42,
   "metadata": {
    "collapsed": true,
    "gather": {
     "logged": 1606134038876
    },
    "jupyter": {
     "outputs_hidden": false,
     "source_hidden": false
    },
    "nteract": {
     "transient": {
      "deleting": false
     }
    }
   },
   "outputs": [
    {
     "data": {
      "text/plain": [
       "Model(workspace=Workspace.create(name='quick-starts-ws-127521', subscription_id='8bb47da5-84b5-43cf-bd4a-97928e5c9b08', resource_group='aml-quickstarts-127521'), name=automl_best_model.pkl, id=automl_best_model.pkl:1, version=1, tags={}, properties={})"
      ]
     },
     "execution_count": 42,
     "metadata": {},
     "output_type": "execute_result"
    }
   ],
   "source": [
    "run.register_model(model_name='automl_best_model.pkl', model_path='./outputs/') #register it"
   ]
  },
  {
   "cell_type": "code",
   "execution_count": 43,
   "metadata": {
    "collapsed": true,
    "gather": {
     "logged": 1606134376162
    },
    "jupyter": {
     "outputs_hidden": false,
     "source_hidden": false
    },
    "nteract": {
     "transient": {
      "deleting": false
     }
    }
   },
   "outputs": [],
   "source": [
    "run.download_file('outputs/model.pkl', 'best_model.pkl') #now download it"
   ]
  },
  {
   "cell_type": "code",
   "execution_count": 36,
   "metadata": {},
   "outputs": [],
   "source": [
    "compute_target.delete()"
   ]
  },
  {
   "cell_type": "code",
   "execution_count": null,
   "metadata": {},
   "outputs": [],
   "source": []
  }
 ],
 "metadata": {
  "kernel_info": {
   "name": "python3"
  },
  "kernelspec": {
   "display_name": "Python 3",
   "language": "python",
   "name": "python3"
  },
  "language_info": {
   "codemirror_mode": {
    "name": "ipython",
    "version": 3
   },
   "file_extension": ".py",
   "mimetype": "text/x-python",
   "name": "python",
   "nbconvert_exporter": "python",
   "pygments_lexer": "ipython3",
   "version": "3.7.6"
  },
  "nteract": {
   "version": "nteract-front-end@1.0.0"
  }
 },
 "nbformat": 4,
 "nbformat_minor": 4
}
